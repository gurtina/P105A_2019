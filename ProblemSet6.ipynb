{
 "cells": [
  {
   "cell_type": "markdown",
   "metadata": {},
   "source": [
    "*this notebook was adapted from \n",
    " [course notes by Dr. Kate Follette](https://github.com/kfollette/ASTR200-Spring2017)*"
   ]
  },
  {
   "cell_type": "markdown",
   "metadata": {},
   "source": [
    "### *** Names: [Insert Your Names Here;      Optional: indicate preferred pronouns]***"
   ]
  },
  {
   "cell_type": "markdown",
   "metadata": {},
   "source": [
    "# Problem Set 6             \n",
    "## PHYS 105A   Spring 2019\n",
    "\n",
    "## Contents\n",
    "\n",
    "1. Lists vs. Arrays \n",
    "2. Basics of plotting\n",
    "3. Making plots look nicer\n",
    "4. Scatter Plots"
   ]
  },
  {
   "cell_type": "markdown",
   "metadata": {},
   "source": [
    "# 1.  Creating Lists vs. Arrays of numbers\n",
    "\n",
    "Recall, we can create list of integers using the range function and converting the output to a list:\n",
    "\n",
    "`list(range(start,end,increment))`"
   ]
  },
  {
   "cell_type": "code",
   "execution_count": null,
   "metadata": {
    "collapsed": true
   },
   "outputs": [],
   "source": [
    "a = list(range(10)) # increment by 1, starting at 0\n",
    "a"
   ]
  },
  {
   "cell_type": "code",
   "execution_count": null,
   "metadata": {
    "collapsed": true
   },
   "outputs": [],
   "source": [
    "aa = list(range(1,10,2)) # increment by 2, starting at 1\n",
    "aa"
   ]
  },
  {
   "cell_type": "code",
   "execution_count": null,
   "metadata": {
    "collapsed": true
   },
   "outputs": [],
   "source": [
    "# We can also ask for the minimum value of a list of integers\n",
    "min(aa)"
   ]
  },
  {
   "cell_type": "code",
   "execution_count": null,
   "metadata": {
    "collapsed": true
   },
   "outputs": [],
   "source": [
    "# and the maximal value\n",
    "max(aa)"
   ]
  },
  {
   "cell_type": "markdown",
   "metadata": {},
   "source": [
    "Recall that `Lists` are types of containers. Another type of container is an `Array`."
   ]
  },
  {
   "cell_type": "code",
   "execution_count": 2,
   "metadata": {
    "collapsed": true
   },
   "outputs": [],
   "source": [
    "import numpy as np # we are importing the numpy package and will call it using a shortcut `np`"
   ]
  },
  {
   "cell_type": "markdown",
   "metadata": {},
   "source": [
    "numpy has a function called `arange` that generates an array of numbers"
   ]
  },
  {
   "cell_type": "code",
   "execution_count": null,
   "metadata": {
    "collapsed": true
   },
   "outputs": [],
   "source": [
    "b = np.arange(10) \n",
    "b"
   ]
  },
  {
   "cell_type": "code",
   "execution_count": null,
   "metadata": {
    "collapsed": true
   },
   "outputs": [],
   "source": [
    "bb = np.arange(1,10,2) # start at 1, increment by 2\n",
    "bb"
   ]
  },
  {
   "cell_type": "markdown",
   "metadata": {},
   "source": [
    "`Arrays` also have indices.  Like `Lists`, the first index of an array is 0"
   ]
  },
  {
   "cell_type": "code",
   "execution_count": null,
   "metadata": {
    "collapsed": true
   },
   "outputs": [],
   "source": [
    "bb[0] # the first element in the array"
   ]
  },
  {
   "cell_type": "code",
   "execution_count": null,
   "metadata": {
    "collapsed": true
   },
   "outputs": [],
   "source": [
    "bb[-1] # the last element in the array"
   ]
  },
  {
   "cell_type": "code",
   "execution_count": null,
   "metadata": {
    "collapsed": true
   },
   "outputs": [],
   "source": [
    "# Index slicing also works with arrays\n",
    "bb[:]"
   ]
  },
  {
   "cell_type": "code",
   "execution_count": null,
   "metadata": {
    "collapsed": true
   },
   "outputs": [],
   "source": [
    "# select 2nd through last element of the array\n",
    "bb[1:-1]"
   ]
  },
  {
   "cell_type": "code",
   "execution_count": null,
   "metadata": {
    "collapsed": true
   },
   "outputs": [],
   "source": [
    "# like with lists you can ask for the length of the list\n",
    "len(bb)"
   ]
  },
  {
   "cell_type": "code",
   "execution_count": null,
   "metadata": {
    "collapsed": true
   },
   "outputs": [],
   "source": [
    "# and you can ask for the maximal or minimal value of an array\n",
    "max(bb)"
   ]
  },
  {
   "cell_type": "code",
   "execution_count": null,
   "metadata": {
    "collapsed": true
   },
   "outputs": [],
   "source": [
    "min(bb)"
   ]
  },
  {
   "cell_type": "markdown",
   "metadata": {},
   "source": [
    "So why use an `Array` instead of a `List` ? \n",
    "\n",
    "** Reason 1. The range function only increments by integer values.** "
   ]
  },
  {
   "cell_type": "code",
   "execution_count": null,
   "metadata": {
    "collapsed": true
   },
   "outputs": [],
   "source": [
    "# Try to create a list that starts at 1, ends at 10 and increments by 0.1 \n",
    "list(range(1,10,0.1)) "
   ]
  },
  {
   "cell_type": "code",
   "execution_count": null,
   "metadata": {
    "collapsed": true
   },
   "outputs": [],
   "source": [
    "# Instead do this with an array\n",
    "np.arange(1,10,0.1)"
   ]
  },
  {
   "cell_type": "markdown",
   "metadata": {},
   "source": [
    "**Reason 2. With an `array` you can act on the entire set of numbers without requiring a `for loop` **\n",
    "\n",
    "Increase each item in the `List` `a` and the `Array` `b` by a factor of 2."
   ]
  },
  {
   "cell_type": "code",
   "execution_count": null,
   "metadata": {
    "collapsed": true
   },
   "outputs": [],
   "source": [
    "# For the List a, this is done using a for loop.\n",
    "\n",
    "for i in a:\n",
    "    a[i] *= 2\n",
    "\n",
    "print(a)"
   ]
  },
  {
   "cell_type": "markdown",
   "metadata": {},
   "source": [
    " Note: We can use `List comprehension` to make this more compact.\n",
    " The below is equivalent to the above code cell.\n"
   ]
  },
  {
   "cell_type": "code",
   "execution_count": null,
   "metadata": {
    "collapsed": true
   },
   "outputs": [],
   "source": [
    "a = list(range(10)) # reset the list \n",
    "\n",
    "newlist = [i*2 for i in a]\n",
    "print(newlist)"
   ]
  },
  {
   "cell_type": "code",
   "execution_count": null,
   "metadata": {
    "collapsed": true
   },
   "outputs": [],
   "source": [
    "# For the array b, increasing each elements by a factor of 2 is much simpler\n",
    "b *= 2 # or equivalently b = b*2\n",
    "print(b)"
   ]
  },
  {
   "cell_type": "markdown",
   "metadata": {},
   "source": [
    "** Reason 3.  Arrays have more efficient index slicing capabilities with conditional statements **\n",
    "\n",
    "\n",
    "`numpy arrays` have a special feature that enables efficient index slicing with conditionals without using for loops.  \n",
    "\n",
    "`name_of_array[conditional statement]`\n",
    "\n",
    "Where the indices are specified by the conditional statement.\n",
    "\n",
    "Examine the example below, which computes a new array called `evens` containing all even numbers between 1 and 20, inclusively, given an original array `z` of all numbers from 1 to 20 inclusively.  "
   ]
  },
  {
   "cell_type": "code",
   "execution_count": null,
   "metadata": {
    "collapsed": true
   },
   "outputs": [],
   "source": [
    "z = np.arange(1,21) # first define a new array with all integers from 1 to 20 inclusively.\n",
    "print(z) # print it to the screen"
   ]
  },
  {
   "cell_type": "code",
   "execution_count": 4,
   "metadata": {},
   "outputs": [
    {
     "name": "stdout",
     "output_type": "stream",
     "text": [
      "[ 1  2  3  4  5  6  7  8  9 10 11 12 13 14 15 16 17 18 19 20]\n",
      "[ 2  4  6  8 10 12 14 16 18 20]\n"
     ]
    }
   ],
   "source": [
    "# now define a new array that is a subset of the original array z, but the desired indices are the elements \n",
    "# in z that satisfy the condition z%2 == 0.\n",
    "\n",
    "evens = z[z%2 ==0] # this new array contains only the even numbers in z.\n",
    "print(evens)"
   ]
  },
  {
   "cell_type": "markdown",
   "metadata": {},
   "source": [
    "The below example prints all numbers between 5 and 15, non-inclusively. \n",
    "Note that we have used the bit-wise operator `&` here instead of the boolean operator `and`"
   ]
  },
  {
   "cell_type": "code",
   "execution_count": 8,
   "metadata": {},
   "outputs": [
    {
     "name": "stdout",
     "output_type": "stream",
     "text": [
      "[ 6  7  8  9 10 11 12 13 14]\n"
     ]
    }
   ],
   "source": [
    "print(z[(z>5) & (z<15)])"
   ]
  },
  {
   "cell_type": "markdown",
   "metadata": {},
   "source": [
    "** Reason 4. Arrays can also have additional columns (2D, 3D, etc.) - but we'll get to that in another class** "
   ]
  },
  {
   "cell_type": "markdown",
   "metadata": {},
   "source": [
    "## Exercise 1.\n",
    "\n",
    " Practice with `List comprehension` :\n",
    " \n",
    "a) Create a `List` called `q` using `list(range())` that starts 1 and ends at 20 in increments of 3. Print `q` to the screen."
   ]
  },
  {
   "cell_type": "code",
   "execution_count": null,
   "metadata": {
    "collapsed": true
   },
   "outputs": [],
   "source": []
  },
  {
   "cell_type": "markdown",
   "metadata": {},
   "source": [
    "b) Create a new `List` called `qq` that is defined using `List comprehension` as `q**3`. Print `qq` to the screen."
   ]
  },
  {
   "cell_type": "code",
   "execution_count": null,
   "metadata": {
    "collapsed": true
   },
   "outputs": [],
   "source": []
  },
  {
   "cell_type": "markdown",
   "metadata": {},
   "source": [
    "c) List comprehension can also include `if statements`.\n",
    "\n",
    "`list = []`\n",
    "\n",
    "`for item in list:\n",
    "    if conditional:\n",
    "        expression`\n",
    "        \n",
    "Can be re-written as : \n",
    "\n",
    "`list = [ expression for item in list if conditional ]`\n",
    "\n",
    "The below code creates a new list called qqq that stores all values of qq (from part b) that are larger than 1000 and divides them by 1000.\n",
    "\n",
    "below using `List comprehension`"
   ]
  },
  {
   "cell_type": "code",
   "execution_count": null,
   "metadata": {
    "collapsed": true
   },
   "outputs": [],
   "source": []
  },
  {
   "cell_type": "markdown",
   "metadata": {},
   "source": [
    "## Exercise 2\n",
    "\n",
    "Practice with Arrays.\n"
   ]
  },
  {
   "cell_type": "markdown",
   "metadata": {},
   "source": [
    "a) Create a `Array` called `qa` that starts 1 and ends at 20 in increments of 3. Print `qa` to the screen."
   ]
  },
  {
   "cell_type": "code",
   "execution_count": null,
   "metadata": {
    "collapsed": true
   },
   "outputs": [],
   "source": []
  },
  {
   "cell_type": "markdown",
   "metadata": {},
   "source": [
    "b) Create a new `Array` called `qqa` that is defined as `qa**3`. Print `qqa` to the screen."
   ]
  },
  {
   "cell_type": "code",
   "execution_count": null,
   "metadata": {
    "collapsed": true
   },
   "outputs": [],
   "source": []
  },
  {
   "cell_type": "markdown",
   "metadata": {},
   "source": [
    "c) Create a new `numpy Array` called qqqa that contains all values of qqa that are larger than 1000 and divides them by 1000. This is the same as Exercise 2 d.\n",
    "\n",
    "Avoid a for loop by defining the indices using a conditional statement.  \n",
    "\n",
    "print qqqa to the screen"
   ]
  },
  {
   "cell_type": "code",
   "execution_count": null,
   "metadata": {
    "collapsed": true
   },
   "outputs": [],
   "source": []
  },
  {
   "cell_type": "markdown",
   "metadata": {},
   "source": [
    "\n",
    "# 2. Plotting Basics\n",
    "\n",
    "We are going to create plots using the python library called `matplotlib`\n",
    "\n",
    "`matplotlib` contains a plotting module pyplot.\n",
    "\n",
    "The first line in the below code cell `imports` the pyplot module from `matplotlib` and says that we will refer to the `pyplot` as `plt` \n",
    "\n",
    "The second line tells the notebook that you want to display any plots `inline` (i.e. inside the notebook). This is done with the magic function `%matplotlib inline`."
   ]
  },
  {
   "cell_type": "code",
   "execution_count": null,
   "metadata": {
    "collapsed": true
   },
   "outputs": [],
   "source": [
    "# You must always include the below lines of code somewhere in the Jupyter notebook if you \n",
    "# want to make a plot.\n",
    "\n",
    "import matplotlib.pyplot as plt\n",
    "%matplotlib inline"
   ]
  },
  {
   "cell_type": "markdown",
   "metadata": {},
   "source": [
    "This gives you access to all of `pyplot`'s functions, which can be called as `plt.functionname`.\n",
    "\n",
    "In particular, pyplot has a function called `plot`, which you can call as: \n",
    "`plt.plot(arg1,arg2)`"
   ]
  },
  {
   "cell_type": "code",
   "execution_count": null,
   "metadata": {
    "collapsed": true
   },
   "outputs": [],
   "source": [
    "# define a function y = x^2 \n",
    "def y(x):\n",
    "    return x**2"
   ]
  },
  {
   "cell_type": "code",
   "execution_count": null,
   "metadata": {
    "collapsed": true
   },
   "outputs": [],
   "source": [
    "# Let's plot the function 2 ways:\n",
    "\n",
    "# Method 1, using Lists and List Comprehension\n",
    "\n",
    "x = list(range(10))\n",
    "plt.plot(x, [y(i) for i in x])"
   ]
  },
  {
   "cell_type": "code",
   "execution_count": null,
   "metadata": {
    "collapsed": true
   },
   "outputs": [],
   "source": [
    "# Method 2, using Arrays\n",
    "\n",
    "xx = np.arange(0,10,0.1)\n",
    "plt.plot(xx, y(xx)) # no for loops necessary"
   ]
  },
  {
   "cell_type": "markdown",
   "metadata": {},
   "source": [
    "# 3. Making Plots Nicer\n",
    "\n",
    "\n",
    "Here are some especially useful pyplot functions, called with `plt.functionname(input(s))`:\n",
    "\n",
    "`xlabel` and `ylabel` set the labels for the x and y axes, respectively and have a required string input.\n",
    "\n",
    "`title` sets the title of the plot and also requires a string input.\n",
    "\n",
    "These can be specified either in the call to the function or separately before or after the plot call."
   ]
  },
  {
   "cell_type": "code",
   "execution_count": null,
   "metadata": {
    "collapsed": true
   },
   "outputs": [],
   "source": [
    "# Method 2, using Arrays\n",
    "\n",
    "\n",
    "xx = np.arange(0,10,0.1) # defining the x axis\n",
    "\n",
    "# plotting the functions\n",
    "plt.plot(xx, y(xx)) \n",
    "\n",
    "# let's add axis labels\n",
    "plt.xlabel(\"the independent variable (no units)\")\n",
    "plt.ylabel(\"the dependent variable (no units)\")\n",
    "\n",
    "# let's add a title\n",
    "plt.title(\"The Quadratic Function\")\n"
   ]
  },
  {
   "cell_type": "markdown",
   "metadata": {},
   "source": [
    "Let's add another function to this plot."
   ]
  },
  {
   "cell_type": "code",
   "execution_count": null,
   "metadata": {
    "collapsed": true
   },
   "outputs": [],
   "source": [
    "# This is the same plotting instructions as above.\n",
    "# But now we have added another line to the plot.\n",
    "\n",
    "xx = np.arange(0,10,0.1) # we can use this same array for BOTH functions\n",
    "\n",
    "# plotting the functions \n",
    "plt.plot(xx, y(xx))  # original plot\n",
    "plt.plot(xx, xx**3) # Here is where we have the new plot.\n",
    "        # We don't *have* to define a function to plot here:  xx is an array \n",
    "\n",
    "# axis labels\n",
    "plt.xlabel(\"the independent variable (no units)\")\n",
    "plt.ylabel(\"the dependent variable (no units)\")\n",
    "\n",
    "# plot title\n",
    "plt.title(\"The Quadratic and Cubic Function\") # the title has been modified\n"
   ]
  },
  {
   "cell_type": "markdown",
   "metadata": {},
   "source": [
    "When you include another plot, pyplot will automatically change the color of the line for you.\n",
    "But you can change the color, linewidth and linestyle.\n",
    "\n",
    "Line properties are controlled with optional keywords to the plot function, namely the commands `color`, `linestyle` and `linewidth`. The first two have required string arguments, and the third (linewidth) requires a numerical argument in multiples of the default linewidth (1).\n",
    "\n",
    "`linestyle` options: [ '-' | '--' | '-.' | ':' |]\n",
    "\n",
    "`color` options: 'red','green','yellow','blue', 'orange', 'cyan', 'magenta','black'\n"
   ]
  },
  {
   "cell_type": "code",
   "execution_count": null,
   "metadata": {
    "collapsed": true
   },
   "outputs": [],
   "source": [
    "# This is the same plotting instructions as above.\n",
    "# But now we have modified the appearance of the lines.\n",
    "\n",
    "xx = np.arange(1,10,0.1) # we can use this same array for BOTH functions\n",
    "\n",
    "# plotting the functions \n",
    "plt.plot(xx, y(xx),linewidth=5, linestyle=':',color='red')  \n",
    "plt.plot(xx, xx**3,linewidth=5, linestyle='-.',color='green')\n",
    "\n",
    "# axis labels\n",
    "plt.xlabel(\"the independent variable (no units)\")\n",
    "plt.ylabel(\"the dependent variable (no units)\")\n",
    "\n",
    "# plot title\n",
    "plt.title(\"The Quadratic and Cubic Function\") \n"
   ]
  },
  {
   "cell_type": "markdown",
   "metadata": {},
   "source": [
    "To add a legend to a plot, you use the pyplot function `legend`. \n",
    "\n",
    "You can assign labels to each line with the label keyword (string input), as below, and then call `legend` with no input. \n",
    "\n",
    "We can also change the range of the plot. `xlim` and `ylim` set the range of the x and y axes, respectively and they have two required inputs - a minimum and maximum for the range. By default, the axis range is set to encompass all of the values in x and y, but there are many cases where you might want to \"zoom in\" on certain regions of the plot."
   ]
  },
  {
   "cell_type": "code",
   "execution_count": null,
   "metadata": {
    "collapsed": true
   },
   "outputs": [],
   "source": [
    "# This is the same plotting instructions as above.\n",
    "# But now we have modified the appearance of the lines.\n",
    "\n",
    "xx = np.arange(1,10,0.1) # we can use this same array for BOTH functions\n",
    "\n",
    "# plotting the functions \n",
    "plt.plot(xx, y(xx),linewidth=5, linestyle=':',color='r',label='quadratic') # label added\n",
    "plt.plot(xx, xx**3,linewidth=5, linestyle='-.',color='g',label='cubic') # label added\n",
    "\n",
    "# axis labels\n",
    "plt.xlabel(\"the independent variable (no units)\")\n",
    "plt.ylabel(\"the dependent variable (no units)\")\n",
    "\n",
    "# plot title\n",
    "plt.title(\"The Quadratic and Cubic Function\") \n",
    "\n",
    "# fixing the limits to zoom in on a region of the plot\n",
    "plt.xlim(2,5)\n",
    "plt.ylim(2,100)\n",
    "\n",
    "# adding the legend\n",
    "plt.legend()"
   ]
  },
  {
   "cell_type": "markdown",
   "metadata": {},
   "source": [
    "As you can see above, the default for a legend is to place it at the upper right of the plot, even when it obscures the underlying lines and to draw a solid line around it (bounding box).\n",
    "\n",
    "Generally speaking, bounding boxes are rather ugly, so you should nearly always (unless you really want to set the legend apart) use the optional Boolean (True or False) keyword `frameon` to turn this off. \n",
    "\n",
    "Legend also takes the optional keyword loc to set the location of the legend. Loc should be a string. More options for legend are found [here](https://matplotlib.org/users/legend_guide.html)\n",
    "\n",
    "You can also save the plot to a file using the function `savefig` and setting the resolution."
   ]
  },
  {
   "cell_type": "code",
   "execution_count": null,
   "metadata": {
    "collapsed": true
   },
   "outputs": [],
   "source": [
    "\n",
    "xx = np.arange(1,10,0.1) # we can use this same array for BOTH functions\n",
    "\n",
    "# plotting the functions \n",
    "plt.plot(xx, y(xx),linewidth=5, linestyle=':',color='r',label='quadratic') \n",
    "plt.plot(xx, xx**3,linewidth=5, linestyle='-.',color='g',label='cubic') \n",
    "\n",
    "# axis labels\n",
    "plt.xlabel(\"the independent variable (no units)\")\n",
    "plt.ylabel(\"the dependent variable (no units)\")\n",
    "\n",
    "# plot title\n",
    "plt.title(\"The Quadratic and Cubic Function\") \n",
    "\n",
    "plt.xlim(2,5)\n",
    "plt.ylim(2,100)\n",
    "\n",
    "plt.legend(loc=\"upper center\", frameon=False) #modified the legend \n",
    "\n",
    "\n",
    "plt.savefig('PSet6_QuadraticCubic.png', dpi=300) # save the figure to a file, \n",
    "#dpi indictes the resolution"
   ]
  },
  {
   "cell_type": "markdown",
   "metadata": {},
   "source": [
    "## Exercise 3.\n",
    "\n",
    "a) \n",
    "\n",
    "Recall when we discussed index slicing, we specified the start and end range. E.g.\n",
    "\n",
    "`x[1:20]`, meaning `x[start at 1 : end before 20]` \n",
    "\n",
    "\n",
    "We can also specify skipping over some indices within that range using the following syntax:\n",
    "\n",
    "`x[1:20:3]`, meaning `x[ start at 1: end before 20 : skip every 3rd item]`\n",
    "\n",
    "In the below, a Quartic function is added to the plot using this functionality - blue points are plotted for this function, skipping every 2nd index. \n",
    "\n",
    "Add another Quartic function that fills in the gap using red dots, as instructed in the comments (#) "
   ]
  },
  {
   "cell_type": "code",
   "execution_count": null,
   "metadata": {
    "collapsed": true
   },
   "outputs": [],
   "source": [
    "xx = np.arange(1,10,0.1) # we can use this same array for all functions\n",
    "\n",
    "# plotting the functions \n",
    "plt.plot(xx, y(xx),linewidth=5, linestyle=':',color='green',label='quadratic') \n",
    "plt.plot(xx, xx**3,linewidth=5, linestyle='-.',color='red',label='cubic') \n",
    "\n",
    "\n",
    "# Quartic Function \n",
    "# 'bo' by itself indicates plotting the data using blue points \n",
    "# [::2] means, start at the beginning, go all the way to the end, but skip every 2nd index. \n",
    "plt.plot(xx[::2], xx[::2]**4, 'bo', label='quartic')\n",
    "\n",
    "###############  Add here a new line to plot  ########## \n",
    "# copy the same line as above. \n",
    "# but modify the index so that it starts at 1 \n",
    "# use 'ro' instead of `bo`, to plot the data using red points \n",
    "\n",
    "\n",
    "\n",
    "\n",
    "\n",
    "# axis labels\n",
    "plt.xlabel(\"the independent variable (no units)\")\n",
    "plt.ylabel(\"the dependent variable (no units)\")\n",
    "\n",
    "# plot title\n",
    "plt.title(\"The Quadratic, Cubic and Quartic Function\") \n",
    "\n",
    "plt.xlim(2,5)\n",
    "plt.ylim(0,100)\n",
    "\n",
    "plt.legend(loc=\"upper left\", frameon=False) #modified the legend \n",
    "\n",
    "\n",
    "plt.savefig('PSet6_QuadraticCubicQuartic.png', dpi=300) # save the figure to a file, \n",
    "#dpi indictes the resolution"
   ]
  },
  {
   "cell_type": "markdown",
   "metadata": {},
   "source": [
    "b)\n",
    "   - Define an array called `n` with a range from 0 to 6*np.pi in increments of 0.1\n",
    "   \n",
    "Do each step below, re-generating the plot after *each* line to make sure the plot is doing what you want it to.\n",
    "Note that numpy has its own functions (like np.sin, np.exp etc) that can take whole arrays component wise.  \n",
    "\n",
    "   - Plot `n` vs `np.sin(n)` :   linewidth=3 and color blue\n",
    "   - Plot `n` vs `-np.sin(n)` : linewidth=3,  linestyle =':' and color blue \n",
    "   - Plot `n` vs `cosine` of `n` : linewidth=3 and color red\n",
    "   - Plot `n` vs `cosine` of `n` with an amplitude of `2` : linewidth=3, color red, linestyle=':'\n",
    "   - add a horizontal line at y = 0 by plotting `n` vs. `0*n` : color gree, linestyle='--'\n",
    "   - change the xlimits to go from 0 to the maximal value of `n`\n",
    "   - Add axes labels : `radians`  and `amplitude`\n",
    "   - Add a title\n",
    "   - Add a legend that is outside the plot:  plt.legend(loc='upper right', bbox_to_anchor=(1.3, 1.05)).  You will need to add a `label` to each plt.plot call.\n",
    "   - Save the plot to a file called Pset6_Exercise3.png\n"
   ]
  },
  {
   "cell_type": "code",
   "execution_count": null,
   "metadata": {
    "collapsed": true
   },
   "outputs": [],
   "source": []
  },
  {
   "cell_type": "markdown",
   "metadata": {},
   "source": [
    "# 4. Scatter Plots\n",
    "\n",
    "We can use `numpy arrays` to generate arrays with random numbers.\n",
    "\n",
    "The below code generates 10 random `floats` from `0 to 1` and stores it as an array."
   ]
  },
  {
   "cell_type": "code",
   "execution_count": null,
   "metadata": {
    "collapsed": true
   },
   "outputs": [],
   "source": [
    "N = 10 # number of desired random floats. \n",
    "\n",
    "x = np.random.rand(N) # this numpy function creates an array of the given shape (N) \n",
    " #and populates it with random samples from a uniform distribution over [0, 1).\n",
    "\n",
    "print(x)"
   ]
  },
  {
   "cell_type": "markdown",
   "metadata": {},
   "source": [
    "If we wanted random numbers between 0 and 20 we simply multiply x by 20"
   ]
  },
  {
   "cell_type": "code",
   "execution_count": null,
   "metadata": {
    "collapsed": true
   },
   "outputs": [],
   "source": [
    "x_new = x*20\n",
    "print(x_new)"
   ]
  },
  {
   "cell_type": "markdown",
   "metadata": {},
   "source": [
    "We can use arrays with random numbers to generate `scatter plots`. We will use these plots later to plot tables of real data."
   ]
  },
  {
   "cell_type": "code",
   "execution_count": null,
   "metadata": {
    "collapsed": true
   },
   "outputs": [],
   "source": [
    "# let's define two arrays with 1000 random numbers sampled between 0 and 100\n",
    "N = 1000\n",
    "x = np.random.rand(N)*100\n",
    "y = np.random.rand(N)*100\n",
    "\n",
    "colors = np.random.rand(N) # This is another random list of 1000 numbers from 0 to 1 that \n",
    "                             # matplotlib will map onto a color table. \n",
    "    \n",
    "area = (30*np.random.rand(N))**2 # randomly assigning area of each point. 0 to 15 point radii \n",
    "\n",
    "# Scatter plots \n",
    "plt.scatter(x, y, s=area, c=colors, alpha=0.5) # alpha indicates transparency of each point\n",
    "\n",
    "plt.xlabel('x')\n",
    "plt.ylabel('y')\n",
    "plt.title('Scatter Plot')\n",
    "plt.savefig('Pset6_ScatterPlot.png', dpi=300) # save the figure to a file, \n"
   ]
  },
  {
   "cell_type": "markdown",
   "metadata": {},
   "source": [
    "## Exercise 4.\n",
    "\n",
    "a) Using the previously defined arrays x and y, plot only the largest points. \n",
    "Remember that x, y, area and colors are all arrays. To identify the largest points, you need\n",
    "those points that satisfy the following conditional statement: \n",
    "\n",
    "( (area <= max(area)) &  (area >= max(area)/1.2))\n",
    "\n",
    "\n",
    "This is a long condition and it would be annoying to have to write this out each time for each array. \n",
    "\n",
    "Instead, `numpy arrays` have a special feature to allow you to store the desired index range as a variable: \n",
    "\n",
    "`desired_index = np.where(conditional statement)`\n",
    "\n",
    "This defines an array `desired_index` that stores the indices of the original array where the conditional statement is true.  An example is shown below. Use this method to plot only the largest points. \n"
   ]
  },
  {
   "cell_type": "code",
   "execution_count": 21,
   "metadata": {},
   "outputs": [
    {
     "name": "stdout",
     "output_type": "stream",
     "text": [
      "old test array [ 1  2  3  4  5  6  7  8  9 10 11 12 13 14 15 16 17 18 19 20]\n",
      "subset of test array: [10 11 12 13 14 15 16 17 18 19 20]\n"
     ]
    }
   ],
   "source": [
    "## Make sure you understand what is going on here: \n",
    "\n",
    "test = np.arange(1,21)\n",
    "print(f\"old test array {test}\")\n",
    "\n",
    "index = np.where( (test <= max(test)) & (test >= max(test)/2.0))\n",
    "print(f\"subset of test array: {test[index]}\")"
   ]
  },
  {
   "cell_type": "code",
   "execution_count": null,
   "metadata": {
    "collapsed": true
   },
   "outputs": [],
   "source": []
  },
  {
   "cell_type": "markdown",
   "metadata": {},
   "source": [
    "b) Do the same as part (a) but now for the points with the smallest areas.  This doesn't need to be precise, but it should visually appear to only be small point sizes. \n",
    "\n",
    "Note that min(area) will be a small number, so to define an upper end to the range you may need to multiply that value by a large number. "
   ]
  },
  {
   "cell_type": "code",
   "execution_count": null,
   "metadata": {
    "collapsed": true
   },
   "outputs": [],
   "source": []
  },
  {
   "cell_type": "markdown",
   "metadata": {},
   "source": [
    "More information about plotting with matplotlib is found [here](https://matplotlib.org/index.html)"
   ]
  },
  {
   "cell_type": "markdown",
   "metadata": {},
   "source": [
    "# Submitting Problem Sets for Grading\n",
    "\n",
    "When you're done with a notebook, click \"restart & clear all output\" from the kernel menu and then \"close and halt\" from the file menu. Then to shut down the notebook server, go back to the original window where you started things up and type ctrl-C. You will be asked for confirmation, and if you type y, the server will then shut down.\n",
    "\n",
    "**Change the name of the notebook to user_name_ProblemSet6.ipynb**\n",
    "\n",
    "Submit the notebook on D2L\n",
    "\n",
    "The problem set will be due before 5 PM the day before next class."
   ]
  },
  {
   "cell_type": "code",
   "execution_count": null,
   "metadata": {
    "collapsed": true
   },
   "outputs": [],
   "source": []
  }
 ],
 "metadata": {
  "kernelspec": {
   "display_name": "Python 3",
   "language": "python",
   "name": "python3"
  },
  "language_info": {
   "codemirror_mode": {
    "name": "ipython",
    "version": 3
   },
   "file_extension": ".py",
   "mimetype": "text/x-python",
   "name": "python",
   "nbconvert_exporter": "python",
   "pygments_lexer": "ipython3",
   "version": "3.6.1"
  }
 },
 "nbformat": 4,
 "nbformat_minor": 2
}
