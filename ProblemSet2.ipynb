{
 "cells": [
  {
   "cell_type": "markdown",
   "metadata": {},
   "source": [
    "*this notebook was adapted from \n",
    " [course notes by Dr. Kate Follette](https://github.com/kfollette/ASTR200-Spring2017), who also\n",
    "utilize notes from [Mark Krumholz's public course notes](https://sites.google.com/a/ucsc.edu/krumholz/teaching-and-courses/)*\n"
   ]
  },
  {
   "cell_type": "markdown",
   "metadata": {},
   "source": [
    "### *** Names: [Insert Your Names Here;      Optional: indicate preferred pronouns]***"
   ]
  },
  {
   "cell_type": "markdown",
   "metadata": {},
   "source": [
    "# Problem Set 2             \n",
    "## PHYS 105A   Spring 2019\n",
    "\n",
    "## Contents\n",
    "\n",
    "1. Jupyter \n",
    "2. Using Jupyter as a calculator\n",
    "3. Variables\n",
    "4. Variable Types\n",
    "5. Math with Numpy\n",
    "6. Jupyter Cautions\n",
    "7. Submitting Homework\n",
    "\n",
    "*** Sections 1,2,3 and 5 of this notebook contain exercises that you must complete.***\n",
    "\n",
    "# 1. Jupyter \n",
    "\n",
    "Jupyter notebooks have two kinds of cells. Markdown cells like this one have no labeling to the left of the cell, and, when executed, appear as ordinary text. Code cells like the one below have In [ ]: printed to the side of them and, when executed, a number appears inside of the brackets. \n",
    "\n",
    "To select a cell of either type for editing, either `double click` on the cell, or press `enter` \n",
    "\n",
    "To execute a cell of either type in Jupyter, hit `shift` + `enter` inside of that cell \n",
    "\n",
    "Try it by `double clicking` on this cell and hitting `shift` + `enter`.\n",
    "\n",
    "Do the same with the code cell below. \n",
    "\n",
    "Note that a markdown cell becomes pure text when you execute it, while a code cell spits out some output labelled Out [ ]:."
   ]
  },
  {
   "cell_type": "code",
   "execution_count": null,
   "metadata": {},
   "outputs": [],
   "source": [
    "1+2"
   ]
  },
  {
   "cell_type": "markdown",
   "metadata": {},
   "source": [
    "The guts of Jupyter is the coding language Python, and any and all Python syntax will work inside of code cells. \n",
    "\n",
    "A key feature of Jupyter is that it integrates markdown (instructions/notes), code ***and*** output all in the same document. For this reason, many astronomers, including myself, use Jupyter as a sort of lab notebook rather than maintaining lab notes, code, and code output all in separate documents. \n",
    "\n",
    "\n"
   ]
  },
  {
   "cell_type": "markdown",
   "metadata": {},
   "source": [
    "<div class=hw>\n",
    "\n",
    "### Exercise 1\n",
    "-------------\n",
    "\n",
    "\n",
    "You have received an extensive Jupyter \"cheat sheet\", which I recommend you keep somewhere easily accessible so that you can refer to it often. If you ever need to reprint it, it can be found [here](https://www.cheatography.com/weidadeyue/cheat-sheets/jupyter-notebook/). \n",
    "\n",
    "Alternatively you can press  `escape` and then `h`.  Try this now! \n",
    "\n",
    "Use the hot keys now to exectute the following tasks."
   ]
  },
  {
   "cell_type": "code",
   "execution_count": null,
   "metadata": {},
   "outputs": [],
   "source": [
    "a. Change this cell to a markdown cell"
   ]
  },
  {
   "cell_type": "markdown",
   "metadata": {},
   "source": [
    "<div class=hw>\n",
    "b. Change the below cell to a code cell"
   ]
  },
  {
   "cell_type": "markdown",
   "metadata": {},
   "source": [
    "2+3"
   ]
  },
  {
   "cell_type": "markdown",
   "metadata": {},
   "source": [
    "<div class=hw>\n",
    "c. Insert a blank code cell above this one, and one below as well."
   ]
  },
  {
   "cell_type": "markdown",
   "metadata": {},
   "source": [
    "<div class=hw>\n",
    "d. Split the cell below in between the two operations so that each appears in its own separate cell, and then execute both cells. "
   ]
  },
  {
   "cell_type": "code",
   "execution_count": null,
   "metadata": {},
   "outputs": [],
   "source": [
    "1+2\n",
    "1+3"
   ]
  },
  {
   "cell_type": "markdown",
   "metadata": {},
   "source": [
    "<div class=hw>\n",
    "e. Delete the cell below"
   ]
  },
  {
   "cell_type": "markdown",
   "metadata": {},
   "source": [
    "This cell is junk"
   ]
  },
  {
   "cell_type": "markdown",
   "metadata": {},
   "source": [
    "<div class=hw>\n",
    "I've also given you a cheat sheet for syntax within markdown cells, which can be accessed [here](https://guides.github.com/pdfs/markdown-cheatsheet-online.pdf) if you ever lose it. Use this to complete the following tasks.\n",
    "\n",
    "f. Make this text italic.\n",
    "\n",
    "g. Make this text bold.\n",
    "\n",
    "h. Make this text bold and italic. \n",
    "\n",
    "i. Make this a heading.\n",
    "\n",
    "j. Make this a hyperlink to your favorite webpage.\n",
    "\n",
    "k. Make the asterisks in the following sentence visible: I *love* physics"
   ]
  },
  {
   "cell_type": "markdown",
   "metadata": {},
   "source": [
    "l. you can call basic UNIX commands in Jupyter. Run the below"
   ]
  },
  {
   "cell_type": "code",
   "execution_count": null,
   "metadata": {},
   "outputs": [],
   "source": [
    "!ls"
   ]
  },
  {
   "cell_type": "markdown",
   "metadata": {},
   "source": [
    "This command lists the contents of the directory you are in.   Recall, the directory you are in is referred to as `./`.\n",
    "In this directory should see this Jupyter notebook and the `logo.png` image file\n",
    "\n",
    "You can also do other commands to, like `!ls ..` to list the contents of the directory one level up from here. \n",
    "\n",
    "Insert the image file here (path name:  this directory, then file name)."
   ]
  },
  {
   "cell_type": "markdown",
   "metadata": {},
   "source": [
    "There are obviously lots of other things that you can do, but these are the basics that you'll use the most often.\n",
    "\n",
    "# 2. Using jupyter as a calculator:  operators & expressions\n",
    "\n",
    "In Jupyter notebooks, every cell is a command prompt into which we can enter python commands. One very basic way to use python is as a calculator.\n",
    "\n",
    "Python knows the basic arithmetic operations plus (+), minus (-), times (\\*), divide (/), and raise to a power (\\**).\n",
    "These are `operators`.\n",
    "\n",
    "An `expression` is the combination of one or more operators that the python language then interprets.\n",
    "e.g   `2*3`\n",
    "\n",
    "*Sidenote* \n",
    "Note that if you double click on this cell, you'll see that I've inserted a BACKSLASH (\\) before the asterisks. That is because the asterisk has special meaning inside of a markdown cell. Single asterisks make an item *italicized* when you execute the cell, and double asterisks make it **bold**. This is ***NOT*** the case for code cells.  \n",
    "\n",
    "Execute all of the cells below and make sure that you understand what they're doing before moving on."
   ]
  },
  {
   "cell_type": "code",
   "execution_count": null,
   "metadata": {},
   "outputs": [],
   "source": [
    "2+3"
   ]
  },
  {
   "cell_type": "code",
   "execution_count": null,
   "metadata": {},
   "outputs": [],
   "source": [
    "2*3"
   ]
  },
  {
   "cell_type": "code",
   "execution_count": null,
   "metadata": {},
   "outputs": [],
   "source": [
    "2-3"
   ]
  },
  {
   "cell_type": "code",
   "execution_count": null,
   "metadata": {},
   "outputs": [],
   "source": [
    "2/3"
   ]
  },
  {
   "cell_type": "code",
   "execution_count": null,
   "metadata": {},
   "outputs": [],
   "source": [
    "2**3"
   ]
  },
  {
   "cell_type": "markdown",
   "metadata": {},
   "source": [
    "It also understands parentheses, and follows the normal rules for order of operations:"
   ]
  },
  {
   "cell_type": "code",
   "execution_count": null,
   "metadata": {},
   "outputs": [],
   "source": [
    "1+2*3"
   ]
  },
  {
   "cell_type": "code",
   "execution_count": null,
   "metadata": {},
   "outputs": [],
   "source": [
    "1+2**3"
   ]
  },
  {
   "cell_type": "code",
   "execution_count": null,
   "metadata": {},
   "outputs": [],
   "source": [
    "(1+2)*3"
   ]
  },
  {
   "cell_type": "markdown",
   "metadata": {},
   "source": [
    "<div class=hw>\n",
    "\n",
    "### Exercise 2\n",
    "-------------\n",
    "\n",
    "Execute the calculations shown below in python. Use the code cells below each expression.\n",
    "\n",
    "\n",
    "a.  Define two variables, x and y with the listed values.\n",
    "\n",
    "x = 2.5x10$^4$   \n",
    "y = 8.1x10$^3$\n",
    " "
   ]
  },
  {
   "cell_type": "code",
   "execution_count": null,
   "metadata": {},
   "outputs": [],
   "source": []
  },
  {
   "cell_type": "markdown",
   "metadata": {},
   "source": [
    "b. $x + y$"
   ]
  },
  {
   "cell_type": "code",
   "execution_count": null,
   "metadata": {},
   "outputs": [],
   "source": []
  },
  {
   "cell_type": "markdown",
   "metadata": {},
   "source": [
    "<div class=hw>\n",
    "c. $x^3$  "
   ]
  },
  {
   "cell_type": "code",
   "execution_count": null,
   "metadata": {},
   "outputs": [],
   "source": []
  },
  {
   "cell_type": "markdown",
   "metadata": {},
   "source": [
    "<div class=hw>\n",
    "d. $\\sqrt{y}$  "
   ]
  },
  {
   "cell_type": "code",
   "execution_count": null,
   "metadata": {},
   "outputs": [],
   "source": []
  },
  {
   "cell_type": "markdown",
   "metadata": {},
   "source": [
    "<div class=hw>\n",
    "e. $\\frac{3x+y^2}{2}$"
   ]
  },
  {
   "cell_type": "code",
   "execution_count": null,
   "metadata": {},
   "outputs": [],
   "source": []
  },
  {
   "cell_type": "markdown",
   "metadata": {},
   "source": [
    "# 3. Simple variables\n",
    "\n",
    "We can also define variables to store numbers, and we can perform arithmetic on those variables. Variables are just names for boxes that can store values, and on which you can perform various operations. For example, execute each of the cells below and make sure you understand the output:"
   ]
  },
  {
   "cell_type": "code",
   "execution_count": null,
   "metadata": {},
   "outputs": [],
   "source": [
    "a=4"
   ]
  },
  {
   "cell_type": "code",
   "execution_count": null,
   "metadata": {},
   "outputs": [],
   "source": [
    "a+1"
   ]
  },
  {
   "cell_type": "code",
   "execution_count": null,
   "metadata": {},
   "outputs": [],
   "source": [
    "a/2"
   ]
  },
  {
   "cell_type": "code",
   "execution_count": null,
   "metadata": {},
   "outputs": [],
   "source": [
    "a=a+1"
   ]
  },
  {
   "cell_type": "code",
   "execution_count": null,
   "metadata": {},
   "outputs": [],
   "source": [
    "a"
   ]
  },
  {
   "cell_type": "code",
   "execution_count": null,
   "metadata": {},
   "outputs": [],
   "source": [
    "a**2"
   ]
  },
  {
   "cell_type": "markdown",
   "metadata": {},
   "source": [
    "Note that the line a=a+1 redefined the variable as one greater than it was before. \n",
    "\n",
    "IN THIS CLASS YOU MUST  use descriptive variable labels (e.g. lum_stara = , mass_starb =) and create a new variable name each time you do a calculation. ***Do not reuse variable names*** or you risk getting a nonsense answer when you refer to that variable.\n",
    "\n",
    "This is a simple example of how not using a new variable name could get you into trouble (if you were to assume that a was still 4). Note too that lines in which you have deifned a variable do not have any output by default. If you want to check that the variable is properly assigned or see its value, you can type the variable name alone on a line below the variable assignment line."
   ]
  },
  {
   "cell_type": "code",
   "execution_count": null,
   "metadata": {},
   "outputs": [],
   "source": [
    "a=10**2\n",
    "a"
   ]
  },
  {
   "cell_type": "markdown",
   "metadata": {},
   "source": [
    "Alternatively you can print the variable to the screen. Execute the below:"
   ]
  },
  {
   "cell_type": "code",
   "execution_count": null,
   "metadata": {},
   "outputs": [],
   "source": [
    "print(a)"
   ]
  },
  {
   "cell_type": "markdown",
   "metadata": {},
   "source": [
    "You can define multiple variables in one line"
   ]
  },
  {
   "cell_type": "code",
   "execution_count": null,
   "metadata": {},
   "outputs": [],
   "source": [
    "a,b = 1,2\n",
    "print(a,b)"
   ]
  },
  {
   "cell_type": "markdown",
   "metadata": {},
   "source": [
    "There's also a subtle but important point to notice here, which is the meaning of the equal sign. In mathematics, the statement that `a = b` is a statement that two things are equal, and it can be either true or false. In python, as in almost all other programming languages, `a = b` means something different. It means that the value of the variable a should be changed to whatever value b has. Thus the statement we made `a = a + 1` is not an assertion (which is obviously false) that a is equal to itself plus one. It is an instruction to the computer to take the variable a, and 1 to it, and then store the result back into the variable a. In this example, it therefore changes the value of a from 4 to 5.\n",
    "\n",
    "One more point regrading assignments: the fact that = means something different in programming than it does in mathematics implies that the statements `a = b` and `b = a` will have very different effects. The first one causes the computer to forget whatever is stored in a and replace it by whatever is stored in b. The second statement has the opposite effect: the computer forgets what is stored in b, and replaces it by whatever is stored in a.\n",
    "\n"
   ]
  },
  {
   "cell_type": "markdown",
   "metadata": {},
   "source": [
    "# 4. Variable Types\n",
    "\n",
    "The variable `a` that we have defined is an integer, or int for short. We can find this out by asking python using one of its many built-in functions, namely `type`."
   ]
  },
  {
   "cell_type": "code",
   "execution_count": null,
   "metadata": {},
   "outputs": [],
   "source": [
    "b=5"
   ]
  },
  {
   "cell_type": "code",
   "execution_count": null,
   "metadata": {},
   "outputs": [],
   "source": [
    "type(b)"
   ]
  },
  {
   "cell_type": "markdown",
   "metadata": {},
   "source": [
    "Integers are exactly what they sound like: they hold whole numbers, and operations involving them and other whole numbers will always yield whole numbers. This is an important point in general programming, because variable types are not generally reassigned dynamically. So, for example, the operation 5/2 would yield 2 rather than 2.5 if 5 is an integer. In our case, however, we are using Python 3, which will automatically convert an integer to the next type of variable if the natural output is not a whole number, as below :"
   ]
  },
  {
   "cell_type": "code",
   "execution_count": null,
   "metadata": {},
   "outputs": [],
   "source": [
    "b/2"
   ]
  },
  {
   "cell_type": "markdown",
   "metadata": {},
   "source": [
    "If we assign this to a variable, we will have a new type of variable: a floating point number, or float for short. Note that after completing this operation, b is no longer an integer, as you can see using type.\n",
    "\n",
    "unlike b, b/2 is ***not*** an integer, as you can see by creating a new variable, storing b/2 in it, and typing it."
   ]
  },
  {
   "cell_type": "code",
   "execution_count": null,
   "metadata": {},
   "outputs": [],
   "source": [
    "c = b/2"
   ]
  },
  {
   "cell_type": "code",
   "execution_count": null,
   "metadata": {},
   "outputs": [],
   "source": [
    "c"
   ]
  },
  {
   "cell_type": "code",
   "execution_count": null,
   "metadata": {},
   "outputs": [],
   "source": [
    "type(c)"
   ]
  },
  {
   "cell_type": "markdown",
   "metadata": {},
   "source": [
    "A floating point variable is capable of holding real numbers. \n",
    "\n",
    "Why have different types of variables for integers versus non-integer real numbers? In mathematics there is no need to make the distinction, of course: all integers are real numbers, so it would seem that there should be no reason to have a separate type of variable to hold integers. However, this ignores the way computers work. On a computer, operations involving integers are exact: 1 + 1 is exactly 2. However, operations on real numbers are necessarily inexact. I say necessarily because a real number is capable of having an arbitrary number of decimal places. The number pi contains infinitely many digits, and never repeats, but my computer only comes with a finite amount of memory and processor power. \n",
    "\n",
    "Even rational numbers (like 2/3) run into this problem, because their decimal representation (or to be exact their representation in binary) may be an infinitely repeating sequence. Thus it is not possible to perform operations on arbitrary real numbers to exact precision. Instead, arithmetic operations on floating point numbers are approximate, with the level of accuracy determined by factors like how much memory one wants to devote to storing digits, and how much processor time one wants to spend manipulating them. \n",
    "\n",
    "On most computers a python floating point number is accurate to about 1 in 10^15, but this depends on both the architecture and on the operations you perform. That's enough accuracy for many purposes, but there are plenty of situations (for example counting things) when we really want to do things precisely, and we want 1 + 1 to be exactly 2. That's what integers are there for.\n",
    "\n",
    "A third type of very useful variable is strings, abbreviated str. A string is a sequence of characters, and one can declare that something is a string by putting characters in quotation marks (either `\"` or `'` is fine):"
   ]
  },
  {
   "cell_type": "code",
   "execution_count": null,
   "metadata": {},
   "outputs": [],
   "source": [
    "d = \"star\""
   ]
  },
  {
   "cell_type": "code",
   "execution_count": null,
   "metadata": {},
   "outputs": [],
   "source": [
    "type(d)"
   ]
  },
  {
   "cell_type": "markdown",
   "metadata": {},
   "source": [
    "The quotation marks are important here. To see why, try issuing the command without them:"
   ]
  },
  {
   "cell_type": "code",
   "execution_count": null,
   "metadata": {},
   "outputs": [],
   "source": [
    "d = star"
   ]
  },
  {
   "cell_type": "markdown",
   "metadata": {},
   "source": [
    "This is an error message, complaining that the computer doesn't know what star is. The problem is that, without the quotation marks, python thinks that star is the name of a variable, and complains when it can't find a variable by that name. Putting the quotation marks tells python that we mean a string, not a variable named star.\n",
    "\n",
    "Obviously we can't add strings in the same sense that we add numbers, but we can still do operations on them. The plus operation concatenates two strings together:"
   ]
  },
  {
   "cell_type": "code",
   "execution_count": null,
   "metadata": {},
   "outputs": [],
   "source": [
    "e = \"planet\""
   ]
  },
  {
   "cell_type": "code",
   "execution_count": null,
   "metadata": {},
   "outputs": [],
   "source": [
    "d+e"
   ]
  },
  {
   "cell_type": "markdown",
   "metadata": {},
   "source": [
    "In addition to integers, floats, and strings, there are three other types of variables worth mentioning. The first is a Boolean variable (named after George Boole), which represents a logical value. Boolean variables can be either True or False:"
   ]
  },
  {
   "cell_type": "code",
   "execution_count": null,
   "metadata": {},
   "outputs": [],
   "source": [
    "g = True"
   ]
  },
  {
   "cell_type": "code",
   "execution_count": null,
   "metadata": {},
   "outputs": [],
   "source": [
    "type(g)"
   ]
  },
  {
   "cell_type": "markdown",
   "metadata": {},
   "source": [
    "Boolean variables can have logic operations performed on them. In particular, there are three logical operators that we care about: not, and, and or. Play around with the cells below (defining new variables to test your theories on if you wish) and see if you can figure out what each one does, and then describe it below."
   ]
  },
  {
   "cell_type": "code",
   "execution_count": null,
   "metadata": {},
   "outputs": [],
   "source": [
    "not g"
   ]
  },
  {
   "cell_type": "code",
   "execution_count": null,
   "metadata": {},
   "outputs": [],
   "source": [
    "h = False"
   ]
  },
  {
   "cell_type": "code",
   "execution_count": null,
   "metadata": {},
   "outputs": [],
   "source": [
    "g and h"
   ]
  },
  {
   "cell_type": "code",
   "execution_count": null,
   "metadata": {},
   "outputs": [],
   "source": [
    "g or h"
   ]
  },
  {
   "cell_type": "markdown",
   "metadata": {},
   "source": [
    "<div class=hw>\n",
    "\n",
    "### Exercise 3\n",
    "-------------\n",
    "\n",
    "Double click here and edit the text below to describe what each operator does in your own wods\n",
    "\n",
    "the NOT operator ...\n",
    "\n",
    "the AND operator ...\n",
    "\n",
    "the OR operator ..."
   ]
  },
  {
   "cell_type": "markdown",
   "metadata": {},
   "source": [
    "# 5. Importing Numpy: Code Libraries and Mathematical Functions\n",
    "\n",
    "There are a number of expressions and operations that are used for scientific computing that are defined in code libraries.  One common code library is called numpy. In order to invoke or load numpy in this environment, you will need to \"import\" it."
   ]
  },
  {
   "cell_type": "code",
   "execution_count": null,
   "metadata": {},
   "outputs": [],
   "source": [
    "import numpy"
   ]
  },
  {
   "cell_type": "markdown",
   "metadata": {},
   "source": [
    "Once loaded, you can take advantage of any numpy `function` by typing `numpy.functionname`. For example, the square root (`sqrt`) function:"
   ]
  },
  {
   "cell_type": "code",
   "execution_count": null,
   "metadata": {},
   "outputs": [],
   "source": [
    "numpy.sqrt(16)"
   ]
  },
  {
   "cell_type": "markdown",
   "metadata": {},
   "source": [
    "A `function`, combines operators and variables to return a value and typically takes an input from the user.  In this case, we gave the numpy.sqrt function the value 16.  Another example of a function, which we used earlier, was the `print()` function.  \n",
    "\n",
    " A full list of numpy mathematical functions is [here](https://docs.scipy.org/doc/numpy-1.13.0/reference/routines.math.html)"
   ]
  },
  {
   "cell_type": "markdown",
   "metadata": {},
   "source": [
    "As we will use numpy a lot, it is convenient to import it under a shorter name, as below. This can be anything really, but it's easiest to use something that will be easy to remember. The standard short name for numpy is np"
   ]
  },
  {
   "cell_type": "code",
   "execution_count": null,
   "metadata": {},
   "outputs": [],
   "source": [
    "import numpy as np"
   ]
  },
  {
   "cell_type": "code",
   "execution_count": null,
   "metadata": {},
   "outputs": [],
   "source": [
    "np.pi"
   ]
  },
  {
   "cell_type": "markdown",
   "metadata": {},
   "source": [
    "Numpy also has trigonometric `functions`, like sine, cosine. But note that the input must be supplied in radians."
   ]
  },
  {
   "cell_type": "code",
   "execution_count": null,
   "metadata": {},
   "outputs": [],
   "source": [
    "np.sin(np.pi/2)"
   ]
  },
  {
   "cell_type": "markdown",
   "metadata": {},
   "source": [
    "Luckily, numpy also has a function that will turn degrees into radians"
   ]
  },
  {
   "cell_type": "code",
   "execution_count": null,
   "metadata": {},
   "outputs": [],
   "source": [
    "np.sin(np.radians(90))"
   ]
  },
  {
   "cell_type": "markdown",
   "metadata": {},
   "source": [
    "similarly  `np.degrees(value)` will turn the `value` from radians into degrees "
   ]
  },
  {
   "cell_type": "markdown",
   "metadata": {},
   "source": [
    "### Exercise 4\n",
    "\n",
    "Solve for `x` and return the value in degrees:\n",
    "\n",
    "\n",
    "$sin(x)$ = 1/2 "
   ]
  },
  {
   "cell_type": "code",
   "execution_count": null,
   "metadata": {},
   "outputs": [],
   "source": []
  },
  {
   "cell_type": "markdown",
   "metadata": {},
   "source": [
    "# 6. Jupyter Cautions\n",
    "\n",
    "You should always keep in mind that ***cells within a Jupyter notebook can be executed and reexecuted in any order*** as this can sometimes get you into trouble. This feature is the reason why an executed code cell is numbered, so that you know what order the cells you see have been executed in. Note that this does not have to be linear from the top to the bottom of the document, but can jump around within it. Often, you will note a mistake or something that you want to try and will go back and change the code in an earlier cell. If you reexecute just this one cell, then any already executed cells that rely on variables defined in the reexecuted cell or its output will ***not*** be automatically updated.  \n",
    "\n",
    "For the purposes of this class, labs and homeworks should always be executable in a linear fashion, as you will be clearing all output before submitting them. For this reason, you should observe the following \"best practices\" for coding in notebooks. \n",
    "\n",
    "1. Use descriptive variable labels (e.g. lum_stara = , mass_starb =) and create a new variable name each time you do a calculation. ***Do not reuse variable names*** or you risk getting a nonsense answer when you refer to that variable.\n",
    "\n",
    "2. Before handing in any problem set, restart the kernel through the menu at the top of the notebook and execute the whole thing from start to finish once, making sure that all of your code output is how you want it. Note that **restarting the kernel will clear the code output, not the code itself**, so you will not be losing your work.\n",
    "\n",
    "3. If you note a mistake in an earlier cell and go back to correct it, you should be careful to also reexecute any cells that depend on it. If you want to do a calculation similar to one that you executed in a previous cell, you should instead copy the contents of that cell into a new cell, rename the variables, and execute it again. "
   ]
  },
  {
   "cell_type": "markdown",
   "metadata": {},
   "source": [
    "\n",
    "# 7. Submitting Problem Sets for Grading\n",
    "\n",
    "This semester, you'll be doing most of your lab work in Jupyter notebooks, and submitting them for grading through D2L. \n",
    "\n",
    "When you're done with a notebook, click \"restart & clear all output\" from the kernel menu and then \"close and halt\" from the file menu. Then to shut down the notebook server, go back to the original window where you started things up and type ctrl-C. You will be asked for confirmation, and if you type y, the server will then shut down.\n",
    "\n",
    "Submit the notebook on D2L"
   ]
  },
  {
   "cell_type": "code",
   "execution_count": null,
   "metadata": {},
   "outputs": [],
   "source": []
  }
 ],
 "metadata": {
  "anaconda-cloud": {},
  "kernelspec": {
   "display_name": "Python 3",
   "language": "python",
   "name": "python3"
  },
  "language_info": {
   "codemirror_mode": {
    "name": "ipython",
    "version": 3
   },
   "file_extension": ".py",
   "mimetype": "text/x-python",
   "name": "python",
   "nbconvert_exporter": "python",
   "pygments_lexer": "ipython3",
   "version": "3.6.5"
  }
 },
 "nbformat": 4,
 "nbformat_minor": 1
}
