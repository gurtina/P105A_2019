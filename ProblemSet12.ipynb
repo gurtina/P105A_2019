{
 "cells": [
  {
   "cell_type": "markdown",
   "metadata": {},
   "source": [
    "# DO THIS :  \n",
    "\n",
    "### *** Names: [Insert Your Names Here;      Optional: indicate preferred pronouns]***\n",
    "\n",
    "# AND IN THE FILENAME"
   ]
  },
  {
   "cell_type": "markdown",
   "metadata": {},
   "source": [
    "##### Problem Set 12             \n",
    "## PHYS 105A   Spring 2019\n",
    "\n",
    "## Contents\n",
    "\n",
    "Review of some Python syntax and concepts\n",
    "\n",
    "** There are 7 exercises that must be completed. **"
   ]
  },
  {
   "cell_type": "markdown",
   "metadata": {},
   "source": [
    "As should go without saying by now, we import our usual duo of matplotlib's pyplot and numpy:"
   ]
  },
  {
   "cell_type": "code",
   "execution_count": null,
   "metadata": {},
   "outputs": [],
   "source": [
    "%matplotlib qt\n",
    "\n",
    "import matplotlib.pyplot as plt\n",
    "import numpy as np"
   ]
  },
  {
   "cell_type": "markdown",
   "metadata": {},
   "source": [
    "Let's do a brief review of what happens when we call a function in Python. Consider the following function:"
   ]
  },
  {
   "cell_type": "code",
   "execution_count": null,
   "metadata": {},
   "outputs": [],
   "source": [
    "def addOne(arg):\n",
    "    oneplusarg = 1 + arg\n",
    "    return oneplusarg\n",
    "\n",
    "y = 10\n",
    "z = addOne(y)\n",
    "print(f\"one added to {y} is {z}\")"
   ]
  },
  {
   "cell_type": "markdown",
   "metadata": {},
   "source": [
    "As we discussed in the last lecture, in running the cell above: \n",
    "\n",
    "* the first *executable* line is \"y = 10\".\n",
    "* in line \"z = addOne(y)\", y is evaluated to 10, and the function is called with the argument 10\n",
    "  * when addOne starts executing, a local variable arg is created and given the value 10\n",
    "  * the RHS of the next line is evaluated to 11, a new variable oneplusarg is created, and 11 is stored in it\n",
    "  * in the return statement, oneplusarg is evaluated to 11, and this value is returned by the function.\n",
    "  * when the function addOne is finished executing, the local variables arg and oneplusarg disappear.\n",
    "* still in the line \"z = addOne(y)\", the return from addOne is 11, and so a new variable at global scope is created, z, and the value 11 is stored there as an `int`\n",
    "* Finally, the `print` function is called, with y and z as arguments to the f-string. y evaluates to 10, and z to 11 "
   ]
  },
  {
   "cell_type": "markdown",
   "metadata": {},
   "source": [
    "This week will we explore a programming technique known as *recursion*.\n",
    "A recursive function is one that calls itself. While this may seem complex, it is often the simplest way to express an algorithm as we shall see in a number of examples.\n",
    "\n",
    "The first thing to note about recursion is that, if a function calls itself, we must include a condition that keeps this from happening forever. For example, consider the silly function"
   ]
  },
  {
   "cell_type": "code",
   "execution_count": null,
   "metadata": {},
   "outputs": [],
   "source": [
    "def decreaseToZero(arg):\n",
    "    if arg <= 0:\n",
    "        print('base case: return argument')\n",
    "        return arg                                # base case -- return the argument unchanged\n",
    "    else:\n",
    "        print(f'calling decreaseToZero({arg-1})')\n",
    "        return decreaseToZero(arg-1)              # recursive call -- return argument decreased by one\n",
    "\n",
    "y = decreaseToZero(2)\n",
    "print(f\"result was: {y}\\n\")\n",
    "y = decreaseToZero(5)\n",
    "print(f\"result was: {y}\")"
   ]
  },
  {
   "cell_type": "markdown",
   "metadata": {},
   "source": [
    "When decreaseToZero is called with an argument $\\le$ 0, the function just returns its argument unchanged.\n",
    "\n",
    "When decreaseToZero is called with an argument $>$ 0, the function returns the expression \"decreaseToZero(arg-1)\"\n",
    "What happens in this case?  \n",
    "* in the return statement, the argument \"decreaseToZero(arg-1)\" needs to be evaluated\n",
    "* Python evaluates \"arg-1\", and then calls decreaseToZero with that value as its argument\n",
    "  * a *new copy* of decreaseToZero is created while the old one is still waiting\n",
    "  * a new variable is created in local scope of this new function call, again called arg, with the passed value\n",
    "  * if this new arg $>$ 0, the argument to its return statement needs to be evaluated\n",
    "  * another *new copy* of decreaseToZero then is created while the old one waits around\n",
    "    * and so on, until the passed value is $\\le$ 0\n",
    "    * when this happens, the function returns 0 (the base case)\n",
    "  * the previous function's argument to return evaluates to zero, and is returned\n",
    "* the previous function's argument to return evaluates to zero, and is returned\n",
    "\n",
    "When the argument to the return statement of the first incarnation of decreaseToZero is finally returned, the\n",
    "global variable z is set, and is then printed.\n",
    "\n",
    "Thus, we can *recursively* call a function, possibly multiple times. Each time we make a recursive call, the *calling* function waits around for the *called* function to return a value. Once the base case is reached, the returned values unwind until the original call returns."
   ]
  },
  {
   "cell_type": "markdown",
   "metadata": {},
   "source": [
    "Note that the base case must always be present in a recursive function in order to stop the recursion from going on forever.\n",
    "\n",
    "A recursive definition of a function is often the most compact one. For example, the non-recursive definition of the factorial function is, for $n$ an integer, is\n",
    "\n",
    "$$ n! = \\prod_{m=1}^n m $$\n",
    "\n",
    "You have already written a Python function to compute the factorial which looked something like this:"
   ]
  },
  {
   "cell_type": "code",
   "execution_count": null,
   "metadata": {},
   "outputs": [],
   "source": [
    "def factorial(arg):\n",
    "    prod = 1\n",
    "    for i in range(2,arg+1):\n",
    "        prod *= i\n",
    "    return prod\n",
    "\n",
    "factorial(5)"
   ]
  },
  {
   "cell_type": "markdown",
   "metadata": {},
   "source": [
    "A *recursive definition* of the factorial function is\n",
    "\n",
    "$$ n! = \\left\\{\\begin{array}{ll}1,&n\\le1\\quad\\textrm{(base case)}\\\\n\\ (n-1)!,& n>1\\end{array}\\right.$$\n",
    "\n",
    "#### Exercise 1\n",
    "\n",
    "Write a recursive function to compute the factorial; it should look very much like the definition above. Try it out."
   ]
  },
  {
   "cell_type": "code",
   "execution_count": null,
   "metadata": {},
   "outputs": [],
   "source": []
  },
  {
   "cell_type": "markdown",
   "metadata": {},
   "source": [
    "When you call yout factorial function with, e.g., factorial(2), this calls factorial(1). When factorial(1) returns 1, the value is multiplied by 2, and then the factorial(2) function returns 2.\n",
    "\n",
    "This can happen as often as we wish (or until the computer runs out of memory storing all of the calls waiting to finish).\n",
    "\n",
    "In the following case, we call factorial() once, and the function calls itself 49 times:"
   ]
  },
  {
   "cell_type": "code",
   "execution_count": null,
   "metadata": {},
   "outputs": [],
   "source": [
    "factorial(50)"
   ]
  },
  {
   "cell_type": "markdown",
   "metadata": {},
   "source": [
    "Another example of a recursive algorithm is Euler's method for determining the *greatest common divisor*; given two positive integers, the greatest common divisor is the largest positive integer which divides each of them.\n",
    "\n",
    "We can code Euler's method for the gcd as follows:"
   ]
  },
  {
   "cell_type": "code",
   "execution_count": null,
   "metadata": {},
   "outputs": [],
   "source": [
    "def gcd(x,y):\n",
    "                                  # a good implementation would sanity check arguments...\n",
    "    if y == 0:\n",
    "        return x                  # base case\n",
    "    else:\n",
    "        return gcd(y, x%y)        # recursion\n",
    "\n",
    "x = 111\n",
    "y = 259\n",
    "d = gcd(x,y)\n",
    "print(f\"gcd is {d}: {x}/{d}={x/d}  {y}/{d}={y/d}\")"
   ]
  },
  {
   "cell_type": "markdown",
   "metadata": {},
   "source": [
    "Note what we have done in the previous two examples:\n",
    "* We have identified a base case which stops the recursion\n",
    "* We have *assumed* that the recursive function works, and used it to write the general case"
   ]
  },
  {
   "cell_type": "markdown",
   "metadata": {},
   "source": [
    "Recursion often finds use in searching and sorting. Let's examine searching first, using an algorithm called\n",
    "*binary search* (the right way to search an ordered list!):\n",
    "\n",
    "Given an ordered list, say the list\n",
    "\n",
    "   mylist = [1,3,4,7,12,18,19,21,22,25]\n",
    "   \n",
    "a recursive algorithm for searching for a given item works in much the way one would look up an address in a phonebook:\n",
    "* divide the list in half\n",
    "* determine in which half the desired item lies\n",
    "* Using that half, repeat until you find the desired item or find that it is not there\n",
    "\n",
    "In other words, recursively divide the search interval by half until you arrive at the desired item.\n",
    "\n",
    "The base case occurs when there is only one item present; it is either the desired one or it is not."
   ]
  },
  {
   "cell_type": "code",
   "execution_count": null,
   "metadata": {},
   "outputs": [],
   "source": [
    "def binarySearch0(data, item):\n",
    "    n = len(data)\n",
    "    \n",
    "    if n==1:                                 # base case: list has only one element\n",
    "        if item == data[0]:                  # It is the element we are looking for, or...\n",
    "            return f\"{item} found\"\n",
    "        else:\n",
    "            return f\"{item} not in list\"     # ... this isn't the element you are looking for, move along...\n",
    "        \n",
    "    else:\n",
    "        if item < data[n//2]:                # search in left half of list\n",
    "            print(f\"searching for {item} in  left half: [{data[0]}, ..., {data[n//2-1]}]\")\n",
    "            return binarySearch0(data[:n//2],item)\n",
    "        else:                                # search in right half of list\n",
    "            print(f\"searching for {item} in right half: [{data[n//2]}, ..., {data[-1]}]\")\n",
    "            return binarySearch0(data[n//2:], item)\n",
    "            \n",
    "\n",
    "mylist = [1,3,4,7,12,18,19,21,22,25]\n",
    "\n",
    "print(binarySearch0(mylist,22))\n",
    "print()\n",
    "print(binarySearch0(mylist,1))\n",
    "print()\n",
    "print(binarySearch0(mylist,20))"
   ]
  },
  {
   "cell_type": "markdown",
   "metadata": {},
   "source": [
    "We can rewrite this to keep track of the range of indices in the list we are searching. \n",
    "\n",
    "In binarySearchInternal, each call to the function searches between data[left] and data[right-1], inclusive.\n",
    "\n",
    "To make the function easier to use, we wrap this in a user interface function, binarySearch, which takes as arguments only the list and the item to search for, and starts the resursion by setting left=0 and right=len(data)"
   ]
  },
  {
   "cell_type": "code",
   "execution_count": null,
   "metadata": {},
   "outputs": [],
   "source": [
    "def binarySearchInternal(data, left, right, item):\n",
    "\n",
    "    \n",
    "    if left > right-1:                                             # base case:\n",
    "        return f\"{item} not in list\"                               # left cannot cross right\n",
    "\n",
    "    else:\n",
    "        mid = (left + right)//2\n",
    "        \n",
    "        if item == data[mid]:\n",
    "            return f\"{item} found at position {mid}\"\n",
    "        \n",
    "        elif item < data[mid]:\n",
    "            return binarySearchInternal(data, left, mid, item)     # search in left half\n",
    "        else:\n",
    "            return binarySearchInternal(data, mid+1, right, item)  # search in right half\n",
    "        \n",
    "    \n",
    "def binarySearch1(data, item):\n",
    "    return binarySearchInternal(data, 0, len(data), item)\n",
    "\n",
    "mylist = [1,3,4,7,12,18,19,21,22,25]\n",
    "\n",
    "for i in range(-2,30):\n",
    "    print(binarySearch1(mylist, i))"
   ]
  },
  {
   "cell_type": "markdown",
   "metadata": {},
   "source": [
    "#### Exercise 2\n",
    "\n",
    "Copy the two functions in the previous cell to the following cell. Modify the code so that binarySearch returns the the index where item is found, or the length of the list if the item is not found. Call your function binarySearch2.\n",
    "\n",
    "Write a test to show that your code is correct."
   ]
  },
  {
   "cell_type": "code",
   "execution_count": null,
   "metadata": {},
   "outputs": [],
   "source": []
  },
  {
   "cell_type": "markdown",
   "metadata": {},
   "source": [
    "#### Exercise 3\n",
    "\n",
    "Copy the code from before exercise 2 to the following cell.\n",
    "\n",
    "Let $d$ be an array of length $N$ and $x$ a value to search for in that array.\n",
    "Modify the code so that binarySearch(d, x) returns the index i such that\n",
    "\n",
    "$$\n",
    "\\textrm{binarySearch}(d,x) = \\left\\{ \\begin{array}{ll} -1,& x < d_0\\\\\n",
    "i,& d_i \\le x < d_{i+1}\\\\\n",
    "N,& x \\ge d_{N-1} \\end{array}\\right.\n",
    "$$\n",
    "\n",
    "even if $x$ itself is not in the list.\n",
    "\n",
    "This time, call your function binarySearch (without a number!).\n",
    "\n",
    "Write a test to show that your code is correct."
   ]
  },
  {
   "cell_type": "code",
   "execution_count": null,
   "metadata": {},
   "outputs": [],
   "source": []
  },
  {
   "cell_type": "markdown",
   "metadata": {},
   "source": [
    "#### Exerecise 4\n",
    "\n",
    "One common use of searching in a table of numbers is to interpolate a tabluated function.\n",
    "\n",
    "Create a grid of x-values and a function evaluated on these gridpoints:\n",
    "\n",
    "    xgrid = np.linspace(0,1,10)*2*np.pi\n",
    "    fofxgrid = np.sin(x)\n",
    "\n",
    "The goal is to write a function which, given a value of x, computes the *linear interpolation* from the table. If we know the index $i$ in the grid such that $x_i \\le x < x_{i+1}$ (using our binarySearch function!), we can fit a line between the points $(x_i,f(x_i))$ and $(x_{i+1},f(x_{i+1}))$ and estimate the value of $f(x)$:\n",
    "\n",
    "$$ f(x) \\approx (1-\\epsilon) f(x_i) + \\epsilon f(x_{i+1}) $$\n",
    "\n",
    "where \n",
    "\n",
    "$$ \\epsilon = \\frac{ x - x_i}{x_{i+1}-x_i} $$\n",
    "\n",
    "\n",
    "Write a function linterp (for \"linear interpolation\") which:\n",
    "* Takes as arguments the arrays xgrid and fofxgrid and a value $x$\n",
    "* Returns the interpolated value of $f(x)$ if $x$ is within the grid, and\n",
    "* Returns fofxgrid[0] if $x < $ xgrid[0], and\n",
    "* Returns fofxgrid[-1] if $x \\ge $ xgrid[-1]\n",
    "\n",
    "Show that your function works as desired by:\n",
    "* Plotting the line defined by xgrid and fofxgrid\n",
    "* Plotting the interpolated values for the values of x in the array x = np.linspace(-0.1,1.1,40)\\*2*np.pi\n",
    "\n",
    "![figure](./linterpout.png)"
   ]
  },
  {
   "cell_type": "code",
   "execution_count": null,
   "metadata": {},
   "outputs": [],
   "source": []
  },
  {
   "cell_type": "markdown",
   "metadata": {},
   "source": [
    "Now that we know how to search an ordered list, we should talk about how to put a list in order, a process known as *sorting*. There are many ways to perform a sorting operation. We will look at only one, a method known as *merge sort*.\n",
    "\n",
    "\n",
    "Merge sort works in two pieces. One is the *merge* algorithm. Given two lists, *each of which is already in sorted order*, merge looks at the first element of each list, and moves the smaller of the two to its output list.\n",
    "It keeps doing this until it runs out of elements in one of the two input lists. At this point, all of the elements in the remaining list must be larger than those in the output list, so it then concatinates the remaining list to the end of the output list.\n",
    "\n",
    "Here is an example implementation of merge:"
   ]
  },
  {
   "cell_type": "code",
   "execution_count": null,
   "metadata": {},
   "outputs": [],
   "source": [
    "def merge(A, B):                        # two sorted lists as input\n",
    "    \n",
    "    merged = []                         # make output list\n",
    "    \n",
    "    while len(A) > 0 and len(B) > 0:    # as long both lists are not empty\n",
    "\n",
    "        if A[0] < B[0]:                 # append the smaller of the first elements of A and B\n",
    "            merged.append(A[0])         # to the output list\n",
    "            A = A[1:]                   # and discard the first element from that list\n",
    "        else:\n",
    "            merged.append(B[0])\n",
    "            B = B[1:]\n",
    "            \n",
    "    if len(A) > 0:                      # concatinate the non-empty list remaining\n",
    "        merged += A                     # to the output list\n",
    "    else:\n",
    "        merged += B\n",
    "        \n",
    "    return merged\n"
   ]
  },
  {
   "cell_type": "markdown",
   "metadata": {},
   "source": [
    "Let's test this by creating two lists which are in sorted order, but which contain overlapping ranges of elements.\n",
    "The merged list should be in sorted order."
   ]
  },
  {
   "cell_type": "code",
   "execution_count": null,
   "metadata": {},
   "outputs": [],
   "source": [
    "# start with two sorted lists\n",
    "list1 = [1,3,5,7,9,10,11]\n",
    "list2 = [2,4,6,8,10,12,14,16,18]\n",
    "\n",
    "# merge them\n",
    "result = merge(list1, list2)\n",
    "\n",
    "# the result is a sorted list\n",
    "print(result)"
   ]
  },
  {
   "cell_type": "markdown",
   "metadata": {},
   "source": [
    "#### Exercise 5\n",
    "\n",
    "The recusive magic lies in the mergeSort algorithm itself:\n",
    "* Divide the input list into two halves.\n",
    "* Put these two halves into sorted order (using mergeSort)\n",
    "* Merge these two sorted lists\n",
    "\n",
    "The base case is a list with only one element -- it is, by definition, sorted -- so we can just return it without\n",
    "sorting.\n",
    "\n",
    "Thus, some \"pseudo-code\" for this algorithm is (this is NOT Python code!):\n",
    "\n",
    "     define mergeSort(list):\n",
    "     \n",
    "         If list is of length 1:\n",
    "             return list                                              # base case\n",
    "         \n",
    "         Otherwise:\n",
    "             find the middle of the list\n",
    "             left  = mergeSort( first half of the elements in list)   # recursive call to mergeSort...\n",
    "             right = mergeSort(second half of the elements in list)   # ...done twice\n",
    "         \n",
    "             return merge(left, right)\n",
    "\n",
    "This is an example of a *divide and conquor* algorithm -- breaking up a problem into successivly smaller parts and then putting them back together again."
   ]
  },
  {
   "cell_type": "code",
   "execution_count": null,
   "metadata": {},
   "outputs": [],
   "source": []
  },
  {
   "cell_type": "markdown",
   "metadata": {},
   "source": [
    "#### Exercise 6\n",
    "\n",
    "You can test if a list is in sorted order with the following function. It uses a list comprehension to make a list of\n",
    "True or False. It then uses the all() function to returns True if *all* of the elements in that list are True, and False otherwise.\n",
    "\n",
    "    def isSorted(x):\n",
    "        return all( [ x[i] <= x[i+1] for i in range(len(x)-1) ] )\n",
    "\n",
    "Test your implementation of mergeSort by giving it a list of random numbers. The easiest way to do this is\n",
    "to create a `numpy` array, and then convert it to a list by using the `.tolist()` method:\n",
    "\n",
    "    mylist = np.random.random(20).tolist()\n",
    "    \n",
    "Then sort this list, and use the isSorted function to check the result."
   ]
  },
  {
   "cell_type": "code",
   "execution_count": null,
   "metadata": {},
   "outputs": [],
   "source": []
  },
  {
   "cell_type": "markdown",
   "metadata": {},
   "source": [
    "Recursive algorithms can be very useful where the base case is easy, but the general problem seems complicated.\n",
    "\n",
    "Consider the *Towers of Hanoi* puzzle invented by the mathematician Edouard Lucas in 1883. It is very famous and comes up in a wide variety of \n",
    "\n",
    "Three pegs are set in a row and numbered 1 to 3. We start with N disks of different sizes, stacked in order of size\n",
    "with the smallest on top, on peg 1.\n",
    "\n",
    "The goal is to move this stack onto peg 3, stacked in the same order.\n",
    "\n",
    "Only one disk may be moved at a time, and no disk may rest atop a smaller disk at any time.\n",
    "\n",
    "How would we develop a recursive algorithm for this problem? Let's try playing with an increasing number of disks\n",
    "and look for regularities.\n",
    "\n",
    "Base case, N=1:  \n",
    "\n",
    "    Move the disk from the source, peg 1, to the target, peg 3\n",
    "\n",
    "Case N=2:  \n",
    "We want to move the larger (bottom) disk from peg 1 to peg 3  \n",
    "\n",
    "    Move the smaller (top) disk from the source, peg 1, onto the spare, peg 2  \n",
    "    Move the larger disk from the source, peg 1, onto the target, peg 3  \n",
    "    Move the smaller disk from the spare, peg 2, onto the target, peg 3  \n",
    "    \n",
    "We can restate this more generally as:\n",
    "\n",
    "    Move the top of the source to the spare;  \n",
    "        if we start with a legal configuration, this is the smaller disk so we can move it atop any other.  \n",
    "    (Base case) Move the next on the source to the target;\n",
    "        this is the large disk, so we can't move it atop the spare, only the target.  \n",
    "    Move the top of the spare peg to the target peg:\n",
    "        this is still the smaller disk, so we can move it atop any peg.\n",
    "\n",
    "General Case:  \n",
    "We wish to move the n-th disk from source to target  \n",
    "\n",
    "    move n-1 disks from the source to the spare using target as temporary, by the recursive procedure\n",
    "    move the n-th disk from the source to the target\n",
    "    move n-1 disks from the spare to the target using source as temporary, by the recursive procedure\n",
    "    \n",
    "Thus, our recursive algorithm is\n",
    "\n",
    "    def move(n, source, target, spare):\n",
    "       if n>0:\n",
    "           move(n-1, source, spare, target)\n",
    "           print(f\"moving disk {source[1][-1]} from peg {source[0]} to peg {target[0]}\")\n",
    "           target[1].append(source[1].pop())\n",
    "           move(n-1, spare, target, source)\n",
    "            \n",
    "Thus, even though we may not have much of an idea of a global solution strategy, if we can understand one move,\n",
    "the recusion takes care of the rest!\n",
    "\n",
    "Lets set this up using three lists representing the pegs, and the numbers 1 through N representing disks. We will\n",
    "use a list of lists where peg[0] is the peg number and peg[1] is the list of disks:"
   ]
  },
  {
   "cell_type": "code",
   "execution_count": null,
   "metadata": {},
   "outputs": [],
   "source": [
    "def printGame(A, B, C):\n",
    "    print(f\"peg {A[0]}: {A[1]}\")\n",
    "    print(f\"peg {B[0]}: {B[1]}\")\n",
    "    print(f\"peg {C[0]}: {C[1]}\")\n",
    "\n",
    "N = 3\n",
    "A = [1,list(range(N-1,-1,-1))] # put smallest disk (0) on top, i.e. last\n",
    "B = [2,[]]\n",
    "C = [3,[]]\n",
    "\n",
    "printGame(A, B, C)"
   ]
  },
  {
   "cell_type": "markdown",
   "metadata": {},
   "source": [
    "#### Exercise 7\n",
    "\n",
    "Using the move function and the data structures representing the game from above, solve the Towers of Hanoi problem for\n",
    "5 disks. Print the starting state of the game and the final state.\n",
    "\n",
    "Modify the move function so that it returns the number of moves taken to complete the game.\n",
    "Try this for several different numbers of disks. What is the number of moves required for $N$ disks?"
   ]
  },
  {
   "cell_type": "code",
   "execution_count": null,
   "metadata": {},
   "outputs": [],
   "source": []
  },
  {
   "cell_type": "markdown",
   "metadata": {},
   "source": [
    "For extra credit, try to animate the game, using whatever features of matplotlib you need."
   ]
  }
 ],
 "metadata": {
  "kernelspec": {
   "display_name": "Python 3",
   "language": "python",
   "name": "python3"
  },
  "language_info": {
   "codemirror_mode": {
    "name": "ipython",
    "version": 3
   },
   "file_extension": ".py",
   "mimetype": "text/x-python",
   "name": "python",
   "nbconvert_exporter": "python",
   "pygments_lexer": "ipython3",
   "version": "3.6.5"
  }
 },
 "nbformat": 4,
 "nbformat_minor": 2
}
