{
 "cells": [
  {
   "cell_type": "markdown",
   "metadata": {},
   "source": [
    "# DO THIS :  \n",
    "\n",
    "### *** Names: [Insert Your Names Here;      Optional: indicate preferred pronouns]***\n",
    "\n",
    "# AND IN THE FILENAME"
   ]
  },
  {
   "cell_type": "markdown",
   "metadata": {},
   "source": [
    "##### Problem Set 10             \n",
    "## PHYS 105A   Spring 2019\n",
    "\n",
    "## Contents\n",
    "\n",
    "Review of some Python syntax and concepts\n",
    "\n",
    "** There are 15 exercises that must be completed. **"
   ]
  },
  {
   "cell_type": "markdown",
   "metadata": {},
   "source": [
    "You have been using Python for ten weeks and it is now time to pause, review what you have learned, and then to delve a bit deeper into what is going on when you execute Python code."
   ]
  },
  {
   "cell_type": "code",
   "execution_count": null,
   "metadata": {
    "collapsed": true
   },
   "outputs": [],
   "source": [
    "import numpy as np"
   ]
  },
  {
   "cell_type": "markdown",
   "metadata": {},
   "source": [
    "### Statements and Expressions\n",
    "\n",
    "#### Expressions\n",
    "\n",
    "An *expression* is a group of symbols which can be reduced to a single number. Simple examples of expressions are:\n",
    "\n",
    "    foo                  # a variable\n",
    "    foo + goo            # a simple expression\n",
    "    (2*n-1)/(2*n+1)      # a more complex expression\n",
    "    4*arctan(y,x) + 1    # an expression involving a function\n",
    "    \n",
    "Whenever Python sees an expression, it tries to reduce that expression to a single number. So, for example, if the variable n has the value 5, the last expression is evaluated as\n",
    "\n",
    "    (2*n-1)/(2*n+1)      # original expression\n",
    "    (2*5-1)/(2*n+1)      # substitute 5 for n in numerator\n",
    "    (10-1) /(2*n+1)      # do multiplication before addition\n",
    "    9      /(2*n+1)      # do addition in numerator\n",
    "    9 / (2*5+1)          # substitute 5 for n in denominator\n",
    "    9 / (10+1)           # do multiplication before addition\n",
    "    9 / 11               # do addition in denominator\n",
    "    0.818181818181818182 # do division\n",
    " \n",
    " An expression can contain functions, so that, for example, with \n",
    " \n",
    "    mylist = ['a','b','c']\n",
    " \n",
    " the expression 2\\*len(mylist) is reduced as\n",
    " \n",
    "    2*len(mylist)        # original expression\n",
    "    2*len(<some number>) # look up mylist in dictionary of variables and find where it lives\n",
    "    2*3                  # evaluation the function\n",
    "    6                    # do multiplication\n",
    "    \n",
    " is simplified to a single number, twice the length of mylist."
   ]
  },
  {
   "cell_type": "markdown",
   "metadata": {},
   "source": [
    "#### Statements\n",
    "\n",
    "An *expression* reduces to a value -- in a sense, is *is* something.\n",
    "\n",
    "A *statement* is the smallest piece of a program which performs an action. In a sense, it *does* something.\n",
    "\n",
    "The the following line is a statement\n",
    "\n",
    "    result = (2*n-1)/(2*n+1)\n",
    "    \n",
    "Like perhaps the majority of statements, it uses the *assignment operator*: `=`. Its right-hand side (RHS) is the first expression we looked at above, so the first thing that happens when Python tries to execute this statement is that the\n",
    "expression on the RHS is evaluated.\n",
    "\n",
    "Next, Python add the variable on the LHS to is internal dictionary of defined variables, and, finally, the value determined by evaluating the RHS is assigned to the variable on the LHS.\n",
    "\n",
    "Some statements don't use the assignment operator. They still do something, however. For example, call the `print` function is a statement:\n",
    "\n",
    "    print(f\"the value of a is {a}\")\n",
    "\n",
    "In this case, what `print` does is called a `side effect` -- it doesn't change the value of any variables, but it still does something. (Note that the argument to the print statement is an expression which gets evaluated before the print statement is executed.)"
   ]
  },
  {
   "cell_type": "markdown",
   "metadata": {},
   "source": [
    "#### Exercise 1\n",
    "\n",
    "Assign values to two variables, say\n",
    "\n",
    "    a = 10\n",
    "    b = 50\n",
    "    \n",
    "Then write some code which swaps the values in these two variables -- i.e., after your code, a is 50 and b is 10.\n",
    "Print this result to check that it is correct.\n",
    "\n",
    "Not including the print statements, your code should be at most 3 lines long."
   ]
  },
  {
   "cell_type": "code",
   "execution_count": null,
   "metadata": {
    "collapsed": true
   },
   "outputs": [],
   "source": []
  },
  {
   "cell_type": "markdown",
   "metadata": {},
   "source": [
    "### Conditionals\n",
    "\n",
    "A conditional statement evaluates some *condition* (an expression which evaluates to True or False), and then chooses what code to execute based on the result.\n",
    "\n",
    "The condition expression usually uses operators like `==`, `>`, `<`, `and`, `or`, etc. These operators take two expressions, an RHS and a LHS, and compare them in some way, returning True or False. The syntax is to\n",
    "use a colon after the conditional expression, and then to indent the code to be executed by one indentation level:\n",
    "\n",
    "    a = 10\n",
    "    b = 50\n",
    "    c = 0\n",
    "    \n",
    "    if a*10 > b:\n",
    "        print(\"True\")\n",
    "        c = a\n",
    "    else:\n",
    "        print(\"False\")\n",
    "        c = b\n",
    "        \n",
    "Another useful conditional operator is `in`, which determines if something is an element in a list:\n",
    "\n",
    "    smallPrimes = [1,3,5,7,11,13,17]\n",
    "    \n",
    "    if x in smallPrimes:\n",
    "        print(\"{x} is a small prime\")\n",
    "    else:\n",
    "        print(\"{x} is not in the small primes\")"
   ]
  },
  {
   "cell_type": "markdown",
   "metadata": {},
   "source": [
    "### Loops\n",
    "\n",
    "Loops are constructs for repeating some block of code. The simplest is a `for` loop\n",
    "\n",
    "    for a in somelist:\n",
    "        <code block to be repeated>\n",
    "        \n",
    "A `for` loop takes two variables. The first (\"a\" here) takes on each of the elements in the second, which must be a containter object (\"somelist\" here). The block of code is executed for when a is the first element in the list,\n",
    "and then executed again when a is the second element in the list, and so on.\n",
    "\n",
    "We can use the `range` function to give a list of integers for use in a `for` loop:\n",
    "\n",
    "    for a in range(start, end, step):\n",
    "        <code block to execute>\n",
    "\n",
    "`range` returns a temporary list of integers from start to end in steps of step, not including the value end itself."
   ]
  },
  {
   "cell_type": "markdown",
   "metadata": {},
   "source": [
    "#### Exercise 2\n",
    "\n",
    "Use a for loop to print out the cube of the first 10 odd natural numbers (The natural numbers are the counting numbers,  1,2,3,...)\n",
    "\n",
    "Do this twice:\n",
    " * The first time, have the `for` loop run over all of the integers up to 21 and use a conditional statement (\"if\") inside the loop.\n",
    " * The second time, use the `range` function to give only the odd integers up to 21 to use in the body of the `for` loop. (in other words, have range give only the odd integers in the range)."
   ]
  },
  {
   "cell_type": "code",
   "execution_count": null,
   "metadata": {
    "collapsed": true
   },
   "outputs": [],
   "source": []
  },
  {
   "cell_type": "markdown",
   "metadata": {},
   "source": [
    "### Container objects\n",
    "\n",
    "Container objects are just that -- they hold collections of other objects.\n",
    "\n",
    "We have seen three such objects so far:\n",
    "\n",
    " * lists: generic containers for collections of any kind of objects\n",
    " * numpy arrays: containers designed for mathematical operations\n",
    " * strings: special form of list for character data"
   ]
  },
  {
   "cell_type": "markdown",
   "metadata": {},
   "source": [
    "#### Exercise 3\n",
    "\n",
    "Make a list of all strings 3 characters long using characters taken from the list\n",
    "\n",
    "    letetrs = 'abc'\n",
    "\n",
    "In other words, your list should be ['aaa', 'aab', 'aac', 'aba', 'abb', ... ]\n",
    "\n",
    "NB: remember that lists and strings are concatenated using the '+' operator."
   ]
  },
  {
   "cell_type": "code",
   "execution_count": null,
   "metadata": {
    "collapsed": true
   },
   "outputs": [],
   "source": []
  },
  {
   "cell_type": "markdown",
   "metadata": {},
   "source": [
    "Lists have various *member functions* associated with them. `append` is one.\n",
    "\n",
    "To see all of the member functions for a list we can use the `dir` function which produces a list. \n",
    "\n",
    "Here we have formatted the output a bit more clearly:"
   ]
  },
  {
   "cell_type": "code",
   "execution_count": null,
   "metadata": {
    "collapsed": true
   },
   "outputs": [],
   "source": [
    "output = dir(list)\n",
    "\n",
    "count = 0\n",
    "for l in output:\n",
    "    print(f\"{l:25s}\",end=\"\")\n",
    "    count += 1\n",
    "    if count%4==0: print()"
   ]
  },
  {
   "cell_type": "markdown",
   "metadata": {},
   "source": [
    "The `count` method counts the number of times its argument appears in the list:"
   ]
  },
  {
   "cell_type": "code",
   "execution_count": null,
   "metadata": {
    "collapsed": true
   },
   "outputs": [],
   "source": [
    "a = [ 'Philip', 'Ellen', 'Persephone', 'Philip', 'Dido', 'Aeneas' ]\n",
    "\n",
    "print(f\"Philip occurs {a.count('Philip')} times\")"
   ]
  },
  {
   "cell_type": "markdown",
   "metadata": {},
   "source": [
    "#### Exercise 4\n",
    "\n",
    "The `reverse` method reverses the order of a list; to reverse mylist, use the statement\n",
    "\n",
    "    mylist.reverse()\n",
    "\n",
    "(aside: why is this a statement?)\n",
    "\n",
    "Here is a list of words:\n",
    "\n",
    "words = [ 'my', 'name', 'is', 'Ozymandius', 'king', 'of', 'kings' ]\n",
    "\n",
    "Print out this list in reverse order two ways:\n",
    "  * Using list indexing\n",
    "  * Using the `reverse` method\n"
   ]
  },
  {
   "cell_type": "code",
   "execution_count": null,
   "metadata": {
    "collapsed": true
   },
   "outputs": [],
   "source": []
  },
  {
   "cell_type": "markdown",
   "metadata": {},
   "source": [
    "#### Exercise 5\n",
    "\n",
    "The `pop()` function removes the element in a list with the index specified by its argument. BY default, it removes the last element in the list.\n",
    "\n",
    "Using the list of words \n",
    "\n",
    "    words2 = [ 'look', 'on', 'my', 'works', 'ye', 'mighty', 'and', 'despair' ]\n",
    "\n",
    "remove the first word by reversing the list, popping the last word off, and reversing the list again. Once this is done,\n",
    "print the list."
   ]
  },
  {
   "cell_type": "code",
   "execution_count": null,
   "metadata": {
    "collapsed": true
   },
   "outputs": [],
   "source": []
  },
  {
   "cell_type": "markdown",
   "metadata": {},
   "source": [
    "##### Exercise 6\n",
    "\n",
    "Concatenate the lists words and words2 and print the number of elements in the resulting list"
   ]
  },
  {
   "cell_type": "code",
   "execution_count": null,
   "metadata": {
    "collapsed": true
   },
   "outputs": [],
   "source": []
  },
  {
   "cell_type": "markdown",
   "metadata": {},
   "source": [
    "### List comprehensions\n",
    "\n",
    "List comprehensions make a list by executing a loop within square brackets:\n",
    "\n",
    "    first5ints = [ i for i in range(1,6) ]\n",
    "    \n",
    "One can include more than one loop:\n",
    "\n",
    "    coordinates = [ [i,j] for i in range(1,4) for j in range(1,5) ]\n",
    "    \n",
    "One can include conditionals with the list comprehension as well:\n",
    "\n",
    "    evens = [ i for i in range(1,21) if i%2==0 ]\n",
    "    \n",
    "Here is the Sieve of Eratosthenes as a list comprehension; the function `all` returns true when given a list\n",
    "only if all elements are true:\n",
    "\n",
    "    primes = [ x for x in range(2, 101) if all( [ x%y!=0 for y in range(2, min(x, 11)) ] ) ]"
   ]
  },
  {
   "cell_type": "code",
   "execution_count": null,
   "metadata": {
    "collapsed": true
   },
   "outputs": [],
   "source": [
    "primes = [ x for x in range(2, 101) if all( [ x%y!=0 for y in range(2, min(x, 11)) ] ) ]\n",
    "print(primes)"
   ]
  },
  {
   "cell_type": "markdown",
   "metadata": {},
   "source": [
    "#### Exercise 7\n",
    "\n",
    "Using list comprehensions, create (and print out) the following lists:"
   ]
  },
  {
   "cell_type": "markdown",
   "metadata": {},
   "source": [
    "##### Exercise 7a\n",
    "The square of the integers from 1 to 20\n"
   ]
  },
  {
   "cell_type": "code",
   "execution_count": null,
   "metadata": {
    "collapsed": true
   },
   "outputs": [],
   "source": []
  },
  {
   "cell_type": "markdown",
   "metadata": {},
   "source": [
    "##### Exercise 7b\n",
    "The set of pairs of positive integers $i,j$ where $i+j=10$ and where $i\\le j$"
   ]
  },
  {
   "cell_type": "code",
   "execution_count": null,
   "metadata": {
    "collapsed": true
   },
   "outputs": [],
   "source": []
  },
  {
   "cell_type": "markdown",
   "metadata": {},
   "source": [
    "##### Exercise 7c\n",
    "The set of $a,b,c$ such that $a^2+b^2=c^2$ for $c\\le100$ and $c$ even\n",
    "\n",
    "Then show that the number of these triples is 20"
   ]
  },
  {
   "cell_type": "code",
   "execution_count": null,
   "metadata": {
    "collapsed": true
   },
   "outputs": [],
   "source": []
  },
  {
   "cell_type": "markdown",
   "metadata": {},
   "source": [
    "#### Exercise 8\n",
    "\n",
    "Write a list comprehension to compute the 5 by 5 Hilbert matrix:\n",
    "    \n",
    "$$ H = \\left[ \\begin{array}{ccccc}\n",
    "             1&\\frac{1}{2}&\\frac{1}{3}&\\frac{1}{4}&\\frac{1}{5}\\\\\n",
    "             \\frac{1}{2}&\\frac{1}{3}&\\frac{1}{4}&\\frac{1}{5}&\\frac{1}{6}\\\\\n",
    "             \\frac{1}{3}&\\frac{1}{4}&\\frac{1}{5}&\\frac{1}{6}&\\frac{1}{7}\\\\\n",
    "             \\frac{1}{4}&\\frac{1}{5}&\\frac{1}{6}&\\frac{1}{7}&\\frac{1}{8}\\\\\n",
    "             \\frac{1}{5}&\\frac{1}{6}&\\frac{1}{7}&\\frac{1}{8}&\\frac{1}{9}\n",
    "             \\end{array}\n",
    "    \\right] $$\n",
    "    \n",
    "\n",
    "and then print the result formatted to look like this:\n",
    "\n",
    "    1.000  0.500  0.333  0.250  0.200 \n",
    "    0.500  0.333  0.250  0.200  0.167 \n",
    "    0.333  0.250  0.200  0.167  0.143 \n",
    "    0.250  0.200  0.167  0.143  0.125 \n",
    "    0.200  0.167  0.143  0.125  0.111"
   ]
  },
  {
   "cell_type": "code",
   "execution_count": null,
   "metadata": {
    "collapsed": true
   },
   "outputs": [],
   "source": []
  },
  {
   "cell_type": "markdown",
   "metadata": {},
   "source": [
    "### numpy ndarrays\n",
    "\n",
    "`numpy` arrays are designed for element-by-element mathematical operations. Technically, these objects are `numpy.ndarray`'s\n",
    "\n",
    "There are many more methods associated with `numpy,ndarrays`. Let's find out what they are"
   ]
  },
  {
   "cell_type": "code",
   "execution_count": null,
   "metadata": {
    "collapsed": true
   },
   "outputs": [],
   "source": [
    "output = dir(np.ndarray)\n",
    "\n",
    "count = 0\n",
    "for l in output:\n",
    "    print(f\"{l:25s}\",end=\"\")\n",
    "    count += 1\n",
    "    if count%4==0: print()"
   ]
  },
  {
   "cell_type": "markdown",
   "metadata": {},
   "source": [
    "One of these methods is `cumsum`, the cumulative sum of the elements in an array.\n",
    "\n",
    "Thus, applying `cumsum` to an array of ones, we have"
   ]
  },
  {
   "cell_type": "code",
   "execution_count": null,
   "metadata": {
    "collapsed": true
   },
   "outputs": [],
   "source": [
    "np.ones(10).cumsum()"
   ]
  },
  {
   "cell_type": "markdown",
   "metadata": {},
   "source": [
    "#### Exercise 9\n",
    "One of the `np.ndarray` methods is `prod()`, the product of the elements in the array.\n",
    "\n",
    "Using `np.linspace` and `prod`, compute the factorial of 10 in one line"
   ]
  },
  {
   "cell_type": "code",
   "execution_count": null,
   "metadata": {
    "collapsed": true
   },
   "outputs": [],
   "source": []
  },
  {
   "cell_type": "markdown",
   "metadata": {},
   "source": [
    "### Functions\n",
    "\n",
    "Functions are a shorthand notation for a set of statements, typically used when you need to execute those statements many times with different data.\n",
    "\n",
    "A function can take a set (possible empty) of *arguments* which are specified in the \"def\" -- these are the input to the function. \n",
    "\n",
    "An important thing to remember which often proves a stumbling block for beginning programmers is:\n",
    "\n",
    "  * the name of the arguments within the function has nothing to do with the name of the arguments given to the function\n",
    "  * only the *order* of the arguments matters\n",
    "\n",
    "Thus,"
   ]
  },
  {
   "cell_type": "code",
   "execution_count": null,
   "metadata": {
    "collapsed": true
   },
   "outputs": [],
   "source": [
    "def print2args(arg1, arg2):\n",
    "    print(arg1, arg2)\n",
    "    \n",
    "x = 10\n",
    "y = 20\n",
    "print2args(x,y)\n",
    "print2args(y,x)"
   ]
  },
  {
   "cell_type": "markdown",
   "metadata": {},
   "source": [
    "Even if the names of the variables given as arguments are the same as those used as arguments in the function definition, these two sets of names *have nothing to do with each other*. Hence"
   ]
  },
  {
   "cell_type": "code",
   "execution_count": null,
   "metadata": {
    "collapsed": true
   },
   "outputs": [],
   "source": [
    "arg1 = 10\n",
    "arg2 = 20\n",
    "print2args(arg1, arg2)\n",
    "print2args(arg2, arg1)"
   ]
  },
  {
   "cell_type": "markdown",
   "metadata": {},
   "source": [
    "Python also allows *named arguments*, but again the same ideas apply"
   ]
  },
  {
   "cell_type": "code",
   "execution_count": null,
   "metadata": {
    "collapsed": true
   },
   "outputs": [],
   "source": [
    "def funcWithNamedArgs(arg1, arg2):\n",
    "    print(f\"arg1: {arg1}\")\n",
    "    print(f\"arg2: {arg2}\\n\")\n",
    "\n",
    "fred = 10\n",
    "george = 20\n",
    "funcWithNamedArgs(arg1=fred, arg2=george)\n",
    "funcWithNamedArgs(arg2=george, arg1=fred)\n",
    "funcWithNamedArgs(arg1=george, arg2=fred)\n",
    "funcWithNamedArgs(arg2=fred, arg1=george)"
   ]
  },
  {
   "cell_type": "markdown",
   "metadata": {},
   "source": [
    "#### Exercise 10\n",
    "\n",
    "Write a function to compute the factorial of a number using the same `numpy` method you used above.\n",
    "\n",
    "Then use it to print a table of the first 10 factorials as\n",
    "\n",
    "    factorial of  1 is          1\n",
    "    factorial of  2 is          2\n",
    "    factorial of  3 is          6\n",
    "    factorial of  4 is         24\n",
    "    factorial of  5 is        120\n",
    "    factorial of  6 is        720\n",
    "    factorial of  7 is       5040\n",
    "    factorial of  8 is      40320\n",
    "    factorial of  9 is     362880\n",
    "    factorial of 10 is    3628800"
   ]
  },
  {
   "cell_type": "code",
   "execution_count": null,
   "metadata": {
    "collapsed": true
   },
   "outputs": [],
   "source": []
  },
  {
   "cell_type": "markdown",
   "metadata": {},
   "source": [
    "### Variable Scope\n",
    "\n",
    "The *scope* of a variable refers to the locations within your program where the variable is defined.\n",
    "\n",
    "Outside of any function (or, technically, within the \\_\\_main__ function), Python keeps a dictionary of all variable definitions in what is called the *global scope*.\n",
    "\n",
    "Once we enter the execution (*not* the definition!) of a function, Python keeps a different dictionary of all variable definitions within the *local* scope of the function.\n",
    "\n",
    "When Python encounters a variable name, it first looks up the definition in the appropriate local dictionary, if any, and only if the variable is not found there, it then looks up the definition in the global dictionary.\n",
    "\n",
    "Even if a variable in one scope has the same *name* as a variable in another scope, *it is a different variable*; when definied in a more-local scope, variable names override their counterparts in a more-global scope.\n",
    "\n",
    "Consider the following program:"
   ]
  },
  {
   "cell_type": "code",
   "execution_count": null,
   "metadata": {
    "collapsed": true
   },
   "outputs": [],
   "source": [
    "# first line executed\n",
    "bigN = 10                                             # bigN is >>global<< \n",
    "\n",
    "# second line executed\n",
    "x = 17                                                # this x is >>global<<\n",
    "\n",
    "# third and fourth\n",
    "print(f\"in global scope at top, bigN is: {bigN}\")\n",
    "print(f\"in global scope at top,    x is: {x}\\n\")\n",
    "\n",
    "def myFunc(x):\n",
    "    print(\"at top of myFunc:\")\n",
    "    print(f\"  in scope of myFunc,    x is: {x}\")\n",
    "    print(f\"  in myFunc, global   bigN is: {bigN}\")\n",
    "\n",
    "    x = bigN                                          # this x is >>local<< to myFunc\n",
    "    print(f\"  in scope of myFunc,    x is: {x}\")\n",
    "    \n",
    "    print(f\"  in myFunc, global   blah is: {blah}\")   # blah is global, but not even defined yet\n",
    "    \n",
    "    print(\"  leaving myFunc scope\\n\")\n",
    "    \n",
    "    \n",
    "# fifth line executed\n",
    "blah = 1000                                           # blah is defined here, after it is used in myFunc\n",
    "\n",
    "# first time statements in myFunc are executed\n",
    "myFunc(x)                                             # call myFunc with >>global<< x as argument\n",
    "\n",
    "print(f\"in global scope at bottom,    x is: {x}\\n\")\n",
    "\n",
    "myFunc(blah)                                          # call myFunc with <<global<< blah as argument\n",
    "\n",
    "print(f\"in global scope at bottom, blah is: {blah}\")\n",
    "print(f\"in global scope at bottom,    x is: {x}\\n\")"
   ]
  },
  {
   "cell_type": "markdown",
   "metadata": {},
   "source": [
    "Let's carefully trace through the execution of this program.\n",
    "\n",
    " * We start the program outside of any function (or, technically, within the \\__main__ function), so we are in *global scope*.\n",
    "   * We define the variable \"x\" by using it on the left hand side of an assignment statement, so Python adds the variable name \"x\" to the *global* dictionary of variable names.\n",
    "   * the expression \"10\" on the right hand side of the assignment statement is evaluated (trivially)\n",
    "   * Python looks up the variable \"x\" in its global dictionary, finds its location, and puts in the number \"10\"\n",
    "   * The same things happen for \"bigN\"  \n",
    "   <br>\n",
    " \n",
    " * We use bigN in the argument to the print function. As we are in the global part of the code, Python\n",
    "   * looks in the global dictionary for the name \"bigN\"\n",
    "   * it finds it, and then uses that information to evaluate \"bigN\" as 10\n",
    "   * it then passes the value 10 to the print function (the *value*, not the *variable*)  \n",
    "   <br>\n",
    " * We use x in the argument to the print function.  As we are in the global part of the code, Python\n",
    "   * looks in the global dictionary for the name \"x\"\n",
    "   * it finds it, and then uses that information to evaluate \"x\" as 17\n",
    "   * it then passes the value 17 to the print function  \n",
    "   <br>\n",
    " * We then enter the *definition* of the function myFunc.\n",
    "   * No code is executed! This is only a definition.\n",
    "   * Python saves this definition for further use without trying to use *any* of the variables.  \n",
    "   <br>\n",
    "   \n",
    " * Once we are no longer within the definition of myFunc, we are back to global scope.\n",
    "   * We use \"blah\" on the RHS of an assignment statement. As we are in the global part of the code, Python\n",
    "   * adds the variable name \"blah\" to the global dictionary of variable names.\n",
    "   * the expression \"1000\" on the right hand side of the assignment statement is evaluated\n",
    "   * Python looks up the variable \"blah\" in its global dictionary, finds its location, and puts in the number \"1000\"  \n",
    "   <br>\n",
    " * We now call the function myFunc, giving the argument \"x\"\n",
    "   * Python looks up \"x\" in the global dictionary, finds its location, and uses it to evaluate x to 17\n",
    "   * Python passes the value 17 to the function.  \n",
    "   <br>\n",
    "   \n",
    "   * Within the function, Python sees the argument \"x\" and adds it to the *local* dictionary (local to myFunc)\n",
    "   * It uses the local dictionary to find \"x\", and then puts the argument value 17 into the *local variable* x  \n",
    "   <br>\n",
    "   * We use \"x\" as an argument to the print function. Python\n",
    "     * looks up the variable \"x\" in its local dictionary and finds it\n",
    "     * it uses that information to evaluate \"x\" as 17\n",
    "     * it passes the value 17 to the print function  \n",
    "     <br>\n",
    "     \n",
    "   * We use \"bigN\" as an argument to the print function. Python\n",
    "     * looks up the variable \"bigN\" in its local dictionary, but fails to find it as it has not been defined within the function myFunc\n",
    "     * it then looks up the variable in the global dictionary and finds it.\n",
    "     * it uses that information to evaluate \"bigN\" as 10\n",
    "     * it passes the value 10 to the print function  \n",
    "     <br>\n",
    "     \n",
    "   * Python next sees the statement \"x = bigN\". It looks up \"bigN\" in its local dictionary; not finding it, it looks it up in the global dictionary and finds it.\n",
    "     * Python uses this information to evaluate bigN as 10\n",
    "     * Python sees the \"x\" on the LHS of the assignment statement. It looks \"x\" up in the local dictionary and finds it.\n",
    "     * Python uses this information to put 10 in the local variable \"x\"  \n",
    "     <br>\n",
    "     * We use \"x\" as an argument to the print statement. Python looks up \"x\" in the local dictionary and finds it.\n",
    "     * It uses this information to evalultate x as 10, and passes this value to the print statement  \n",
    "     <br>\n",
    "   * and so on until we get to the end of myFunc  \n",
    "<br>   \n",
    "\n",
    " * We repeat the same process, calling myFunc with the argument \"blah\", which is evaluated using the global dictionary as 1000 and then passed to myFunc, and so on... "
   ]
  },
  {
   "cell_type": "markdown",
   "metadata": {},
   "source": [
    "If we call a function from within a function, each successive function call generates its own more-local dictionary of variable definitions.\n",
    "\n",
    "Moreover, each time we call a given function, we generate a *new and different* local dictionary\n",
    "\n",
    "Scope is thus very central to understanding how code functions."
   ]
  },
  {
   "cell_type": "markdown",
   "metadata": {},
   "source": [
    "\n",
    "Let's do some experimentation to explore the concept of scope:\n",
    "\n",
    "Above, we passed a simple, scalar variable to the function myFunc. We wrote\n",
    "\n",
    "    myFunc(x)\n",
    "    \n",
    "Python then looked up \"x\" in the appropriate dictionary, found its value, and passed the *value* to the function.\n",
    "Within the function, the parameter \"x\" was a *local* variable, set intitially to the value 17.\n",
    "\n",
    "Inside the function, we could store something new into the local variable \"x\" defined as the parameter, but this left the global variable \"x\" passed as the argument to the function unchanged. Indeed, the function really got the value 17 passed into it. How could it possibly know that this coressponded to the global variable x? \n",
    "\n",
    "Let's write a new function, and pass it a list:"
   ]
  },
  {
   "cell_type": "code",
   "execution_count": null,
   "metadata": {
    "collapsed": true
   },
   "outputs": [],
   "source": [
    "def func2(x):\n",
    "    print(f\"at top of function, x: {x}, of type {type(x)}\")\n",
    "    x = 21\n",
    "    print(f\"at bottom of function, x: {x}, of type {type(x)}\")\n",
    "    \n",
    "mylist = [1,3,5,7,9]\n",
    "\n",
    "func2(mylist)\n",
    "\n",
    "print(f\"back at global scope, mylist: {mylist}\")"
   ]
  },
  {
   "cell_type": "markdown",
   "metadata": {},
   "source": [
    "Here, the middle line of the function turns the local variable x into an int, yet the global variable mylist remains unchanged.\n",
    "\n",
    "Let's try yet another function:"
   ]
  },
  {
   "cell_type": "code",
   "execution_count": null,
   "metadata": {
    "collapsed": true
   },
   "outputs": [],
   "source": [
    "def func3(x):\n",
    "    x[2] = 1000\n",
    "    x = 20\n",
    "    print(f\"inside func3 at bottom, x: {x}\")\n",
    "    \n",
    "mylist = [1,2,3,4,5]\n",
    "\n",
    "func3(mylist)\n",
    "print(f\"after calling func3, in global scope mylist: {mylist})\")\n"
   ]
  },
  {
   "cell_type": "markdown",
   "metadata": {},
   "source": [
    "Here we have passed a list to func3 which modifies an element of the list. Once we are back in global scope, the elements of the list is still modified! What happened here?\n",
    "\n",
    "When we pass a list to the function, Python passes the name of the list. The value of the argument in the function is now\n",
    "an *alias* for the list -- another name for the same list.\n",
    "\n",
    "*It does not pass a copy of the list!*\n",
    "\n",
    "When the first line in func3 modifies an element of that list, it is modifying the original list.\n",
    "\n",
    "We can then do anything we want to the local variable x. The list is still modified.\n",
    "\n",
    "Thus, while we cannot affect the value of a scalar variable passed into a function, we *can* modify a container object passed into a function. Thus, "
   ]
  },
  {
   "cell_type": "code",
   "execution_count": null,
   "metadata": {
    "collapsed": true
   },
   "outputs": [],
   "source": [
    "def addOneContainer(x):\n",
    "    n = len(x)\n",
    "    for i in range(n):\n",
    "        x[i] += 1\n",
    "\n",
    "    # note: no return statement!\n",
    "\n",
    "def addOneScalar(x):\n",
    "    x += 1\n",
    "    return x             # need to return in order to change anything at global scope\n",
    "    \n",
    "q = [ i for i in range(10) ]\n",
    "print(f\"list starts as: {q}\")\n",
    "addOneContainer(q)\n",
    "print(f\"   list is now: {q}\")\n",
    "print()\n",
    "\n",
    "q = 2\n",
    "print(f\"scalar starts as: {q}\")  # we don't catch the return value, so it is discarded\n",
    "addOneScalar(q)\n",
    "print(f\"   scalar is now: {q}\")\n",
    "print()\n",
    "\n",
    "q = 2\n",
    "print(f\"scalar starts as: {q}\")\n",
    "q = addOneScalar(q)              # now we catch the return value\n",
    "print(f\"   scalar is now: {q}\")"
   ]
  },
  {
   "cell_type": "markdown",
   "metadata": {},
   "source": [
    "### Parsing Data Files\n",
    "\n",
    "As we have seen, a common need is to read data in from a file which has some arbitrary format.\n",
    "\n",
    "We will work on the file 'dataset.txt'. It has some variables and values in it to read in.\n",
    "\n",
    "One thing to note is that every time `readline()` reads a line, the line has, at least, one character in it -- the newline character.\n",
    "\n",
    "If the length of the line read in is zero, this means that we have arrived at the end of the file."
   ]
  },
  {
   "cell_type": "markdown",
   "metadata": {},
   "source": [
    "#### Exercise 11\n",
    "\n",
    "Open the file using the `with` statement.\n",
    "\n",
    "Using a `while` loop, read each line into a string using the `readline()` method of the file object,\n",
    "and print out the string -- don't print extra newlines!\n",
    "\n",
    "Stop reading when you reach the end of the file.\n",
    "\n",
    "Note that we can keep looping until the end of a file using the `break` statement, which breaks out of the current loop:\n",
    "\n",
    "    while True:\n",
    "        line = file.readline()\n",
    "        if len(file) == 0:\n",
    "            break"
   ]
  },
  {
   "cell_type": "code",
   "execution_count": null,
   "metadata": {
    "collapsed": true
   },
   "outputs": [],
   "source": [
    "            "
   ]
  },
  {
   "cell_type": "markdown",
   "metadata": {},
   "source": [
    "#### Exercise 12\n",
    "\n",
    "Write some code to get just the value of the variable 'epsilon' out of the file, and print it out as a float variable in\n",
    "scientific notation.\n",
    "\n",
    "Note that you will split the line on spaces to get the name and the value as separate strings in a list.\n",
    "\n",
    "You will then have to strip the trailing colon off the first element in this list with .rstrip(':') to get the name."
   ]
  },
  {
   "cell_type": "code",
   "execution_count": null,
   "metadata": {
    "collapsed": true
   },
   "outputs": [],
   "source": []
  },
  {
   "cell_type": "markdown",
   "metadata": {},
   "source": [
    "#### Exercise 13\n",
    "\n",
    "Write a function which takes two strings, the name of a file and the name of a variable.\n",
    "\n",
    "The function should open the file, find the line with the variable in the file, get its value, and return that value as a float.\n",
    "\n",
    "If the variable name is not in the file, your function should report this as an error, giving the file and the variable sought, and return the value None instead.\n",
    "\n",
    "You can test if a variable's value is None using:\n",
    "\n",
    "    if variable is not None:\n",
    "    \n",
    "Use this function to extract the value of y from the file dataset.txt and print out its value.\n",
    "\n",
    "Show that your code for the case that the variable is not there by trying to extract z from the file."
   ]
  },
  {
   "cell_type": "code",
   "execution_count": null,
   "metadata": {
    "collapsed": true
   },
   "outputs": [],
   "source": []
  },
  {
   "cell_type": "markdown",
   "metadata": {},
   "source": [
    "#### Exercise 14\n",
    "\n",
    "Use the function you have just created to extract the values of x and of y from the files dataset.txt, moredata.txt, and yetmoredata.txt.\n",
    "\n",
    "Just use your function each time you wish to extract a different variable.\n",
    "\n",
    "Put these filenames in a list, and loop through the list to do this exercise. Format your output like this:\n",
    "\n",
    "    in     dataset.txt: x =  2.500e+01, y =  4.800e+01\n",
    "    in    moredata.txt: x =  1.020e+01, y =  6.500e-02\n",
    "    in yetmoredata.txt: x =  4.200e+01, y =  8.480e+01\n"
   ]
  },
  {
   "cell_type": "code",
   "execution_count": null,
   "metadata": {
    "collapsed": true
   },
   "outputs": [],
   "source": []
  },
  {
   "cell_type": "markdown",
   "metadata": {},
   "source": [
    "#### Exercise 15\n",
    "\n",
    "Modify the answer to the previous exercise to make it a bit more useful:\n",
    "\n",
    "Add a third argument to the function, which will be a Python data type: int, float, str, etc.\n",
    "\n",
    "Within your function, instead of converting the variable you find to float, use this third argument as\n",
    "the function to do the conversion.\n",
    "\n",
    "Use the new code to extract the variables type (of type str), n (of type int), and y (of type float)\n",
    "\n",
    "Format your output as:\n",
    "\n",
    "    in     dataset.txt: n =   10, y =  4.870e+01, type=galaxy\n",
    "    in    moredata.txt: n =  100, y =  6.500e-02, type=star\n",
    "    in yetmoredata.txt: n = 1000, y =  8.480e+01, type=supernova\n"
   ]
  },
  {
   "cell_type": "code",
   "execution_count": null,
   "metadata": {
    "collapsed": true
   },
   "outputs": [],
   "source": []
  }
 ],
 "metadata": {
  "kernelspec": {
   "display_name": "Python 3",
   "language": "python",
   "name": "python3"
  },
  "language_info": {
   "codemirror_mode": {
    "name": "ipython",
    "version": 3
   },
   "file_extension": ".py",
   "mimetype": "text/x-python",
   "name": "python",
   "nbconvert_exporter": "python",
   "pygments_lexer": "ipython3",
   "version": "3.6.5"
  }
 },
 "nbformat": 4,
 "nbformat_minor": 2
}
