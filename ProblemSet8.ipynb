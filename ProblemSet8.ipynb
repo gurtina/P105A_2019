{
 "cells": [
  {
   "cell_type": "markdown",
   "metadata": {},
   "source": [
    "# DO THIS :  \n",
    "\n",
    "### *** Names: [Insert Your Names Here;      Optional: indicate preferred pronouns]***\n",
    "\n",
    "# AND IN THE FILENAME"
   ]
  },
  {
   "cell_type": "markdown",
   "metadata": {},
   "source": [
    "# Problem Set 8             \n",
    "## PHYS 105A   Spring 2019\n",
    "\n",
    "## Contents\n",
    "\n",
    "1. Review of reading input from files \n",
    "2. Supernova cosmology\n",
    "\n",
    "** There are 2 exercises that may be completed for extra credit. **"
   ]
  },
  {
   "cell_type": "markdown",
   "metadata": {},
   "source": [
    "Before we get started, let's execute the following cell which is almost always needed for our notebooks:"
   ]
  },
  {
   "cell_type": "code",
   "execution_count": null,
   "metadata": {},
   "outputs": [],
   "source": [
    "import numpy as np\n",
    "import matplotlib.pyplot as plt\n",
    "%matplotlib inline"
   ]
  },
  {
   "cell_type": "markdown",
   "metadata": {},
   "source": [
    "and this will make the plots appear larger"
   ]
  },
  {
   "cell_type": "code",
   "execution_count": null,
   "metadata": {},
   "outputs": [],
   "source": [
    "plt.rcParams[\"figure.dpi\"] = 120"
   ]
  },
  {
   "cell_type": "markdown",
   "metadata": {},
   "source": [
    "In this exercise we will use data from the Supernova Cosmology project, one of the two teams which first found that the expansion rate of the Universe is accelerating in 1999. A simple introduction to the methods and findings of the SCP group can be found at https://newscenter.lbl.gov/2009/10/27/evolving-dark-energy/. The original paper is Perlmutter *et al.* 1999, \"Measurement of $\\Omega$ and $\\Lambda$ from 42 High Redshift Supernovae\", The Astrophysical Journal, Vol. 517, page 565.\n",
    "\n",
    "The data set we will be using is a more recent sample, containing observations of 580 supernovae, known as the Union 2.1 sample from the paper Suzuki *et al*. 2012, \"THE *HUBBLE SPACE TELESCOPE* CLUSTER SUPERNOVA SURVEY. V. IMPROVING THE DARK-ENERGY CONSTRAINTS ABOVE $z>1$ AND BUILDING AN EARLY-TYPE-HOSTED SUPERNOVA SAMPLE\", The Astrophysical Journal, vol. 746, page 85.\n",
    "\n",
    "The data are in the file SCPUnion2.1_mu_vs_z.txt on D2L, which yoy may have downloaded in the last lab. If not, download it now into your working directory."
   ]
  },
  {
   "cell_type": "markdown",
   "metadata": {},
   "source": [
    "We will read in the file using the `with` statement. Recall that one should always close files when finished using them.\n",
    "The `with` statement makes this automatic; using it is a good habit to form.\n",
    "\n",
    "Lets simply open the file and print out the first 10 lines to recall how to read from a file:"
   ]
  },
  {
   "cell_type": "code",
   "execution_count": null,
   "metadata": {},
   "outputs": [],
   "source": [
    "with open('SCPUnion2.1_mu_vs_z1.txt', 'r') as infile:\n",
    "    for i in range(10):\n",
    "        line = infile.readline()\n",
    "        line = line.rstrip(\"\\n\")\n",
    "        print(line)"
   ]
  },
  {
   "cell_type": "markdown",
   "metadata": {},
   "source": [
    "The top of any good data file intended for sharing with others contains a \"header\" -- some lines at the top which describe the contents of the file.\n",
    "\n",
    "Here we see that the file contains the SCP Union2.1 data, and that the columns are:\n",
    "\n",
    " * the name of the supernova\n",
    " * the redshift measured from its spectrum\n",
    " * its distance modulus\n",
    " * an estimate of the measurement error in the distance modulus\n",
    " * the probability it occurred in a low-mass host galaxy\n",
    " \n",
    "For this exercise, we won't care what a supernova's name is, and we won't get to the last column until the end of the exercise.\n",
    "\n",
    "Before we start analyzing this data, you need to know some astronomical background. Ultimately, we'll be making a plot of velocity versus distance, but we need to know how astronomers measure these quantities.\n",
    "\n",
    "The supernovae listed in the data file are all of a particular type called Type Ia Supernovae, thought to be the thermonuclear incineration of a carbon/oxygen white dwarf star. The explosions last about a month and are so luminous that they can be seen halfway across the observable Universe; they release something like $10^{44}$ J of energy, and at peak brightness their luminosity is about $1.5\\times10^{38}$ watts. Much of the iron in the Universe is made in Type Ia supernova explosions.\n",
    "\n",
    "Type Ia supernovae are surprisingly uniform in their peak luminosity -- they aren't all pecisely the same, but by various means one can determine their peak luminosity within fairly small errors. Objects which are all of the same luminosity are known as *standard candles*. Because the flux (energy per time per area), what we perceive as brightness, falls off as the square of the distance to a source,\n",
    "\n",
    "$$ F(d) = \\frac{L}{4\\pi d^2}$$\n",
    "\n",
    "if we know a source's luminosity $L$, we can ask: how far away must the object be for it to appear as bright as we see? This measurement of distance is known as a *luminosity distance*. Of course, this depends upon knowning the true luminosity in the first place, hence the use of standard candles.\n",
    "\n",
    "Next we need to understand how astronomers measure brightness. This goes all the way back to Hipparchus, born *circa* 190\n",
    "BC in Nicaea in what is now Turkey. Hipparchus first classified stars by their apparent brightness. Of course, he had little idea of what a star was, but he nonetheless placed all of the stars visible to him into six brightness categories call *magnitudes*. Naturally, he put the brightest stars in the first magnitude, so that the dimmest stars (to him) were in magnitude 6. Because the human perception of brightness is proportional to the logarithm of the intensity of light arriving at the eye, Hipparchos' scale is a logarithmic one. The modern definition is that five magnitudes span\n",
    "a factor of one hundred in brightness, so that the ratio in brightness of two sources one magnitude apart is $\\sqrt[\\leftroot{5}\\uproot{2}5]{100}$. Thus, the magnitude of a source with a flux measured as $F$ is\n",
    "\n",
    "$$ m = -2.5 \\log_{10} \\left(\\frac{F}{F_0}\\right)$$\n",
    "\n",
    "where $F_0$ is some standard flux which defines the zero-point (the calibration) of the magnitude scale. Roughly speaking, the star Vega in the constellation Lyra has magnitude zero. This definition of magnitude, written with a lowercase $m$, is called the *apparent magnitude* -- it is a measure of how bright an object *appears*, and not of how luminous an object actually is.\n",
    "\n",
    "We define the *absolute magnitude* $M$ (with an uppercase $M$) as the magnitude a source would have *if it were at a distance of 10 parsecs*\n",
    "\n",
    "$$ M = -2.5 \\log_{10} \\left( \\frac{1}{F_0} \\frac{L}{4\\pi (10\\ \\textrm{pc})^2} \\right) $$\n",
    "\n",
    "Thus, $M$ is a measure not of the flux $F$ we perceive at Earth but of the intrinsic luminosity $L$ of the source itself."
   ]
  },
  {
   "cell_type": "markdown",
   "metadata": {},
   "source": [
    "We can then form the difference between the absolute magnitude $M$ and the apparent magnitude $m$, a number called the *distance modulus* which depends only upon the distance to the source\n",
    "\n",
    "$$\n",
    "\\begin{split}\n",
    "m-M &= - 2.5 \\log_{10} \\left(\\frac{1}{F_0}\\frac{L}{4\\pi d^2}\\right) + 2.5 \\log_{10}\\left(\\frac{1}{F_0}\\frac{L}{4\\pi(10\\ \\textrm{pc})^2}\\right)  \\\\\n",
    "&= 5 \\log_{10}\\left(\\frac{d}{10\\ \\textrm{pc}}\\right)\n",
    "\\end{split}\n",
    "$$\n",
    "Because $M$ and $m$ are logarithmic functions, their difference is proportional to the *ratio* of the distance $d$ to 10 pc.\n",
    "\n",
    "This is the distance measurement given in the data file for the distance to the supernovae. The measured distance is then\n",
    "\n",
    "$$ d = 10^{(m-M)/5 +1} \\textrm{pc} $$"
   ]
  },
  {
   "cell_type": "markdown",
   "metadata": {},
   "source": [
    "Astronomers most frequently measure the velocity of objects in the direction toward or away from Earth by measuring the Doppler shift of features in their spectra, with positive velocities defined as moving away from Earth. Because the Universe is expanding, objects beyond the immediate vicinity of Earth, say, beyond a few million parsecs (Mpc), are all moving away from us. Thus all distant objects show a shift toward the red (low-energy) end of the spectrum -- a *redshift*. This shift is measured as a fraction of the speed of light.\n",
    "\n",
    "You will note that some of the supernova in this datafile exhibit a redshift greater than one? How can this be?"
   ]
  },
  {
   "cell_type": "markdown",
   "metadata": {},
   "source": [
    "Now that we know what the data describe, let's do some exploring. First, we need to read in the data and convert it to a form we can plot.\n",
    "\n",
    "We'll want three arrays: the redshift, the distance modulus, and the distance modulus error. Because it is easier to append to a list than an array, we'll read the data in, convert to `float`'s, and then append to these lists.\n",
    "\n",
    "We'll make a simple plot at the end, just to be sure we've read things in correctly."
   ]
  },
  {
   "cell_type": "code",
   "execution_count": null,
   "metadata": {},
   "outputs": [],
   "source": [
    "z = []    # redshift list\n",
    "dm = []   # distance modulus\n",
    "dme = []  # error in dm\n",
    "\n",
    "with open('SCPUnion2.1_mu_vs_z1.txt','r') as infile:\n",
    "    for line in infile:\n",
    "        if line[0]!='#':\n",
    "            name, z0, dm0, dme0, foo = line.split()\n",
    "            \n",
    "            z.append( float(z0) )\n",
    "            dm.append( float(dm0) )\n",
    "            dme.append( float(dme0) )\n",
    "\n",
    "plt.plot(z,dm,'b.')\n",
    "plt.xlabel('redshift')\n",
    "plt.ylabel('m-M')\n"
   ]
  },
  {
   "cell_type": "markdown",
   "metadata": {},
   "source": [
    "Let's convert the lists into arrays so that we can use them in mathematical expressions more easily using `numpy`"
   ]
  },
  {
   "cell_type": "code",
   "execution_count": null,
   "metadata": {},
   "outputs": [],
   "source": [
    "z = np.array(z)\n",
    "dm = np.array(dm)\n",
    "dme = np.array(dme)"
   ]
  },
  {
   "cell_type": "markdown",
   "metadata": {},
   "source": [
    "Now let's form an actual distance in mega-parsecs (Mpc) from the distance modulus and a velocity in km/second from the redshifts"
   ]
  },
  {
   "cell_type": "code",
   "execution_count": null,
   "metadata": {},
   "outputs": [],
   "source": [
    "parsec = 3.086e13               # km/parsec\n",
    "Mpc = 1e6 * parsec              # km/Mpc\n",
    "clight = 2.99792458e5           # km/second\n",
    "\n",
    "r = 10**(dm/5+1) / 1e6          # Mpc\n",
    "v = z * clight                  # km/sec"
   ]
  },
  {
   "cell_type": "markdown",
   "metadata": {},
   "source": [
    "and plot distance versus velocity just for the \"nearby\" supernovae, those within 200 Mpc of Earth. We can select the set of indices of the nearby supernovae using the `numpy.where` function"
   ]
  },
  {
   "cell_type": "code",
   "execution_count": null,
   "metadata": {},
   "outputs": [],
   "source": [
    "near = np.where(r < 200)\n",
    "\n",
    "nNear = near[0].shape[0]            # get the number of nearby supernovae\n",
    "\n",
    "plt.plot(v[near],r[near],'.')\n",
    "\n",
    "plt.xlabel('velocity [km/s]')\n",
    "plt.ylabel('distance [Mpc]')\n",
    "plt.title(f\"{nNear} nearest supernovae within 200 Mpc\")"
   ]
  },
  {
   "cell_type": "markdown",
   "metadata": {},
   "source": [
    "This looks more or less like a linear relationship. Such a plot was first made by Edwin Hubble in 1921, using distance measurements to galaxies made by assuming he knew the luminoisty of the brightest stars -- he was using the brightest star in a galaxy as a standard candle.\n",
    "\n",
    "In an explosion, everything starts off at $r=0$ when $t=0$. At some later time $t$, the faster-moving material will have travelled farther than the slower-moving material. If there is nothing else going on like drag or gravitational forces, then distance will be proportional to velocity: $r=vt$.  The slope of the line in our plot is then $1/(\\textrm{time since explosion)}$ -- in our case, the age of the Universe!\n",
    "\n",
    "Hubble noticed this in his data, and postulated that the Universe is expanding as if in an explosion. He was, of course, right, and this was the first evidence for what we now call the Big Bang. The plot of cosmological distance as a function of recession velocity is now known as the *Hubble Diagram*. In fact, Hubble's distance measurements were way off (the brightest stars are not very good standard candles) and the age of the Universe he measured was about 10 times less than the one measured today.\n",
    "\n",
    "Since we plot the data as velocity versus distance, the slope of the line is the inverse of the time since explosion. This inverse time is known as the *Hubble Constant*: $H_0$. Usually, astronomers plot the Hubble diagram with distance in Mpc and velocity in km/sec, so the Hubble constant has units of km/sec/Mpc, but this is just 1/time in funny units."
   ]
  },
  {
   "cell_type": "markdown",
   "metadata": {},
   "source": [
    "The most accurate measurements of the Hubble constant today give a value for the age of the Universe of\n",
    "$13.772\\pm0.06$ billion years. Just doing the units conversion, this corresponds to a Hubble constant of"
   ]
  },
  {
   "cell_type": "code",
   "execution_count": null,
   "metadata": {},
   "outputs": [],
   "source": [
    "secperYear = (60)*(60)*(24)*365.25\n",
    "\n",
    "t = 13.772e9 * secperYear\n",
    "\n",
    "H0 = (1/t)*Mpc\n",
    "\n",
    "print(f\"H0 = {H0:3.1f} km/sec/Mpc\")"
   ]
  },
  {
   "cell_type": "markdown",
   "metadata": {},
   "source": [
    "(This is not quite correct as we will see below, but it turns out to be not far off.)"
   ]
  },
  {
   "cell_type": "markdown",
   "metadata": {},
   "source": [
    "The simplest model for the expansion of the Universe is a Big Bang which is everywhere the same (homogeneous) and the same in all directions (isotropic), and which expands at the same rate for all time.\n",
    "Thus, from our perspective, the Milky Way galaxy is the center of the explosion\n",
    "and the redshift of a distant galaxy hosting one of our supernovae is linearly proportional to its distance.\n",
    "\n",
    "If we plot this model atop the data, we see"
   ]
  },
  {
   "cell_type": "code",
   "execution_count": null,
   "metadata": {},
   "outputs": [],
   "source": [
    "near = np.where(r<200)\n",
    "nNear = near[0].shape[0]\n",
    "\n",
    "\n",
    "plt.plot(v[near],r[near],'.')\n",
    "plt.xlabel('velocity [km/s]')\n",
    "plt.ylabel('distance [Mpc]')\n",
    "plt.title(f\"{nNear} nearest supernovae within 200 Mpc\")\n",
    "\n",
    "modelr = t * v[near] / Mpc\n",
    "\n",
    "plt.plot(v[near], modelr,'r')\n"
   ]
  },
  {
   "cell_type": "markdown",
   "metadata": {},
   "source": [
    "Not a bad fit to our model of an explosion! Perhaps there is something to this Big Bang idea after all...\n",
    "\n",
    "Let's now try plotting the whole dataset, which extends to distances far beyond what Hubble could have measured in his day"
   ]
  },
  {
   "cell_type": "code",
   "execution_count": null,
   "metadata": {},
   "outputs": [],
   "source": [
    "plt.plot(v,r,'.')\n",
    "plt.xlabel('velocity [km/s]')\n",
    "plt.ylabel('distance [Mpc]')\n",
    "\n",
    "modelr = t * v / Mpc\n",
    "\n",
    "plt.plot(v, modelr,'r')\n"
   ]
  },
  {
   "cell_type": "markdown",
   "metadata": {},
   "source": [
    "The distant supernovae are moving more slowly than our simple model of an explosion would predict...\n",
    "\n",
    "There are obviously some problems with our model!\n",
    "\n",
    "First,  when we look at such a large volume of the Universe, we should really be using Einsten's General Theory of Relativity (GR). One of the differences between Newtonian gravity and GR is that, while the Newtonian theory has one constant in it -- \"big $G$\" -- GR has *two* constants: $G$ and and $\\Lambda$. The second constant, $\\Lambda$, is known as the *cosmological constant*.\n",
    "\n",
    "You probably have heard the story (due to George Gamov) about how Einstein called $\\Lambda$ his \"biggest blunder\", but $\\Lambda$ is not just a \"fudge factor\" which Einstein put in his theory for dubious reasons -- it is an integral part of GR and should not be left out.\n",
    "\n",
    "One way of viewing the effect of the GR term proportional to $\\Lambda$ is that it represents the mass-energy associated with empty space. Since empty space doesn't emit light, this has come to be known as *Dark Energy*. The notion of empty space, a vacuum, having some energy associated with it is not as crazy as it sounds -- it is a part of the \"standard model\" of particle physics. The only problem is that the standard model predicts it to be about 120 orders of magnitude greater than what was measured from our data!\n",
    "\n",
    "The simplest cosmology in GR, then, is determined by the amount of matter in the universe and the amount of dark energy. There is a mutual, attractive gravitational force among all matter in the Universe. This \"pull\" acts against the expansion, causing the rate of expansion to decrease over time. As the Universe expands, the distance between all this matter increases, and the magnitude of this effect decreases over time.\n",
    "\n",
    "The net effect of dark energy is to cause space to expand. Because the amount of dark energy is proportional to the amount of space, as the Universe expands, the amount of dark energy increases, as does its effect causing the expansion to accelerate.\n",
    "\n",
    "Cosmologists specify the amounts of matter and dark energy in terms of the total amount of mass-energy in the Universe such that spacetime is, at the largest scale, flat, Euclidean space. Since the volume of the Universe is increasing as it expands, the density of these various sorts of mass-energy are also changing with time. The density of mass-energy today which would give a flat spacetime is known as the *critical density*. \n",
    "\n",
    "This seems like a pretty complicated model for us to use in Physics 105. Luckily, the `astropy` package has a set of functions to calculate cosmological quantities using GR.\n",
    "\n",
    "\n",
    "`astropy` specifies the amount of matter and dark energy using the standard definition:\n",
    "\n",
    "$$\\begin{split}\n",
    "\\Omega_M &= \\frac{\\textrm{density of matter today}}{\\textrm{critical density today}}\\\\[10pt]\n",
    "\\Omega_{de} &= \\frac{\\textrm{density of dark energy today}}{\\textrm{critical density today}}\n",
    "\\end{split}\n",
    "$$\n",
    "\n",
    "\n",
    "First, we import the `LambdaCDM` object from `astropy.cosmology` (CDM is \"cold dark matter\")"
   ]
  },
  {
   "cell_type": "code",
   "execution_count": null,
   "metadata": {},
   "outputs": [],
   "source": [
    "from astropy.cosmology import LambdaCDM"
   ]
  },
  {
   "cell_type": "markdown",
   "metadata": {},
   "source": [
    "Next, we need to set the parameters of this model. Let's start by setting\n",
    "\n",
    "> $\\Omega_{de} = 0$  \n",
    "$\\Omega_{M} = 0.022$  \n",
    "$H_0 = 69.32$ km/sec/Mpc\n",
    "\n",
    "Here we have no dark energy, the amount of matter in the Universe in the form of stars, gas, dust, etc.,\n",
    "and the Hubble constant corresponding to the age of the Universe we used above, but this time calculated using GR, giving a slightly smaller value.\n",
    "\n",
    "\n",
    "`astropy` will return an object which we can then use to do calculations using this cosmology. Let's write a function which takes a cosmology as an argument and returns the luminosity distance as a function of redshift. `astropy` provides a function `astropy.cosmology.LambdaCDM.luminosity_distance` which takes redshifts in km/sec as input and returns luminosity distances in Mpc. We need to use the `.value` on the values returned by `astropy` because it uses a fancy form of dimensioned variables."
   ]
  },
  {
   "cell_type": "code",
   "execution_count": null,
   "metadata": {},
   "outputs": [],
   "source": [
    "def LD(H0, OmegaMatter, OmegaLambda, z):\n",
    "    cosmo = LambdaCDM(H0=70, Om0=OmegaMatter, Ode0=OmegaLambda)\n",
    "    return cosmo.luminosity_distance(z).value"
   ]
  },
  {
   "cell_type": "markdown",
   "metadata": {},
   "source": [
    "Let's also write a function to plot the data and a model"
   ]
  },
  {
   "cell_type": "code",
   "execution_count": null,
   "metadata": {},
   "outputs": [],
   "source": [
    "def plotit(H0, OmegaMatter, OmegaLambda, z, r):\n",
    "    v = z * clight\n",
    "    \n",
    "    plt.plot(v,r,'.')\n",
    "    plt.ylabel('distance [Mpc]')\n",
    "    plt.xlabel('velocity [km/s]')\n",
    "    \n",
    "    zvec = np.linspace(0,1.1*max(z),100)   # vector of redshifts to compute the luminosity distance\n",
    "    vvec = zvec * clight                   # corresponding vector of velocities in km/sec\n",
    "    ld = LD(H0, OmegaMatter, OmegaLambda, zvec)  # luminosity distance in Mpc\n",
    "\n",
    "    linear = t * vvec / Mpc                # Our simple linear model\n",
    "\n",
    "    plt.plot(vvec, linear, label='linear model')\n",
    "    plt.plot(vvec, ld, label='$\\Omega_M=0.022, \\Omega_{de}=0$')\n",
    "    plt.legend()"
   ]
  },
  {
   "cell_type": "markdown",
   "metadata": {},
   "source": [
    "Now we can replot our version of Hubble's diagram for Type Ia supernovae"
   ]
  },
  {
   "cell_type": "code",
   "execution_count": null,
   "metadata": {},
   "outputs": [],
   "source": [
    "plotit(H0, 0.022, 0, z, r)"
   ]
  },
  {
   "cell_type": "markdown",
   "metadata": {},
   "source": [
    "This is a much better fit to the data, but it still looks like the line falls below more than half of the data.\n",
    "\n",
    "We can characterize how well the model fits the data by computing the \"$\\chi^2$\" of the model with respect to the data\n",
    "\n",
    "$$ \\chi^2 = \\sum_i (\\textrm{model}(z_i) - r_i)^2 $$\n",
    "\n",
    "Let's write a function to do this:"
   ]
  },
  {
   "cell_type": "code",
   "execution_count": null,
   "metadata": {},
   "outputs": [],
   "source": [
    "def chi2(model, data):\n",
    "    deviation = model - data\n",
    "    c2 = np.sum(deviation**2)\n",
    "    return c2"
   ]
  },
  {
   "cell_type": "markdown",
   "metadata": {},
   "source": [
    "The $\\chi^2$ of our linear model is then"
   ]
  },
  {
   "cell_type": "code",
   "execution_count": null,
   "metadata": {},
   "outputs": [],
   "source": [
    "c2 = chi2(t*v/Mpc, r)\n",
    "print(f\"chi2 = {c2:5.1f}\")"
   ]
  },
  {
   "cell_type": "markdown",
   "metadata": {},
   "source": [
    "Let's modify our plotting function to report $\\chi2$ for the model we choose"
   ]
  },
  {
   "cell_type": "code",
   "execution_count": null,
   "metadata": {},
   "outputs": [],
   "source": [
    "def plotit(H0, OmegaMatter, OmegaLambda, z, r):\n",
    "    v = z * clight\n",
    "    \n",
    "    plt.plot(v,r,'.')\n",
    "    plt.ylabel('distance [Mpc]')\n",
    "    plt.xlabel('velocity [km/s]')\n",
    "    \n",
    "    zvec = np.linspace(0,1.1*max(z),100)   # vector of redshifts to compute the luminosity distance\n",
    "    vvec = zvec * clight                   # corresponding vector of velocities in km/sec\n",
    "    ld = LD(H0, OmegaMatter, OmegaLambda, zvec)  # luminosity distance in Mpc\n",
    "\n",
    "    linear = t * vvec / Mpc                # Our simple linear model\n",
    "\n",
    "    plt.plot(vvec, linear, label='linear model')\n",
    "    plt.plot(vvec, ld, label=f'$\\Omega_M={OmegaMatter:4.2f}$, $\\Omega_\\Lambda={OmegaLambda:4.2f}$')\n",
    "    plt.legend()\n",
    "    \n",
    "    model = LD(H0, OmegaMatter, OmegaLambda, z)\n",
    "    c2 = chi2(model, r)\n",
    "    plt.text(0,8000,f'$\\chi^2 = {c2:5.1f}$')\n"
   ]
  },
  {
   "cell_type": "markdown",
   "metadata": {},
   "source": [
    "and try out the real GR model using the observed amount of regular matter in the Universe"
   ]
  },
  {
   "cell_type": "code",
   "execution_count": null,
   "metadata": {},
   "outputs": [],
   "source": [
    "plotit(H0, 0.022, 0, z, r)"
   ]
  },
  {
   "cell_type": "markdown",
   "metadata": {},
   "source": [
    "The $\\chi^2$ for this model is clearly better than our linear model, but can we do better?\n",
    "\n",
    "Astronomers know that most of the matter in the Universe is not in the form of ordinary matter (baryons -- matter made up of protons and neutrons). The rest of the matter is known as *Dark Matter* (not to be confused with Dark Energy!).\n",
    "\n",
    "The amount of Dark Matter brings $\\Omega_M$ up to about $0.29$, so let's try a cosmology with the full complement of matter"
   ]
  },
  {
   "cell_type": "code",
   "execution_count": null,
   "metadata": {},
   "outputs": [],
   "source": [
    "plotit(H0, 0.29, 0, z, r)"
   ]
  },
  {
   "cell_type": "markdown",
   "metadata": {},
   "source": [
    "This model is worse! It falls even further below the points, and has an even higher standard deviation.\n",
    "\n",
    "We could try putting in even more matter -- let's try putting in enough matter to make spacetime flat"
   ]
  },
  {
   "cell_type": "code",
   "execution_count": null,
   "metadata": {},
   "outputs": [],
   "source": [
    "plotit(H0, 1, 0, z, r)"
   ]
  },
  {
   "cell_type": "markdown",
   "metadata": {},
   "source": [
    "Even worse!\n",
    "\n",
    "It seems that no amount of matter greater than what we observe in the Universe will fit the data with $\\Omega_\\Lambda=0$.\n",
    "\n",
    "So, let's try putting in the observed amount of matter+dark matter, but add enough dark energy to make spacetime flat (there are good reasons to expect that spacetime is nearly flat on the largest scales). A flat cosmological model has\n",
    "$\\Omega_M + \\Omega_\\Lambda = 1$, so this makes $\\Omega_\\Lambda=0.71$"
   ]
  },
  {
   "cell_type": "code",
   "execution_count": null,
   "metadata": {},
   "outputs": [],
   "source": [
    "plotit(H0, 0.29, 0.71, z, r)"
   ]
  },
  {
   "cell_type": "markdown",
   "metadata": {},
   "source": [
    "This model fits the data much better, and, in fact, is good evidence for the presence of dark energy in the universe. In fact, the Universe seems to be about 30% dark matter, 70% dark energy, and only about 2% \"ordinary\" matter, the kind we see on Earth.\n",
    "\n",
    "So why are the distant supernovae moving more slowly than our simple model would predict? When we look at a distant galaxy, the light from that galaxy has taken some time to travel to us. Thus, we see it not as it is now but as it was when the light left the galaxy."
   ]
  },
  {
   "cell_type": "markdown",
   "metadata": {},
   "source": [
    "![title](cosmology.png)"
   ]
  },
  {
   "cell_type": "markdown",
   "metadata": {},
   "source": [
    "This figure shows the scale of the Universe as a function of time before and after today. There are five cosmological models:\n",
    "\n",
    "  > Orange line: lots of matter and no dark energy -- the expansion rate is continuously decreasing, and the Universe will end up collapsing\n",
    "  Green line: a flat universe with only matter -- this is the dividing line between expanding forever and eventually collapsing  \n",
    "  dashed line: our linear model -- also the GR model for an empty Universe, one with no matter or dark energy.  \n",
    "  Red line: our \"best fit\" model -- the expansion rate started off decelerating, but then started accelerating about\n",
    "  6.4 billion years ago  \n",
    "  Blue line: more dark energy -- the expansion rate started accelerating about 11.6 billion years ago  \n",
    "\n",
    "The expansion rate of the Universe in the red region of the diagram has always slowed down with time. In this region, we expect that the distant supernovae, the lower blue dots, would have larger velocities than our linear model would predict\n",
    "since the expansion rate was higher on average in the earlier Universe.\n",
    "\n",
    "The expansion rate in the green region starts out decelerating (the curves are concave down), but then start accelerating some time in the past. In this region, we expect that the distant supernovae would have smaller velocities than our linear model would predict since the expansion rate was lower on average in the earlier Universe.\n"
   ]
  },
  {
   "cell_type": "markdown",
   "metadata": {},
   "source": [
    "#### Exercise 1.\n",
    "\n",
    "In the discussion above, I pulled values of $\\Omega_M$ and $\\Omega_\\Lambda$ out of this air! Let's play with some ideas of how we could choose models more automatically.\n",
    "\n",
    "In this exercise we will assume that the Universe is flat -- that $\\Omega_\\Lambda = 1 - \\Omega_M$. Assuming a value for $H_0$, there is then only one parameter to our model, $\\Omega_M$. You are going to write a program which sweeps through values of $\\Omega_M$ from $0$ to $1$ and calculates the probability $P$ of the model given our dataset for each value. You will then plot the resulting graph of $P$ versus $\\Omega_M$.\n",
    "\n",
    "In more detail:\n",
    "\n",
    "  * This time, we will fit the data in their original distance modulus form instead of converting them to physical distance. The arrays containing the data we have already loaded are `z`, `dm`, and `dme`.\n",
    "\n",
    "    You will have to convert the luminosity distance `LD` function above into a distance modulus `DM` function which returns the model distance modulus given the reshift array `z` and a set of cosmological parameters $H_0$, $\\Omega_M$, and $\\Omega_\\Lambda$. Using the functions from `scipy.cosmology`, this would be\n",
    "\n",
    "         cosmo = LambdaCDM(H0=H0, Om0=OmegaMatter, Ode0=OmegaLambda)\n",
    "         model_distance_modulus = 5 * np.log10( cosmo.luminosity_distance(z).value * 1e5 )\n",
    "     \n",
    "    where the factor of $10^5$ comes in beacuse `scipy` gives us Mpc and the distance modulus is defined at 10 parsecs.\n",
    "\n",
    "  *  Use a new definition of $\\chi^2$ which weights the points with smaller errors more strongly that those with larger errors:\n",
    "\n",
    "      $$\\chi2 = \\sum_{i=0}^{N-1} \\left(\\frac{\\textrm{model}(z_i) - \\textrm{data}_i}{\\textrm{error}_i}\\right)^2 $$\n",
    "\n",
    "   Once you have a `model_distance_modulus` array, forming $\\chi^2$ this way is a two-liner with `numpy`:\n",
    "\n",
    "         deviation = (model_distance_modulus - dm)/dme \n",
    "         chi2 = np.sum(deviation**2)  \n",
    "\n",
    "  * With this, the probability $P$ that a $\\chi^2$ as large as this could have happened by accident is given by\n",
    "\n",
    "      $$ P = Q\\left(\\frac{N-2}{2}, \\frac{\\chi^2}{2}\\right) $$\n",
    "\n",
    "    where $Q$ is the *incomplete gamma function*, available in the `scipy.special` module as `gammaincc`, so\n",
    "\n",
    "        from scipy.special import gammaincc as Q\n",
    "\n",
    "   * You will need to create an array of $\\Omega_M$ running between 0 and 1 and with 100 elements. `numpy` has a great function for this: `linspace(start, end, npts)` This is like `arange`, but for where you want to specify the number of points, not the spacing between points -- also worth noting is that, in `linspace`, the \"end\" point is included in the array. So, you would write something like\n",
    "\n",
    "         Om = np.linspace(0,1,100)\n",
    "\n",
    "Try to sketch out the outline of the solution before worrying about the details of each step, and then start filling in the details. You are free to use any of the functions defined above if they make things easier.\n",
    "\n",
    "As we have seen from the experiments above, the graph should tell you that the best fit value of $\\Omega_M$ is close to 0.3."
   ]
  },
  {
   "cell_type": "code",
   "execution_count": null,
   "metadata": {},
   "outputs": [],
   "source": []
  },
  {
   "cell_type": "markdown",
   "metadata": {},
   "source": [
    "#### Exercise 2.\n",
    "\n",
    "Now let's relax the restriction to a flat Universe. \n",
    "\n",
    "   * Create one array for values of $\\Omega_M$ with 30 points running from 0 to 1, and another array for values of $\\Omega_\\Lambda$ with 30 points running from 0 to 1:\n",
    "   \n",
    "         ngrid = 30\n",
    "         Om = np.linspace(0,1,ngrid)\n",
    "         Ol = np.linspace(0,1,ngrid)\n",
    "\n",
    "   * Next, create a two-dimensional `numpy` array with dimensions of $\\textrm{ngrid}\\times\\textrm{ngrid}$. The `numpy` syntax to create an array of zeros like this is\n",
    "\n",
    "         chi2array = np.zeros( (ngrid,ngrid) )\n",
    "         \n",
    "     and the syntax to access the i,j-th element is\n",
    "\n",
    "         chi2array[i,j] = Q( (npts-2)/2, chi2/2 )\n",
    "         \n",
    "   * You fill in the array using a double for-loop:\n",
    "   \n",
    "         for i in range(ngrid):\n",
    "             for j in range(ngrid):\n",
    "                 chi2array[i,j] = some function of Om[i] and Ol[j]\n",
    "         \n",
    "   * Once you have computed these arrays, you can make a contour plot of the probability of any $\\Omega_M,\\Omega_\\Lambda$ pair. The recipe for doing this in `matplotlib` is\n",
    "   \n",
    "         X,Y = np.meshgrid(Om, Ol)\n",
    "         c = plt.contour( Y, X, chi2array, levels=[0.003, 0.05, 0.32] )\n",
    "         plt.clabel( c, inline=1 )\n",
    "         \n",
    "\n",
    "When you are done, your plot should look like a simpler version of the one from the paper mentioned above, with only the blue region for the supernovae. Note: don't try to extend the range of your own plot into the grey area -- scipy can't handle it!\n"
   ]
  },
  {
   "cell_type": "markdown",
   "metadata": {},
   "source": [
    "![title](scp2.1.png)"
   ]
  },
  {
   "cell_type": "code",
   "execution_count": null,
   "metadata": {},
   "outputs": [],
   "source": []
  }
 ],
 "metadata": {
  "kernelspec": {
   "display_name": "Python 3",
   "language": "python",
   "name": "python3"
  },
  "language_info": {
   "codemirror_mode": {
    "name": "ipython",
    "version": 3
   },
   "file_extension": ".py",
   "mimetype": "text/x-python",
   "name": "python",
   "nbconvert_exporter": "python",
   "pygments_lexer": "ipython3",
   "version": "3.6.5"
  }
 },
 "nbformat": 4,
 "nbformat_minor": 2
}
