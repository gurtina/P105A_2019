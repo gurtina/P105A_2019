{
 "cells": [
  {
   "cell_type": "markdown",
   "metadata": {},
   "source": [
    "### ***Names: [Insert Your Names Here]***"
   ]
  },
  {
   "cell_type": "markdown",
   "metadata": {},
   "source": [
    "# Problem Set 4             \n",
    "## PHYS 105A   Spring 2019\n",
    "\n",
    "## Contents\n",
    "\n",
    "1. Functions\n",
    "2. Factorial Function\n",
    "3. Greatest Common Denominator\n",
    "4. Prime Numbers\n",
    "5. Submitting Homework\n",
    "\n",
    "*** There are 6 exercises that you must complete.***\n"
   ]
  },
  {
   "cell_type": "markdown",
   "metadata": {},
   "source": [
    "# 1. Functions\n",
    "\n",
    "Functions allow you to reuse code without writing/copying code all over again!\n",
    "General Syntax:\n",
    "\n",
    "\n",
    "`def funcname(<comma separated arguments>):`  \n",
    "\n",
    "    STATEMENT \n",
    "\n",
    "    return <value>\n",
    "                \n"
   ]
  },
  {
   "cell_type": "markdown",
   "metadata": {},
   "source": [
    "## 1.1 Simple functions:\n",
    "\n",
    "The following quadratic function is an example:\n",
    "\n",
    "f(x) = 3x$^2$ - 2x + 5\n",
    "\n",
    "Here is the same function in Python:"
   ]
  },
  {
   "cell_type": "code",
   "execution_count": null,
   "metadata": {},
   "outputs": [],
   "source": [
    "def f(x):\n",
    "    return 3*x**2 - 2*x + 5"
   ]
  },
  {
   "cell_type": "code",
   "execution_count": null,
   "metadata": {},
   "outputs": [],
   "source": [
    "f(3)"
   ]
  },
  {
   "cell_type": "code",
   "execution_count": null,
   "metadata": {},
   "outputs": [],
   "source": [
    "f(-1)"
   ]
  },
  {
   "cell_type": "markdown",
   "metadata": {},
   "source": [
    "A return statement always tells Python that the function is complete and it should stop execution and return to a command prompt.\n",
    "\n",
    "For a function with a return statement, you can return the values to a variable:"
   ]
  },
  {
   "cell_type": "code",
   "execution_count": null,
   "metadata": {},
   "outputs": [],
   "source": [
    "x = f(3)\n",
    "print(x)"
   ]
  },
  {
   "cell_type": "markdown",
   "metadata": {},
   "source": [
    "You can also use the returned value of a function to do additional calculations"
   ]
  },
  {
   "cell_type": "code",
   "execution_count": null,
   "metadata": {},
   "outputs": [],
   "source": [
    "print(f(3) + f(-1))"
   ]
  },
  {
   "cell_type": "markdown",
   "metadata": {},
   "source": [
    "## Exercise 1 \n",
    "\n",
    "### Part A \n",
    "Generalize the solution from Exercise 3 in Problem Set 3, printed below, and write it as a function called `Func1` in the empty code cell below. This function takes as input two values, x and y, and returns the desired string. \n",
    "\n",
    "You should always minimize the number of returns in each function. It's harder to understand the code if, reading it at the bottom, you're unaware of the possibility that it returned somewhere above.\n",
    "\n",
    "One way to do this is to define a variable called `toreturn` which is assigned to the desired string.  Then at the end, the function returns the variable `toreturn`.  "
   ]
  },
  {
   "cell_type": "code",
   "execution_count": null,
   "metadata": {},
   "outputs": [],
   "source": [
    "x = 25\n",
    "y = 0"
   ]
  },
  {
   "cell_type": "code",
   "execution_count": null,
   "metadata": {},
   "outputs": [],
   "source": [
    "if (x < y):\n",
    "    print(str(x) + '<' + str(y))\n",
    "elif(x > y):\n",
    "    print(str(x) + '>' + str(y))\n",
    "else:\n",
    "    print(str(x) + '==' + str(y))"
   ]
  },
  {
   "cell_type": "code",
   "execution_count": null,
   "metadata": {},
   "outputs": [],
   "source": [
    "def Func1(x,y):\n",
    "        \n",
    "    if (x < y):\n",
    "        toreturn = (str(x) + '<' + str(y))\n",
    "    elif(x > y):\n",
    "        toreturn = (str(x) + '>' + str(y))\n",
    "    else:\n",
    "        toreturn = (str(x) + '==' + str(y))\n",
    "\n",
    "    return toreturn"
   ]
  },
  {
   "cell_type": "markdown",
   "metadata": {},
   "source": [
    "Test the function you just created in the code cell below. "
   ]
  },
  {
   "cell_type": "code",
   "execution_count": null,
   "metadata": {},
   "outputs": [],
   "source": [
    "Func1(x,y)"
   ]
  },
  {
   "cell_type": "raw",
   "metadata": {},
   "source": [
    "A = Func1(35,10)\n",
    "print(type(A))"
   ]
  },
  {
   "cell_type": "markdown",
   "metadata": {},
   "source": [
    "### Part B\n",
    "\n",
    "Define a new function called `Func2` that has one argument, an integer `n`. The function computes a `for loop`, adding all numbers between 1 and n. The function returns the sum.  Try out the function for a few different values of `n`. Adding print statements will help you to understand what is going on.\n",
    "\n",
    "\n",
    "$\\Sigma^n_{k=0}k = 0+1+...n$"
   ]
  },
  {
   "cell_type": "code",
   "execution_count": null,
   "metadata": {},
   "outputs": [],
   "source": [
    "def Func2(n):\n",
    "    \n",
    "    k = 0\n",
    "    \n",
    "    for i in range(n+1):\n",
    "        k += i\n",
    "        print(k)\n",
    "    \n",
    "    \n",
    "    return k\n",
    "\n",
    "Func2(3)"
   ]
  },
  {
   "cell_type": "markdown",
   "metadata": {},
   "source": [
    "## 1.2 User-Specified Input\n",
    "Python can also ask the user to specify input interactively, as shown below. Execute the cell to see how it works.\n",
    "\n"
   ]
  },
  {
   "cell_type": "code",
   "execution_count": null,
   "metadata": {},
   "outputs": [],
   "source": [
    "faren = input(\"enter a temperature (in Fahrenheit): \")\n",
    "print(faren)"
   ]
  },
  {
   "cell_type": "markdown",
   "metadata": {},
   "source": [
    "## Exercise 2 \n",
    "\n",
    "Define a function called `Func3` that has no arguments and returns `Func1`, where the input arguments for `Func1` (x and y ) are defined by the user interactively. For example, ask the user to supply a number, which you define as the variable x, then do the same for y.\n",
    "\n",
    "Test `Func3` in a new code cell. \n"
   ]
  },
  {
   "cell_type": "code",
   "execution_count": null,
   "metadata": {},
   "outputs": [],
   "source": [
    "def Func3():\n",
    "    \n",
    "    x = input(\"enter a number:\")\n",
    "    y = input(\"enter another number:\")\n",
    "    \n",
    "    return Func1(x,y)"
   ]
  },
  {
   "cell_type": "code",
   "execution_count": null,
   "metadata": {},
   "outputs": [],
   "source": [
    "Func3()"
   ]
  },
  {
   "cell_type": "markdown",
   "metadata": {},
   "source": [
    "# 2.  The Factorial Function\n",
    "\n",
    "\n",
    "The factorial of a non-negative integer $n$, denoted $n!$, is defined as\n",
    "\n",
    "\\begin{equation*}\n",
    "n! = \\left\\{\\begin{array}{ll}\\prod_{k=1}^n k = 1\\cdot2\\cdot\\dots\\cdot (n-1) \\cdot n, & n>0\\\\\n",
    "1,& n=0\n",
    "\\end{array}\\right.\n",
    "\\end{equation*}\n",
    "\n",
    "## Exercise 3\n",
    "\n",
    "Write a function called `factorial`, which, given $n$ as an argument, will return $n!$"
   ]
  },
  {
   "cell_type": "code",
   "execution_count": null,
   "metadata": {},
   "outputs": [],
   "source": [
    "def factorial(n):\n",
    "    f = 1\n",
    "    for k in range(1,n+1):\n",
    "        f = f*k\n",
    "        #f *= k  # this is equivalent\n",
    "    return f\n"
   ]
  },
  {
   "cell_type": "code",
   "execution_count": null,
   "metadata": {},
   "outputs": [],
   "source": [
    "# try it out\n",
    "for n in range(0,2):\n",
    "    print(n, factorial(n))"
   ]
  },
  {
   "cell_type": "markdown",
   "metadata": {},
   "source": [
    "# 3. Greatest Common Divisor\n",
    "\n",
    "The *greatest common divisor* of two positive integers is the largest integer which divides both numbers evenly. Euclid, in his treatise *Elements* (c. 300 BCE), gives the following algorithm for the greatest common divisor of two positive integers $a$ and $b$\n",
    "> 1) if $a<b$, exchange $a$ and $b$  \n",
    "  2) divide $a$ by $b$ and get the remainder, $r$  \n",
    "  3) if $r=0$, the gcd($a$,$b$) is $b$  \n",
    "  4) otherwise, replace $a$ by $b$ and replace $b$ by $r$  \n",
    "  5) return to step 2\n",
    "  \n",
    "\n",
    "\n",
    "Using this notation, we can rewrite Euclid's algorithm as\n",
    "> 1) if $a<b$, exchange $a$ and $b$  \n",
    "  2) $r$ = $a$ mod $b$  \n",
    "  3) if $r=0$, the result is $b$  \n",
    "  4) otherwise, $a$=$b$ and $b$ = $r$  \n",
    "  5) return to step 2  \n",
    "  \n",
    " or, more `compactly`\n",
    "> 1) while $a$ mod $b$ $\\ne0$\n",
    "\n",
    ">  2) let $a=b$ and $b= (a$ mod $b)\n",
    " \n",
    ">  3) when eventually $a$ mod $b$ = 0, return $b$\n",
    "\n",
    "In Python, the modulo operation a mod b is written as a%b\n",
    "\n",
    "\n",
    "## Exercise 4\n",
    "\n",
    "Define a function called `gcd` that takes as input two integers (a,b) and returns the greatest common divisor, following the `compact algorithm` listed above."
   ]
  },
  {
   "cell_type": "code",
   "execution_count": null,
   "metadata": {},
   "outputs": [],
   "source": [
    "# Try \n",
    "\n",
    "def gcd(a,b):\n",
    "\n",
    "    if a%b !=0:\n",
    "        a = b\n",
    "        b = a\n",
    "\n",
    "    # But we need to keep repeating! \n",
    "    \n",
    "    \n",
    "    return b"
   ]
  },
  {
   "cell_type": "code",
   "execution_count": null,
   "metadata": {},
   "outputs": [],
   "source": [
    "# STEP 2  -- now adding a while loop\n",
    "\n",
    "def gcd(a,b):\n",
    "\n",
    "    while a%b != 0:\n",
    "            a = b \n",
    "            b = a%b\n",
    "    \n",
    "    return b"
   ]
  },
  {
   "cell_type": "code",
   "execution_count": null,
   "metadata": {},
   "outputs": [],
   "source": [
    "# try it out\n",
    "gcd(5,2)"
   ]
  },
  {
   "cell_type": "markdown",
   "metadata": {},
   "source": [
    "If you wrote:\n",
    "\n",
    ">$a = b$\n",
    "\n",
    ">$b = a \\%b $\n",
    "\n",
    "you might get an error message saying \"ZeroDivisionError\", indicating that we tried to divide by zero. so $b$ must have been equal to zero, but\n",
    "when we run the algorithm in our head, we might find  \n",
    "> $a$ is 5 and $b$ is 2  \n",
    "  $5$ mod $2$ is 1  \n",
    "  $a$ gets 2  \n",
    "  $b$ gets $5$ mod $2$ = 1  \n",
    "  starting the loop again,  \n",
    "  2 mod 1 is zero, so the result is 1  \n",
    "  \n",
    "so what is wrong?\n",
    "  \n",
    "The problem comes when we set $a=b$ and then set $b=a$ mod $b$. Once we have set $a=b$, the next line is really\n",
    "$b=b$ mod $b$ which is indeed zero! When the code goes back and does the second iteration, we then get the divide by zero error. Our restatement of the algorithm \"more compactly\" above was wrong! We didn't pay sufficient attention to how literally the computer takes our instructions! (And you likely believed what we said in the previous paragraph uncritically -- let this be a lesson!)\n",
    "  \n",
    "The correct code needs to store a *copy* of $a$ in a temporary variable so we still have the original value of a around to do $a$ mod $b$\n",
    "\n",
    "> $temp = a$\n",
    "\n",
    ">$a = b$\n",
    "\n",
    ">$b = temp \\% b$"
   ]
  },
  {
   "cell_type": "code",
   "execution_count": null,
   "metadata": {},
   "outputs": [],
   "source": [
    "def gcd(a, b):\n",
    "    while a % b != 0:\n",
    "        temp = a\n",
    "        a = b\n",
    "        b = temp % b\n",
    "        \n",
    "    return b"
   ]
  },
  {
   "cell_type": "code",
   "execution_count": null,
   "metadata": {},
   "outputs": [],
   "source": [
    "# try it out\n",
    "print(\"gcd(5,2) =\", gcd(5,2))\n",
    "print(\"gcd(30,36) =\", gcd(30,36))"
   ]
  },
  {
   "cell_type": "markdown",
   "metadata": {},
   "source": [
    "Note that we used the print function here instead of just calling $gcd$ twice. Had we done that, only the last result would have been printed by the notebook. Try it out:"
   ]
  },
  {
   "cell_type": "code",
   "execution_count": null,
   "metadata": {},
   "outputs": [],
   "source": [
    "gcd(5,2)\n",
    "gcd(30,36)"
   ]
  },
  {
   "cell_type": "markdown",
   "metadata": {},
   "source": [
    "# 3. Prime Factorization\n",
    "\n",
    "An important mathematical operation is *prime factorization*, finding all of the prime factors of a composite (non-prime)\n",
    "number. The difficulty of doing prime factorization is fundamental to many modern cryptographic methods.\n",
    "\n",
    "While there are many sophisticated algorithms for finding the prime factors of a given integer $n$, we can write a\n",
    "Python function which simply keeps dividing by successively larger divisors. Try to understand how the\n",
    "following code works. Why does it only print the *prime* factors even though it attempts division by *all* numbers up to $n$?"
   ]
  },
  {
   "cell_type": "code",
   "execution_count": null,
   "metadata": {},
   "outputs": [],
   "source": [
    "def factor(n):\n",
    "    print(\"the prime factors of\",n, \"are \")\n",
    "    for d in range(2,n):\n",
    "        while n%d==0: # as long as d divides n evenly, keep going...\n",
    "            print(d)\n",
    "            n = n//d  # this is shorthand for n = int(n/d) -- i.e. integer division \n",
    "          "
   ]
  },
  {
   "cell_type": "code",
   "execution_count": null,
   "metadata": {},
   "outputs": [],
   "source": [
    "# try it out\n",
    "# Test: the prime factors of 1950 are 2*3*5*5*13\n",
    "factor(1950)"
   ]
  },
  {
   "cell_type": "markdown",
   "metadata": {},
   "source": [
    "## 3.1 f-strings and print statements"
   ]
  },
  {
   "cell_type": "markdown",
   "metadata": {},
   "source": [
    "The output from the previous function is not very pretty; let's see if we can make more attractive output. For this we will need to explore some of the features of the Python print function.\n",
    "\n",
    "So far, we have just been giving print one or more arguments which are variables or strings. Each time we call print, it dutifully prints its arguments and then it prints a *newline* character, which causes the next output to appear on the\n",
    "next line.\n",
    "\n",
    "We can suppress this last behavior by giving print one final argument, end=\"\" (\"\" is a pair of empty quotes)"
   ]
  },
  {
   "cell_type": "code",
   "execution_count": null,
   "metadata": {},
   "outputs": [],
   "source": [
    "print(\"hello \", end=\"\")\n",
    "print(\"there\")\n",
    "print(\"Hildegard\")"
   ]
  },
  {
   "cell_type": "markdown",
   "metadata": {},
   "source": [
    "In the first invocation of print, the extra argument supressed the newline, and so the output from the second print appeared on the same line. The second invocation of print used the default value, end=\"\\n\", because we didn't specify any other, and so put a newline at the end of \"there\", causing \"Hildegard\" to be printed on the next line. (\"\\n\" is the symbol for the newline character.)\n",
    "\n",
    "Let's try putting this in our prime factorization function"
   ]
  },
  {
   "cell_type": "code",
   "execution_count": null,
   "metadata": {},
   "outputs": [],
   "source": [
    "def factor(n):\n",
    "    print(\"the prime factors of\",n, \"are \", end=\"\")\n",
    "    for d in range(2,n):\n",
    "        while n%d==0:\n",
    "            print(d, end=\"\")\n",
    "            n = n//d  \n",
    "            \n",
    "# try it out\n",
    "factor(1950)"
   ]
  },
  {
   "cell_type": "markdown",
   "metadata": {},
   "source": [
    "This isn't quite what we wanted... all the factors are jumbled together. We need to add a space between the successive numbers. Instead of putting empty quotes as the value of end, we can tell print to put a space at the end"
   ]
  },
  {
   "cell_type": "code",
   "execution_count": null,
   "metadata": {},
   "outputs": [],
   "source": [
    "def factor(n):\n",
    "    print(\"the prime factors of\",n, \"are \", end=\"\")\n",
    "    for d in range(2,n):\n",
    "        while n%d==0:\n",
    "            print(d, end=\" \")\n",
    "            n = n//d \n",
    "            \n",
    "# try it out\n",
    "factor(1950)"
   ]
  },
  {
   "cell_type": "markdown",
   "metadata": {},
   "source": [
    "This is much better, but what if we try it out twice?"
   ]
  },
  {
   "cell_type": "code",
   "execution_count": null,
   "metadata": {},
   "outputs": [],
   "source": [
    "factor(1950)\n",
    "factor(5713547)"
   ]
  },
  {
   "cell_type": "markdown",
   "metadata": {},
   "source": [
    "First, you should answer: why did both calls to factor produce output when the two calls to gcd (above) didn't?\n",
    "\n",
    "It appears we should really add a newline at the end of the output, which we can do by calling print with no arguments at all once everything is done"
   ]
  },
  {
   "cell_type": "code",
   "execution_count": null,
   "metadata": {},
   "outputs": [],
   "source": [
    "def factor(n):\n",
    "    print(\"the prime factors of\",n, \"are \", end=\"\")\n",
    "    for d in range(2,n):\n",
    "        while n%d==0:\n",
    "            print(d, end=\" \")\n",
    "            n = n//d \n",
    "    print()"
   ]
  },
  {
   "cell_type": "code",
   "execution_count": null,
   "metadata": {},
   "outputs": [],
   "source": [
    "factor(1950)\n",
    "factor(5713547)"
   ]
  },
  {
   "cell_type": "markdown",
   "metadata": {},
   "source": [
    "An `f-string` is a string which begins with an \"f\" before the first quote"
   ]
  },
  {
   "cell_type": "code",
   "execution_count": null,
   "metadata": {},
   "outputs": [],
   "source": [
    "string = f\"This is an f-string\"\n",
    "print(string)"
   ]
  },
  {
   "cell_type": "markdown",
   "metadata": {},
   "source": [
    "So far, this looks just like any ordinary string. f-strings, however, allow one to embed the values of variables within the string -- just include the variable within curly braces {} inside the string"
   ]
  },
  {
   "cell_type": "code",
   "execution_count": null,
   "metadata": {},
   "outputs": [],
   "source": [
    "var = 17\n",
    "x = 19\n",
    "string = f\"The value of var is {var} and x = {x}\"\n",
    "print(string)"
   ]
  },
  {
   "cell_type": "markdown",
   "metadata": {},
   "source": [
    "which we could have written as"
   ]
  },
  {
   "cell_type": "code",
   "execution_count": null,
   "metadata": {},
   "outputs": [],
   "source": [
    "var = 17\n",
    "x = 19\n",
    "print(f\"The value of var is {var} and x = {x}\")"
   ]
  },
  {
   "cell_type": "markdown",
   "metadata": {},
   "source": [
    "[Note that when you type a normal string in Jupyter-notebook, it helpfully tries to add the closing quote for you. Because f-strings are a new addition to the Python language, this closing-quote behavior hasn't yet been implemented properly in Jupyter and sometimes you will have to fiddle with the end of an f-string to get the closing quote correct when the f-string is used as an argument to a function.]"
   ]
  },
  {
   "cell_type": "markdown",
   "metadata": {},
   "source": [
    "Using f-strings, we can rewrite out factorization function, replacing the first print statement with an `f-string`."
   ]
  },
  {
   "cell_type": "code",
   "execution_count": null,
   "metadata": {},
   "outputs": [],
   "source": [
    "def factor(n):\n",
    "    print(f\"the prime factors of {n} are \", end=\"\")\n",
    "    for d in range(2,n):\n",
    "         while n%d==0:\n",
    "            print(d, end=\" \")\n",
    "            n = n//d \n",
    "            \n",
    "    print()"
   ]
  },
  {
   "cell_type": "code",
   "execution_count": null,
   "metadata": {},
   "outputs": [],
   "source": [
    "factor(1950)\n",
    "factor(5713547)"
   ]
  },
  {
   "cell_type": "markdown",
   "metadata": {},
   "source": [
    "## Exercise 5\n",
    "\n",
    "\n",
    "Note that some prime factors appear more than once -- they have a *multiplicity* greater than one. Let's try to make the output recognize this.  For example, in the `while loop`, we can count the number of times we divide by each number, and use that count to choose a format for the output.\n",
    "\n",
    "Copy the `factor` function from the code cell above (the one with the latest modifications) and paste it into the code cell below. Then follow the below steps to modify the output.\n",
    "\n",
    ">1) Define a counter that keeps track of the number of times the `while loop` executes  (recall: count += 1 is equivalent to count = count +1)\n",
    "    \n",
    ">2) use `f-strings` to modify the print statement such that `if` the counter indicates the multiplicity of some prime factor, n, is greater than 1 (say 2), the print statement denotes this as `n**2`\n",
    "\n",
    "For example, the output of:\n",
    "\n",
    "`factor(1950)`\n",
    "\n",
    "`factor(5713547)` \n",
    "\n",
    "should print the below to the screen:\n",
    "\n",
    ">the prime factors of 1950 are 2 3 5\\*\\*2 13 \n",
    "\n",
    ">the prime factors of 5713547 are 7\\*\\*2 17 19\\*\\*3 "
   ]
  },
  {
   "cell_type": "code",
   "execution_count": null,
   "metadata": {},
   "outputs": [],
   "source": [
    "def factor(n):\n",
    "    print(f\"the prime factors of {n} are \", end=\"\")\n",
    "    for d in range(2,n):\n",
    "        count = 0\n",
    "        while n%d==0:\n",
    "            n = n//d \n",
    "            count = count + 1\n",
    "            \n",
    "        if count>1:\n",
    "            print(f\"{d}**{count} \", end=\"\")\n",
    "        elif count>0:\n",
    "            print(f\"{d} \",end=\"\")\n",
    "    print()"
   ]
  },
  {
   "cell_type": "code",
   "execution_count": null,
   "metadata": {},
   "outputs": [],
   "source": [
    "factor(1950)\n",
    "factor(5713547)"
   ]
  },
  {
   "cell_type": "markdown",
   "metadata": {},
   "source": [
    "# 4. Pythagorean Triples\n",
    "\n",
    "A *Pythagorean triple* is a set of three positive integers $a, b, c$ such that $a^2 + b^2 = c^2$. In other words, if we consider $a, b$, and $c$ as the sides of a right triangle, they satisfy the Pythagorean Theorem.\n",
    "\n",
    "Lets' write a program to find and count all Pythagorean triples up to some number. To make things specific, let's\n",
    "assume that $a<b<c$ and $c<N$. That way, we won't find the same triple when $a$ and $b$ are reversed.\n",
    "\n",
    "The easiest way to do this is by brute force -- just try all combinations and see which ones work"
   ]
  },
  {
   "cell_type": "code",
   "execution_count": 3,
   "metadata": {},
   "outputs": [],
   "source": [
    "def pythagoras(cmax):\n",
    "    count = 0  # the number of triples found\n",
    "    for c in range(1, cmax):\n",
    "        for b in range(1, c):             # we assumed b<c\n",
    "            for a in range(1, b):         # we assumed a<b\n",
    "                if a**2 + b**2 == c**2:\n",
    "                    count = count + 1\n",
    "                   # print(f\"{a} {b} {c} is number {count}\")\n",
    "                    \n",
    "    print(f\"Brute force found that the number of Pythagorean triples up to {cmax} is {count}\")\n",
    "         "
   ]
  },
  {
   "cell_type": "code",
   "execution_count": null,
   "metadata": {},
   "outputs": [],
   "source": [
    "# try it out\n",
    "pythagoras(100)"
   ]
  },
  {
   "cell_type": "markdown",
   "metadata": {},
   "source": [
    "But that was slow... if you try too big a $c_{max}$ the program will never come back!\n",
    "\n",
    "Let's see how we could make it more efficient. Looking at the article at https://en.wikipedia.org/wiki/Formulas_for_generating_Pythagorean_triples, we find a method due to Leonard E. Dickson (1920)\n",
    "which looks like this:\n",
    "\n",
    "To find positive integers satisfying $a^2 + b^2 = c^2$, find positive integers $r, s$, and $t$ such that $r^2 = 2 s t$ is a perfect square. Then $a =  r + s$, $b = r + t$, and $c = r + s + t$.\n",
    "\n",
    "Why is this faster? Our brute force approach searched using three loops. With Dickson's method, we only have to loop through all values of $s$ and $t$ to find values such that $r^2 = 2st$ is a perfect square. This is only two loops,\n",
    "and thus a factor of $c_{max}$ (more or less) faster.\n",
    "\n",
    "\n",
    "## Exercise 6:\n",
    "\n",
    "Use Dickson's method to complete the function called `dickson`, below, to return Pythagorean triples. \n",
    "\n",
    "1) use a `for loop` to test all positive values of $s$ from 1 to `cmax`\n",
    "\n",
    "2) use a nested `for loop` to test all positive values of $t$ from $s$ to `cmax`\n",
    "\n",
    "3) Use the `sqrt` function to test if $r^2 = 2st$ is a perfect square. To do this, ask `if` $r= \\sqrt{2st}$ is an integer. I.e. the boolean expression is:\n",
    "\n",
    "`r == int(r)`\n",
    "\n",
    "4) If the condition is satisfied, then set $a =  r + s$, $b = r + t$, and $c = r + s + t$.\n",
    "\n",
    "5) If c is less than the input `cmax`, then update the counter. "
   ]
  },
  {
   "cell_type": "code",
   "execution_count": null,
   "metadata": {},
   "outputs": [],
   "source": [
    "from math import sqrt\n",
    "\n",
    "def dickson(cmax):\n",
    "    \n",
    "    count = 0  # count the number to triples found\n",
    "    \n",
    "   \n",
    "                    # print(f\"{a} {b} {c} is number {count}\")\n",
    "\n",
    "    print(f\"Dickson method found that the number of Pythagorean triples up to {cmax} is {count}\")"
   ]
  },
  {
   "cell_type": "code",
   "execution_count": 6,
   "metadata": {},
   "outputs": [],
   "source": [
    "from math import sqrt\n",
    "\n",
    "def dickson(cmax):\n",
    "    \n",
    "    count = 0  # count the number to triples found\n",
    "    \n",
    "    for s in range(1,cmax):\n",
    "        for t in range(s, cmax):\n",
    "            rfloat = sqrt(2*s*t)\n",
    "            rint = int(rfloat)\n",
    "            if rfloat == rint: # a perfect square\n",
    "                a = rint + s\n",
    "                b = rint + t\n",
    "                c = rint + s + t\n",
    "                if c < cmax:\n",
    "                    count = count + 1\n",
    "                    # print(f\"{a} {b} {c} is number {count}\")\n",
    "\n",
    "    print(f\"Dickson method found that the number of Pythagorean triples up to {cmax} is {count}\")"
   ]
  },
  {
   "cell_type": "code",
   "execution_count": null,
   "metadata": {},
   "outputs": [],
   "source": [
    "# try it out\n",
    "dickson(100)"
   ]
  },
  {
   "cell_type": "markdown",
   "metadata": {},
   "source": [
    "At least we know that these two functions get the same results for our test case of $c_{max}=100$, but we don't really know if Dickson's algorithm is faster.\n",
    "\n",
    "Python provides a function timeit.default_timer which returns the current time in seconds from some arbitrary time. We can use this to time the execution of the code and see how much faster Dickson's method really is.\n",
    "\n",
    "**To avoid printing too much output, for these timing runs we omit printing out the values of the triples we find**"
   ]
  },
  {
   "cell_type": "code",
   "execution_count": 7,
   "metadata": {},
   "outputs": [],
   "source": [
    "from timeit import default_timer as timer\n",
    "\n",
    "def timeThem(cmax):\n",
    "    \n",
    "    # first do brute force\n",
    "    start = timer()\n",
    "    pythagoras(cmax)\n",
    "    end = timer()\n",
    "    bruteTime = end - start\n",
    "    print(f\"elapsed time for brute force: {bruteTime} seconds\")\n",
    "    \n",
    "    \n",
    "    # next do Dickson's method\n",
    "    start = timer()\n",
    "    dickson(cmax)\n",
    "    end = timer()\n",
    "    dicksonTime = end - start\n",
    "    print(f\"elapsed time for dickson: {dicksonTime} seconds\")\n",
    "    \n",
    "    print(f\"speedup is {bruteTime/dicksonTime}\\n\")\n",
    "    "
   ]
  },
  {
   "cell_type": "markdown",
   "metadata": {},
   "source": [
    "Now let's try timing them. You might have to wait a few minutes for the third case, with $c_{max}=1000$, to finish"
   ]
  },
  {
   "cell_type": "code",
   "execution_count": 8,
   "metadata": {},
   "outputs": [
    {
     "name": "stdout",
     "output_type": "stream",
     "text": [
      "Brute force found that the number of Pythagorean triples up to 10 is 1\n",
      "elapsed time for brute force: 0.00013585900887846947 seconds\n",
      "Dickson method found that the number of Pythagorean triples up to 10 is 1\n",
      "elapsed time for dickson: 5.5767130106687546e-05 seconds\n",
      "speedup is 2.4361843368765603\n",
      "\n",
      "Brute force found that the number of Pythagorean triples up to 100 is 50\n",
      "elapsed time for brute force: 0.14831298729404807 seconds\n",
      "Dickson method found that the number of Pythagorean triples up to 100 is 50\n",
      "elapsed time for dickson: 0.00151516729965806 seconds\n",
      "speedup is 97.88555186448325\n",
      "\n",
      "Brute force found that the number of Pythagorean triples up to 1000 is 878\n",
      "elapsed time for brute force: 147.49026135727763 seconds\n",
      "Dickson method found that the number of Pythagorean triples up to 1000 is 878\n",
      "elapsed time for dickson: 0.16310907201841474 seconds\n",
      "speedup is 904.2431517274908\n",
      "\n"
     ]
    }
   ],
   "source": [
    "for p in range(1,4):  # try cmax = 10, 100, and 1000\n",
    "    timeThem(10**p)"
   ]
  },
  {
   "cell_type": "markdown",
   "metadata": {},
   "source": [
    "Dickson's method is clearly faster, and the speedup gets more extreme as $c_{max}$ increases. In fact, the speedup is roughly proportional to $c_{cmax}$, as our analysis suggested it would be. (The results for $c{max}=10$ require so little\n",
    "work that it is difficult to get an accurate time.)\n",
    "\n",
    "Sometimes it pays to use a better algorithm..."
   ]
  },
  {
   "cell_type": "markdown",
   "metadata": {},
   "source": [
    "# 5. Submitting Problem Sets for Grading\n",
    "\n",
    "When you're done with a notebook, click \"restart & clear all output\" from the kernel menu and then \"close and halt\" from the file menu. Then to shut down the notebook server, go back to the original window where you started things up and type ctrl-C. You will be asked for confirmation, and if you type y, the server will then shut down.\n",
    "\n",
    "Submit the notebook on D2L"
   ]
  },
  {
   "cell_type": "markdown",
   "metadata": {},
   "source": [
    "# Read Chapter 2.3 for next class"
   ]
  },
  {
   "cell_type": "code",
   "execution_count": null,
   "metadata": {},
   "outputs": [],
   "source": []
  }
 ],
 "metadata": {
  "kernelspec": {
   "display_name": "Python 3",
   "language": "python",
   "name": "python3"
  },
  "language_info": {
   "codemirror_mode": {
    "name": "ipython",
    "version": 3
   },
   "file_extension": ".py",
   "mimetype": "text/x-python",
   "name": "python",
   "nbconvert_exporter": "python",
   "pygments_lexer": "ipython3",
   "version": "3.6.5"
  }
 },
 "nbformat": 4,
 "nbformat_minor": 2
}
