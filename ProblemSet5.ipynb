{
 "cells": [
  {
   "cell_type": "markdown",
   "metadata": {},
   "source": [
    "*This Notebook utilizes exercises developed by Cindee Madison, Thomas Kluyver (Software Carpentry)*"
   ]
  },
  {
   "cell_type": "markdown",
   "metadata": {},
   "source": [
    "### ***Names: [Insert Your Names Here]***"
   ]
  },
  {
   "cell_type": "markdown",
   "metadata": {},
   "source": [
    "# Problem Set 5             \n",
    "## PHYS 105A   Spring 2019\n",
    "\n",
    "## Contents:  Fun with Lists\n",
    "\n",
    "1. Defining Lists\n",
    "2. Operations with Lists\n",
    "3. Index Slicing\n",
    "4. Modifying Lists\n",
    "5. Loops with Lists\n",
    "6. Conditionals with Lists\n",
    "7. Functions with Lists\n",
    "\n",
    "*** There are 6 exercises that you must complete.***\n"
   ]
  },
  {
   "cell_type": "markdown",
   "metadata": {
    "collapsed": true
   },
   "source": [
    "# 1. Defining Lists\n",
    "\n",
    "\n",
    "A `container` is a class or data structure whose instances are collections of other objects. In this class you will encounter containers called `Lists` and `numpy arrays`. \n",
    "\n",
    "`Lists` are probably the handiest and most flexible type of container. \n",
    "\n",
    "Lists are declared with square brackets `[  ]`"
   ]
  },
  {
   "cell_type": "code",
   "execution_count": null,
   "metadata": {},
   "outputs": [],
   "source": [
    "# Lists are created with square bracket syntax\n",
    "# This example contains 3 strings\n",
    "a = ['proton', 'electron', 'neutron']"
   ]
  },
  {
   "cell_type": "code",
   "execution_count": null,
   "metadata": {},
   "outputs": [],
   "source": [
    "print(a, type(a))"
   ]
  },
  {
   "cell_type": "markdown",
   "metadata": {},
   "source": [
    "We know the list `a` contains three strings.  We can check this using the `len` function."
   ]
  },
  {
   "cell_type": "code",
   "execution_count": null,
   "metadata": {},
   "outputs": [],
   "source": [
    "print(len(a))"
   ]
  },
  {
   "cell_type": "markdown",
   "metadata": {},
   "source": [
    "Each element of a list can be selected using the syntax `a[index]`.\n",
    "\n",
    "Here `index` refers to the location of the desired element within the array.  Like with the `range` function, indices start from `0` and go to `len(a) - 1`.\n",
    "\n",
    "For example, the indices for our list `a` are:  0, 1, 2 "
   ]
  },
  {
   "cell_type": "code",
   "execution_count": null,
   "metadata": {},
   "outputs": [],
   "source": [
    "# select the first element of the list a\n",
    "a[0]"
   ]
  },
  {
   "cell_type": "code",
   "execution_count": null,
   "metadata": {},
   "outputs": [],
   "source": [
    "# select the second element\n",
    "a[1]"
   ]
  },
  {
   "cell_type": "code",
   "execution_count": null,
   "metadata": {},
   "outputs": [],
   "source": [
    "# select the last element\n",
    "a[len(a)-1]"
   ]
  },
  {
   "cell_type": "code",
   "execution_count": null,
   "metadata": {},
   "outputs": [],
   "source": [
    "## Alternatively, you can also count from the end of the list\n",
    "print('last item is:', a[-1])\n",
    "print('second to last item is:', a[-2])"
   ]
  },
  {
   "cell_type": "code",
   "execution_count": null,
   "metadata": {},
   "outputs": [],
   "source": [
    "# select more than the last element and you'll get an \"index out of range\" error\n",
    "a[len(a)]"
   ]
  },
  {
   "cell_type": "code",
   "execution_count": null,
   "metadata": {},
   "outputs": [],
   "source": [
    "a[100] # same problem here"
   ]
  },
  {
   "cell_type": "code",
   "execution_count": null,
   "metadata": {},
   "outputs": [],
   "source": [
    "# You can also define an empty list \n",
    "\n",
    "aa = []\n",
    "print(aa)"
   ]
  },
  {
   "cell_type": "markdown",
   "metadata": {},
   "source": [
    "## Exercise 1\n",
    "\n",
    "a. Ask 3 people around you for their names. \n",
    "Create a List with those names as strings. \n",
    "Assign the list to a variable called `names`."
   ]
  },
  {
   "cell_type": "code",
   "execution_count": null,
   "metadata": {},
   "outputs": [],
   "source": []
  },
  {
   "cell_type": "markdown",
   "metadata": {},
   "source": [
    "b. Return the length of the list using `len`."
   ]
  },
  {
   "cell_type": "code",
   "execution_count": null,
   "metadata": {},
   "outputs": [],
   "source": []
  },
  {
   "cell_type": "markdown",
   "metadata": {},
   "source": [
    "c. Return the first element of the list (i.e. the first name)"
   ]
  },
  {
   "cell_type": "code",
   "execution_count": null,
   "metadata": {},
   "outputs": [],
   "source": []
  },
  {
   "cell_type": "markdown",
   "metadata": {},
   "source": [
    "d. Return the last element of the list"
   ]
  },
  {
   "cell_type": "code",
   "execution_count": null,
   "metadata": {},
   "outputs": [],
   "source": []
  },
  {
   "cell_type": "markdown",
   "metadata": {},
   "source": [
    "# 2. Operations with Lists\n",
    "\n",
    "You can also do operations with elements of a list.\n",
    "Because our list is comprised of `strings` we can use the `+` operator to concatenate."
   ]
  },
  {
   "cell_type": "code",
   "execution_count": null,
   "metadata": {},
   "outputs": [],
   "source": [
    "# defining a new list\n",
    "days = ['monday','tuesday','wednesday','thursday','friday','sunday','saturday']"
   ]
  },
  {
   "cell_type": "code",
   "execution_count": null,
   "metadata": {},
   "outputs": [],
   "source": [
    "#Concatenate the 1st and last elements of the list a:\n",
    "days[0] + days[-1]"
   ]
  },
  {
   "cell_type": "code",
   "execution_count": null,
   "metadata": {},
   "outputs": [],
   "source": [
    "# define a new list of some months\n",
    "months = ['Jan', 'Feb','Mar']\n",
    "print (months)"
   ]
  },
  {
   "cell_type": "code",
   "execution_count": null,
   "metadata": {},
   "outputs": [],
   "source": [
    "# you can also concenate entire lists\n",
    "combined = days + months\n",
    "print (combined)"
   ]
  },
  {
   "cell_type": "markdown",
   "metadata": {},
   "source": [
    "You can also reassign a value within a list by selecting the element by its index.\n",
    "\n",
    "`days[0] = 'new day'`\n",
    "\n",
    "In the list, sunday and saturday are not in the right order.\n",
    "Let's assign satruday to sunday and sunday to saturday."
   ]
  },
  {
   "cell_type": "code",
   "execution_count": null,
   "metadata": {},
   "outputs": [],
   "source": [
    "days[-1] = 'sunday' # assign `sunday` to the last element of the array\n",
    "days[-2] = 'saturday' # assign `saturday` to the 2nd last element of the array\n",
    "print(days)"
   ]
  },
  {
   "cell_type": "markdown",
   "metadata": {},
   "source": [
    "We will discuss a better way to do this using the method `insert` later on. "
   ]
  },
  {
   "cell_type": "markdown",
   "metadata": {},
   "source": [
    "__TIP:__ A 'gotcha' for some new Python users is that many containers, including lists,\n",
    "actually store pointers to data, not the data itself. "
   ]
  },
  {
   "cell_type": "code",
   "execution_count": null,
   "metadata": {},
   "outputs": [],
   "source": [
    "a = 1\n",
    "b = a\n",
    "a = 2\n",
    "## What is b?\n",
    "print('What is b?', b)"
   ]
  },
  {
   "cell_type": "code",
   "execution_count": null,
   "metadata": {},
   "outputs": [],
   "source": [
    "a = [1, 2, 3]\n",
    "b = a\n",
    "print('original b', b)\n",
    "a[0] = 42\n",
    "print('What is b after we change a ?', b)"
   ]
  },
  {
   "cell_type": "markdown",
   "metadata": {},
   "source": [
    "## Exercise 2\n",
    "Define a new list called `hair` that contains the hair color of the same 3 people you used in the list `names`.  Concatenate the two lists and store the list with a new variable name, `names_hair`. Print the result to the screen."
   ]
  },
  {
   "cell_type": "code",
   "execution_count": null,
   "metadata": {},
   "outputs": [],
   "source": []
  },
  {
   "cell_type": "markdown",
   "metadata": {},
   "source": [
    "# 3.  Index Slicing\n",
    "\n",
    "You can access multiple items from a list by `slicing`, using a colon between indexes.\n",
    "NOTE: The end value is not inclusive.\n",
    "\n",
    "For example, if I want to select the 1st through 3rd element of a list, I'd write:\n",
    "\n",
    "    listname[1:4]\n",
    "\n",
    " \n"
   ]
  },
  {
   "cell_type": "code",
   "execution_count": null,
   "metadata": {},
   "outputs": [],
   "source": [
    "animals = ['javelina','coyote','rattlesnake','tarantula','scorpion']"
   ]
  },
  {
   "cell_type": "code",
   "execution_count": null,
   "metadata": {},
   "outputs": [],
   "source": [
    "print('animals =', animals)"
   ]
  },
  {
   "cell_type": "code",
   "execution_count": null,
   "metadata": {},
   "outputs": [],
   "source": [
    "print('get the deadly ones:', animals[2:5])"
   ]
  },
  {
   "cell_type": "code",
   "execution_count": null,
   "metadata": {},
   "outputs": [],
   "source": [
    "print('get the ones with legs:', animals[0:2] + animals[3:5]) # here we concatenated 2 lists"
   ]
  },
  {
   "cell_type": "markdown",
   "metadata": {},
   "source": [
    "## Exercise 3\n",
    "\n",
    "Try out each of the below.\n",
    "Add comments in each code cell (#) that explain what indices were selected."
   ]
  },
  {
   "cell_type": "code",
   "execution_count": null,
   "metadata": {},
   "outputs": [],
   "source": [
    "print(animals[:2])"
   ]
  },
  {
   "cell_type": "code",
   "execution_count": null,
   "metadata": {},
   "outputs": [],
   "source": [
    "print(animals[2:])"
   ]
  },
  {
   "cell_type": "code",
   "execution_count": null,
   "metadata": {},
   "outputs": [],
   "source": [
    "print(animals[:])"
   ]
  },
  {
   "cell_type": "code",
   "execution_count": null,
   "metadata": {},
   "outputs": [],
   "source": [
    "print(animals[:-1])"
   ]
  },
  {
   "cell_type": "markdown",
   "metadata": {},
   "source": [
    "# 4. Modifying Lists\n",
    "\n",
    "Once you've created a list you can add additional values to the end of the list -- called `appending`.\n",
    "\n",
    "Lists are objects that have `methods` like `append` that can be utilized with the following syntax:\n",
    "\n",
    "    listname.append(<argument to add>)"
   ]
  },
  {
   "cell_type": "code",
   "execution_count": null,
   "metadata": {},
   "outputs": [],
   "source": [
    "cactii = ['ocatillo','prickly pear','barrel']\n",
    "print(cactii)"
   ]
  },
  {
   "cell_type": "code",
   "execution_count": null,
   "metadata": {},
   "outputs": [],
   "source": [
    "cactii.append('cholla')\n",
    "print(cactii)"
   ]
  },
  {
   "cell_type": "code",
   "execution_count": null,
   "metadata": {},
   "outputs": [],
   "source": [
    "cactii.append('saguaro')\n",
    "print(cactii)"
   ]
  },
  {
   "cell_type": "code",
   "execution_count": null,
   "metadata": {},
   "outputs": [],
   "source": [
    "# you can even append lists to a new list. Even if the values are not \n",
    "cactii.append([1,2])\n",
    "print(cactii)"
   ]
  },
  {
   "cell_type": "markdown",
   "metadata": {},
   "source": [
    "If you want to get rid of that last element added you can use `pop`\n",
    "which removes and returns last value from the list **or the given index value**. \n"
   ]
  },
  {
   "cell_type": "code",
   "execution_count": null,
   "metadata": {},
   "outputs": [],
   "source": [
    "cactii.pop()\n",
    "print(cactii)"
   ]
  },
  {
   "cell_type": "code",
   "execution_count": null,
   "metadata": {},
   "outputs": [],
   "source": [
    "cactii.pop(2)"
   ]
  },
  {
   "cell_type": "code",
   "execution_count": null,
   "metadata": {},
   "outputs": [],
   "source": [
    "print(cactii)"
   ]
  },
  {
   "cell_type": "markdown",
   "metadata": {},
   "source": [
    "Alternatively, you can remove an element with a known value from a list using remove"
   ]
  },
  {
   "cell_type": "code",
   "execution_count": null,
   "metadata": {},
   "outputs": [],
   "source": [
    "cactii.remove('ocatillo')\n",
    "print(cactii)"
   ]
  },
  {
   "cell_type": "markdown",
   "metadata": {},
   "source": [
    "You can also add a value to the list at a specified index using the List method `insert`. \n",
    "Syntax:\n",
    "\n",
    "`listname.insert(index, <value to be inserted>)`"
   ]
  },
  {
   "cell_type": "code",
   "execution_count": null,
   "metadata": {},
   "outputs": [],
   "source": [
    "cactii.insert(1,'barrel')\n",
    "print(cactii)"
   ]
  },
  {
   "cell_type": "code",
   "execution_count": null,
   "metadata": {},
   "outputs": [],
   "source": [
    "cactii.insert(0,'ocatillo')\n",
    "print(cactii)"
   ]
  },
  {
   "cell_type": "markdown",
   "metadata": {},
   "source": [
    "# Exercise 4\n",
    "\n",
    "In Exercise 2 you created a combined list called `names_hair` by concatenating two lists, `names` and `hair`. But that just appended `hair` at the end of the list `names`. \n",
    "\n",
    "Instead, create a new list `names_hair2` which is a list with two elements - the first element of `names` and the first element of `hair`. Print the result to the screen."
   ]
  },
  {
   "cell_type": "code",
   "execution_count": null,
   "metadata": {},
   "outputs": [],
   "source": []
  },
  {
   "cell_type": "markdown",
   "metadata": {},
   "source": [
    "Use append to add the last element of `name` and then the last element of `hair` to the list `names_hair2`. Print the result to the screen.\n",
    "If you make a mistake use `.pop( )` or `.remove(value)`"
   ]
  },
  {
   "cell_type": "code",
   "execution_count": null,
   "metadata": {},
   "outputs": [],
   "source": []
  },
  {
   "cell_type": "markdown",
   "metadata": {},
   "source": [
    "Insert the 2nd element of `names` and the 2nd element of `hair`. Print the result to the screen.\n",
    "\n",
    "This should result in a list:\n",
    "[name1, hair1, name2, hair2, name3, hair3]"
   ]
  },
  {
   "cell_type": "code",
   "execution_count": null,
   "metadata": {},
   "outputs": [],
   "source": []
  },
  {
   "cell_type": "code",
   "execution_count": null,
   "metadata": {},
   "outputs": [],
   "source": []
  },
  {
   "cell_type": "code",
   "execution_count": null,
   "metadata": {},
   "outputs": [],
   "source": []
  },
  {
   "cell_type": "markdown",
   "metadata": {},
   "source": [
    "# 5.  Loops with Lists\n",
    "\n",
    "The above exercise what probably a bit tedious. It would be much easier if we could do this using a `loop`.\n",
    "\n",
    "Just like with the `range` function, you can loop over a list.  \n",
    "The `for loop` below stores each element of the list to a variable `i` at each iteration."
   ]
  },
  {
   "cell_type": "code",
   "execution_count": null,
   "metadata": {},
   "outputs": [],
   "source": [
    "for i in days:\n",
    "    print(i)     # in this case i is not a number. it is the value of an element in days."
   ]
  },
  {
   "cell_type": "markdown",
   "metadata": {},
   "source": [
    "To see better what is going on in the loop, add a counter. \n",
    "We can already check how many times the loop will execute by using the `len` function."
   ]
  },
  {
   "cell_type": "code",
   "execution_count": null,
   "metadata": {},
   "outputs": [],
   "source": [
    "len(days) # so the loop should execute this number of times."
   ]
  },
  {
   "cell_type": "code",
   "execution_count": null,
   "metadata": {},
   "outputs": [],
   "source": [
    "count = 0\n",
    "for i in days:\n",
    "    print(i)\n",
    "    count += 1\n",
    "    print(count)"
   ]
  },
  {
   "cell_type": "markdown",
   "metadata": {},
   "source": [
    "Let's try Exercise 4 again, but this time let's use a `for loop`"
   ]
  },
  {
   "cell_type": "code",
   "execution_count": null,
   "metadata": {},
   "outputs": [],
   "source": [
    "\n",
    "nh = [] # this is an empty list\n",
    "\n",
    "count= 0\n",
    "\n",
    "for i in names:\n",
    "    nh.append(i)\n",
    "    nh.append(hair[count])\n",
    "    count += 1\n",
    "\n",
    "print(nh) # this is outside the for loop because of the indentation.\n"
   ]
  },
  {
   "cell_type": "markdown",
   "metadata": {},
   "source": [
    "# Exercise 5\n",
    "\n",
    "a.)  Write a `for loop` that loops over the elements in the list `names`, defined in Exercise 1 and computes the number of characters in each element of `names`.\n",
    " \n",
    "Each time the loop executes, print an f-string:  `There are {characters} letters in {name}` \n",
    "\n",
    "Note the `len` function will also work on a string and return the number of characters in the string. E.g. : \n"
   ]
  },
  {
   "cell_type": "code",
   "execution_count": null,
   "metadata": {},
   "outputs": [],
   "source": [
    "s = 'boooooo'  # a random string\n",
    "print(len(s))  # the number of characters in the string."
   ]
  },
  {
   "cell_type": "code",
   "execution_count": null,
   "metadata": {},
   "outputs": [],
   "source": []
  },
  {
   "cell_type": "markdown",
   "metadata": {},
   "source": [
    "b) Lists can also contain integers or floats.  Define a list of integers from 0 to 10 and assign it to a variable called `g`.  We can do this using the `range` function, using the following syntax: \n",
    "\n",
    "`g = list(range(number))`\n",
    "\n",
    "Print g to the screen to make sure you understand what this does.\n",
    "\n",
    "Define an empty list `gg = []`  \n",
    "\n",
    "Loop over `g` and append the value of `g` to the power of 3 to `gg` at each iteration"
   ]
  },
  {
   "cell_type": "code",
   "execution_count": null,
   "metadata": {},
   "outputs": [],
   "source": []
  },
  {
   "cell_type": "code",
   "execution_count": null,
   "metadata": {},
   "outputs": [],
   "source": []
  },
  {
   "cell_type": "markdown",
   "metadata": {},
   "source": [
    "# 6. Conditionals and Lists\n",
    "\n",
    "Booleans also exist with Lists. \n",
    "You can check if a certain value is in the list. If it's there, the expression returns True"
   ]
  },
  {
   "cell_type": "code",
   "execution_count": null,
   "metadata": {},
   "outputs": [],
   "source": [
    "# recall our list of Arizonan animals\n",
    "print(animals)"
   ]
  },
  {
   "cell_type": "code",
   "execution_count": null,
   "metadata": {},
   "outputs": [],
   "source": [
    "'scorpion' in animals"
   ]
  },
  {
   "cell_type": "code",
   "execution_count": null,
   "metadata": {},
   "outputs": [],
   "source": [
    "'giraffe' in animals"
   ]
  },
  {
   "cell_type": "code",
   "execution_count": null,
   "metadata": {},
   "outputs": [],
   "source": [
    "if ('rattlesnake' in animals) or ('scorpion' in animals):\n",
    "    print('run away')"
   ]
  },
  {
   "cell_type": "markdown",
   "metadata": {},
   "source": [
    "# 7.  Functions with Lists\n",
    "\n",
    "Functions are used to store algorithms that we don't want to re-write over and over again. \n",
    "Often the desired output of a function is not a single value, but rather a list of values. \n",
    "\n",
    "Recall the syntax for a function is:\n",
    "\n",
    "    def function(<arguments separated by commas>):\n",
    "    \n",
    "        STATEMENT\n",
    "    \n",
    "        return <value>\n",
    "\n",
    "\n",
    "## Exercise 6 \n",
    "\n",
    "\n",
    "a) A function called `evens3ways` is defined below. This function takes as an input an integer `M` and returns all even numbers up to `M-1`. \n",
    " \n",
    " Illustrated are 3 equivalent ways to do this. Add comments (#) next to each line of code that explain in your own words what is going on in each line. Make sure you understand why each version is equivalent."
   ]
  },
  {
   "cell_type": "code",
   "execution_count": null,
   "metadata": {},
   "outputs": [],
   "source": [
    "# A function that returns all even numbers from 1 to M \n",
    "# uses three equivalent methods.\n",
    "def evens3ways(M):\n",
    "\n",
    "    # First Way\n",
    "    evens1 = []   \n",
    "    for i in range(1, M):\n",
    "        if i%2==0:\n",
    "            evens1.append(i)\n",
    "\n",
    "    # Second Way \n",
    "    evens2 = list(range(2,M))\n",
    "    for i in evens2:\n",
    "        if i%2 != 0:\n",
    "            evens2.remove(i)\n",
    "\n",
    "    # Third Way\n",
    "    evens3 = list(range(2,M,2))\n",
    "\n",
    "    print(evens1,\"\\n\", evens2, \"\\n\", evens3)"
   ]
  },
  {
   "cell_type": "code",
   "execution_count": null,
   "metadata": {},
   "outputs": [],
   "source": []
  },
  {
   "cell_type": "markdown",
   "metadata": {},
   "source": [
    "b) Define a function `listofsqrs` that takes as an input an arbitray integer `M` and returns a `list` of the square of all integers from 1 up to M.\n",
    "\n",
    "So for an input of 2, it would return [1,4]\n",
    "\n",
    "This is very similar to exercise 5 b, except now we are defining the loop within a function."
   ]
  },
  {
   "cell_type": "code",
   "execution_count": null,
   "metadata": {},
   "outputs": [],
   "source": []
  },
  {
   "cell_type": "markdown",
   "metadata": {},
   "source": [
    "# Submitting Problem Sets for Grading\n",
    "\n",
    "When you're done with a notebook, click \"restart & clear all output\" from the kernel menu and then \"close and halt\" from the file menu. Then to shut down the notebook server, go back to the original window where you started things up and type ctrl-C. You will be asked for confirmation, and if you type y, the server will then shut down.\n",
    "\n",
    "Save the notebook as username_problemset5.ipynb\n",
    "\n",
    "Submit the notebook on D2L\n",
    "\n",
    "The problem set will be due before 5 PM the day before next class."
   ]
  },
  {
   "cell_type": "code",
   "execution_count": null,
   "metadata": {},
   "outputs": [],
   "source": []
  }
 ],
 "metadata": {
  "kernelspec": {
   "display_name": "Python 3",
   "language": "python",
   "name": "python3"
  },
  "language_info": {
   "codemirror_mode": {
    "name": "ipython",
    "version": 3
   },
   "file_extension": ".py",
   "mimetype": "text/x-python",
   "name": "python",
   "nbconvert_exporter": "python",
   "pygments_lexer": "ipython3",
   "version": "3.6.5"
  }
 },
 "nbformat": 4,
 "nbformat_minor": 2
}
