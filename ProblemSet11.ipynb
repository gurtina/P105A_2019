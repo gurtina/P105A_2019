{
 "cells": [
  {
   "cell_type": "markdown",
   "metadata": {},
   "source": [
    "# DO THIS :  \n",
    "\n",
    "### *** Names: [Insert Your Names Here;      Optional: indicate preferred pronouns]***\n",
    "\n",
    "# AND IN THE FILENAME"
   ]
  },
  {
   "cell_type": "markdown",
   "metadata": {},
   "source": [
    "##### Problem Set 11             \n",
    "## PHYS 105A   Spring 2019\n",
    "\n",
    "## Contents\n",
    "\n",
    "Review of some Python syntax and concepts\n",
    "\n",
    "** There are 6 exercises that must be completed. **"
   ]
  },
  {
   "cell_type": "markdown",
   "metadata": {},
   "source": [
    "### Setting up jupyter-notebook for running animations\n",
    "\n",
    "\n",
    "#### To produce the animation in a separate window use\n",
    "   %matplotlib tk  \n",
    "   \n",
    "as the first line. Graphics will be plotted in separate windows from the web browser\n",
    "where the notebook is displayed.\n",
    "\n",
    "To terminate an animation running in a separate window, kill the window by clicking on its \"close\" button.\n",
    "\n",
    "This way of displaying animations works with both animation styles from a jupyter-notebook.\n",
    "\n",
    "#### To produce the animation embedded within the notebook, use\n",
    "%matplotlib notebook  \n",
    "\n",
    "as the first line. \n",
    "\n",
    "To terminate an animation running within a notebook, click on the \"power\" button at the right end of the title line.\n",
    "\n",
    "To use this form of animation, you must use the  `FuncAnimation` style of animation described below.\n",
    "\n",
    "**NB**: You will need to restart the kernel when you change the backend.  \n",
    "For example, from the \"Kernel\" menu at the top of the notebook, choose \"Restart & Clear Output\"\n",
    "\n",
    "**NB**: Animations run much faster in a separate window, so choose this option if you have a  \n",
    "complex animation which runs too slowly when embedded in the notebook.\n"
   ]
  },
  {
   "cell_type": "markdown",
   "metadata": {},
   "source": [
    "To start, as usual we import matplotlib and numpy.\n",
    "\n",
    "This time, however, we first need to specify where animations will be displayed (descibed above) and to import the\n",
    "`FuncAnimation` function from the `matplotlib.animation` module"
   ]
  },
  {
   "cell_type": "code",
   "execution_count": null,
   "metadata": {},
   "outputs": [],
   "source": [
    "\n",
    "%matplotlib tk\n",
    "# on windows . %matplotlib qt \n",
    "# different back end.\n",
    "\n",
    "\n",
    "import numpy as np\n",
    "from matplotlib import pyplot as plt\n",
    "\n",
    "# additional modules for animation:\n",
    "from matplotlib.animation import FuncAnimation\n",
    "\n",
    "# import matplotlib so we can use dir on it below\n",
    "import matplotlib"
   ]
  },
  {
   "cell_type": "markdown",
   "metadata": {},
   "source": [
    "We have already seen how to keep an instance of a matplotlib object like axes. We can also keep an instance of an object within the plot. For example,"
   ]
  },
  {
   "cell_type": "code",
   "execution_count": null,
   "metadata": {
    "scrolled": true
   },
   "outputs": [],
   "source": [
    "x = np.linspace(-10,10,400)\n",
    "y = np.sin(x)\n",
    "\n",
    "fig, ax = plt.subplots()\n",
    "line = ax.plot(x,y)"
   ]
  },
  {
   "cell_type": "markdown",
   "metadata": {},
   "source": [
    "plt.plot returns a list of objects corresponding to each line plotted. If we look at the value of line"
   ]
  },
  {
   "cell_type": "code",
   "execution_count": null,
   "metadata": {},
   "outputs": [],
   "source": [
    "print(line)"
   ]
  },
  {
   "cell_type": "markdown",
   "metadata": {},
   "source": [
    "we see that it is a list with one element: a Line2D object. Let's have a look at the member functions available for this object"
   ]
  },
  {
   "cell_type": "code",
   "execution_count": null,
   "metadata": {},
   "outputs": [],
   "source": [
    "dir(matplotlib.lines.Line2D)"
   ]
  },
  {
   "cell_type": "markdown",
   "metadata": {},
   "source": [
    "If you scroll down, you will see that there are a bunch of methods beginning with \"set_\". The one we are interested in here is the set_data function. This allows us to set the data used by the Line2D object.\n",
    "\n",
    "Let's try setting the data used for the line. We'll use the same x values, but use y values which are half the previous\n",
    "ones:"
   ]
  },
  {
   "cell_type": "code",
   "execution_count": null,
   "metadata": {},
   "outputs": [],
   "source": [
    "line[0].set_data(x, 0.5*y)"
   ]
  },
  {
   "cell_type": "markdown",
   "metadata": {},
   "source": [
    "If we continuously reset this data, we can create the appearance of a moving line -- an animation"
   ]
  },
  {
   "cell_type": "code",
   "execution_count": null,
   "metadata": {},
   "outputs": [],
   "source": [
    "for eps in np.arange(0,2*np.pi,0.01):\n",
    "    line[0].set_data(x, np.sin(x+eps))"
   ]
  },
  {
   "cell_type": "markdown",
   "metadata": {},
   "source": [
    "That didn't seem to do much!\n",
    "\n",
    "The trouble is that our animation went by faster than the eye could see. We need to pause and display each step in the animation to give our eye time to register the changed plot. We can do this with the plt.pause() function, with an argument given the amount of time (in seconds) to pause before continuing"
   ]
  },
  {
   "cell_type": "code",
   "execution_count": null,
   "metadata": {},
   "outputs": [],
   "source": [
    "x = np.linspace(-10,10,400)\n",
    "y = np.sin(x)\n",
    "\n",
    "fig, ax = plt.subplots()\n",
    "line = ax.plot(x,y)\n",
    "\n",
    "for eps in np.arange(0,10*np.pi,0.1):\n",
    "    line[0].set_data(x, np.sin(x+eps))\n",
    "    plt.pause(0.01)\n",
    "plt.show()"
   ]
  },
  {
   "cell_type": "markdown",
   "metadata": {},
   "source": [
    "There are equivalent \"set_\" methods for most of the plot objects. So, for example, we could keep track of the value of eps being used in the plot as follows"
   ]
  },
  {
   "cell_type": "code",
   "execution_count": null,
   "metadata": {},
   "outputs": [],
   "source": [
    "x = np.linspace(-10,10,400)\n",
    "y = np.sin(x)\n",
    "\n",
    "fig, ax = plt.subplots()\n",
    "line = ax.plot(x,y)\n",
    "epstext = ax.text(8,1.2, 'eps=0')\n",
    "\n",
    "for eps in np.arange(0,10*np.pi,0.1):\n",
    "    line[0].set_data(x, np.sin(x+eps))\n",
    "    epstext.set_text(f\"eps={eps:.2f}\")\n",
    "    plt.pause(0.01)\n",
    "plt.show()"
   ]
  },
  {
   "cell_type": "markdown",
   "metadata": {},
   "source": [
    "Let's practice with this by performing a simple simulation of balls moving in a box. We'll put all the balls at the origin to begin with, and then have each take a step of length $d=0.1$ in a random direction"
   ]
  },
  {
   "cell_type": "code",
   "execution_count": null,
   "metadata": {},
   "outputs": [],
   "source": [
    "nballs = 100\n",
    "d = 0.1\n",
    "xpos = np.zeros(nballs)                # positions of the balls\n",
    "ypos = np.zeros(nballs)\n",
    "\n",
    "fig, ax = plt.subplots()\n",
    "ax.set_xlim(-5,5)\n",
    "ax.set_ylim(-5,5)\n",
    "\n",
    "balls = ax.plot(x,y,'r.')              # plot object with balls\n",
    "step = 0\n",
    "steptext = ax.text(4,5.5,'step = 0')   # plot object with text for step number\n",
    "\n",
    "for step in range(1,300):\n",
    "    theta = np.random.random(nballs) * 2 * np.pi  # change balls' coordinates by d in a random direction\n",
    "    xpos += d * np.cos(theta)\n",
    "    ypos += d * np.sin(theta)\n",
    "    \n",
    "    balls[0].set_data(xpos, ypos)                 # change data in plot\n",
    "    \n",
    "    steptext.set_text(f\"step = {step:3d}\")\n",
    "\n",
    "    plt.pause(0.01)                               # pause between frames"
   ]
  },
  {
   "cell_type": "markdown",
   "metadata": {},
   "source": [
    "This is called  a\"random walk\" and is a model for diffusion. The RMS (root mean square) distance each ball should get from the origin after $N$ steps is $d\\sqrt{N}$. \n",
    "\n",
    "The *average* distance is approximately $\\sqrt{\\frac{2}{\\pi}}d\\sqrt{N}$. \n",
    "\n",
    "\n",
    "Let's draw a circle of this radius at each timestep on top of our distribution of balls.\n",
    "\n",
    "To draw a circle, we could just create a bunch of coordinates and use plot to show them. Here, however, we will use one of matplotlib's patch objects. Patchs are goemetric shapes (circles, ellipses, polygons, etc.) available as matplotlb methods.\n",
    "\n",
    "Thus,"
   ]
  },
  {
   "cell_type": "code",
   "execution_count": null,
   "metadata": {},
   "outputs": [],
   "source": [
    "nballs = 1000\n",
    "center = [0,0]\n",
    "xpos = np.zeros(nballs) + center[0]\n",
    "ypos = np.zeros(nballs) + center[1]\n",
    "d = 0.1\n",
    "\n",
    "fig, ax = plt.subplots()\n",
    "ax.set_xlim(-5,5)\n",
    "ax.set_ylim(-5,5)\n",
    "ax.set_aspect(1.0)                    # make box size proportional to coordinates\n",
    "\n",
    "balls = ax.plot(xpos,ypos,'r.')             # object to draw balls\n",
    "step = 0                              # number of steps\n",
    "steptext = ax.text(4,5.5,'step = 0')  # text of step counter display\n",
    "\n",
    "circle = plt.Circle(center, 0, edgecolor='green', facecolor='None', zorder=10)     # object with circle\n",
    "ax.add_patch(circle)                                                               # high zorder plots it on top\n",
    "\n",
    "for step in range(1,300):\n",
    "    theta = np.random.random(nballs) * 2 * np.pi\n",
    "    xpos += d * np.cos(theta)\n",
    "    ypos += d * np.sin(theta)\n",
    "    balls[0].set_data(xpos, ypos)\n",
    "\n",
    "    rmsDist = d * np.sqrt(step)\n",
    "    circle.set_radius(rmsDist)\n",
    "\n",
    "    steptext.set_text(f\"step = {step:3d}\")\n",
    "    \n",
    "    plt.pause(0.01)"
   ]
  },
  {
   "cell_type": "markdown",
   "metadata": {},
   "source": [
    "Next, let's count the number of balls inside the circle and write the fraction of balls within the circle at the top of the animation to check whether we have the right radius for the circle.\n",
    "\n",
    "We'll also define a function to add the random steps of length $d$ to the positions."
   ]
  },
  {
   "cell_type": "code",
   "execution_count": null,
   "metadata": {},
   "outputs": [],
   "source": [
    "def countEm(x, y, center, radius):              # function to count number of particles closer to center than radius\n",
    "    ninside = ( (x-center[0])**2 + (y-center[1])**2 < radius**2).sum()\n",
    "    return ninside\n",
    "\n",
    "def addStep(x, y, d):                           # function to add a random step to the positions\n",
    "    theta = np.random.random(nballs) * 2 * np.pi\n",
    "    x += d * np.cos(theta)\n",
    "    y += d * np.sin(theta)\n",
    "\n",
    "    # Don't need a return as we are changing only the data within the x and y arrays!\n",
    "\n",
    "nballs = 10000\n",
    "center = [0,0]\n",
    "xpos = np.zeros(nballs) + center[0]\n",
    "ypos = np.zeros(nballs) + center[1]\n",
    "d = 0.1\n",
    "\n",
    "fig, ax = plt.subplots()\n",
    "ax.set_xlim(-5,5)\n",
    "ax.set_ylim(-5,5)\n",
    "ax.set_aspect(1.0)                    # make box size proportional to coordinates\n",
    "\n",
    "balls = ax.plot(xpos,ypos,'r,')             # object to draw balls\n",
    "step = 0                              # number of steps\n",
    "steptext = ax.text(4,5.5,'step = 0')  # text of step counter display\n",
    "ntext = ax.text(-2, 5.5, '')          # text of fraction of balls inside circle\n",
    "\n",
    "circle = plt.Circle(center, 0, edgecolor='green', facecolor='None', zorder=10)     # object with circle\n",
    "ax.add_patch(circle)                                                               # high zorder plots it on top\n",
    "\n",
    "for step in range(1,500):\n",
    "    addStep(xpos, ypos, d)\n",
    "    balls[0].set_data(xpos, ypos)\n",
    "\n",
    "    rmsDist = d * np.sqrt(step)\n",
    "\n",
    "    circle.set_radius(rmsDist*np.sqrt(2/np.pi))\n",
    "\n",
    "    steptext.set_text(f\"step = {step:3d}\")\n",
    "    \n",
    "    if step%10==0:\n",
    "        nin = countEm(xpos, ypos, center, rmsDist*np.sqrt(2/np.pi))\n",
    "        ntext.set_text(f'nin/nballs = {nin/nballs:.3f}')\n",
    "    \n",
    "    plt.pause(0.01)"
   ]
  },
  {
   "cell_type": "markdown",
   "metadata": {},
   "source": [
    "Matplotlib has another way of doing animations. I don't like it as much, but it is the only way to produce matplotlib animations within the jupyter-notebook so it is worth learning. It also does some things that the previous method doesn't which we will cover later.\n",
    "\n",
    "To use it, we set up our plot as before, keeping handles for each of the plot objects we wish to change.\n",
    "\n",
    "We then create a function which updates the plot when called. This must return all of the objects which are going to be updated.\n",
    "\n",
    "This is then given as an argument to the function `FuncAnimation` which actually produces the animation. There are many tweaks one can make using `FuncAnimation`; here we are just using the simplest case.\n",
    "\n",
    "Thus, adapting our example from above"
   ]
  },
  {
   "cell_type": "code",
   "execution_count": null,
   "metadata": {},
   "outputs": [],
   "source": [
    "def addStep(x, y, d):\n",
    "    theta = np.random.random(nballs) * 2 * np.pi\n",
    "    x += d * np.cos(theta)\n",
    "    y += d * np.sin(theta)\n",
    "\n",
    "    # Don't need a return as we are changing only the data within the x and y arrays\n",
    "    \n",
    "nballs = 1000\n",
    "center = [0,0]\n",
    "xpos = np.zeros(nballs) + center[0]\n",
    "ypos = np.zeros(nballs) + center[1]\n",
    "d = 0.1\n",
    "\n",
    "fig, ax = plt.subplots()\n",
    "ax.set_xlim(-5,5)\n",
    "ax.set_ylim(-5,5)\n",
    "ax.set_aspect(1.0)                    # make box size proportional to coordinates\n",
    "\n",
    "balls = ax.plot(xpos,ypos,'r.')             # object to draw balls\n",
    "step = 0                              # number of steps\n",
    "steptext = ax.text(4, 5.5,'step = 0')  # text of step counter display\n",
    "\n",
    "circle = plt.Circle(center, 0, edgecolor='green', facecolor='None', zorder=10)     # object with circle\n",
    "ax.add_patch(circle)                                                               # high zorder plots it on top\n",
    "\n",
    "def update(step):\n",
    "    addStep(xpos, ypos, d)\n",
    "    balls[0].set_data(xpos, ypos)\n",
    "\n",
    "    rmsDist = d * np.sqrt(step)\n",
    "\n",
    "    circle.set_radius(rmsDist*np.sqrt(2/np.pi))\n",
    "\n",
    "    steptext.set_text(f\"step = {step:3d}\")\n",
    "    \n",
    "    return balls[0], circle, steptext\n",
    "\n",
    "anim = FuncAnimation(fig, update, interval=10, frames=500, repeat=False)"
   ]
  },
  {
   "cell_type": "markdown",
   "metadata": {},
   "source": [
    "One advantage of using `FuncAnimation` is that we can easily save our animation to a file."
   ]
  },
  {
   "cell_type": "code",
   "execution_count": 1,
   "metadata": {},
   "outputs": [
    {
     "ename": "NameError",
     "evalue": "name 'np' is not defined",
     "output_type": "error",
     "traceback": [
      "\u001b[0;31m---------------------------------------------------------------------------\u001b[0m",
      "\u001b[0;31mNameError\u001b[0m                                 Traceback (most recent call last)",
      "\u001b[0;32m<ipython-input-1-e318d93cfd4b>\u001b[0m in \u001b[0;36m<module>\u001b[0;34m()\u001b[0m\n\u001b[1;32m      8\u001b[0m \u001b[0mnballs\u001b[0m \u001b[0;34m=\u001b[0m \u001b[0;36m1000\u001b[0m\u001b[0;34m\u001b[0m\u001b[0m\n\u001b[1;32m      9\u001b[0m \u001b[0mcenter\u001b[0m \u001b[0;34m=\u001b[0m \u001b[0;34m[\u001b[0m\u001b[0;36m0\u001b[0m\u001b[0;34m,\u001b[0m\u001b[0;36m0\u001b[0m\u001b[0;34m]\u001b[0m\u001b[0;34m\u001b[0m\u001b[0m\n\u001b[0;32m---> 10\u001b[0;31m \u001b[0mxpos\u001b[0m \u001b[0;34m=\u001b[0m \u001b[0mnp\u001b[0m\u001b[0;34m.\u001b[0m\u001b[0mzeros\u001b[0m\u001b[0;34m(\u001b[0m\u001b[0mnballs\u001b[0m\u001b[0;34m)\u001b[0m \u001b[0;34m+\u001b[0m \u001b[0mcenter\u001b[0m\u001b[0;34m[\u001b[0m\u001b[0;36m0\u001b[0m\u001b[0;34m]\u001b[0m\u001b[0;34m\u001b[0m\u001b[0m\n\u001b[0m\u001b[1;32m     11\u001b[0m \u001b[0mypos\u001b[0m \u001b[0;34m=\u001b[0m \u001b[0mnp\u001b[0m\u001b[0;34m.\u001b[0m\u001b[0mzeros\u001b[0m\u001b[0;34m(\u001b[0m\u001b[0mnballs\u001b[0m\u001b[0;34m)\u001b[0m \u001b[0;34m+\u001b[0m \u001b[0mcenter\u001b[0m\u001b[0;34m[\u001b[0m\u001b[0;36m1\u001b[0m\u001b[0;34m]\u001b[0m\u001b[0;34m\u001b[0m\u001b[0m\n\u001b[1;32m     12\u001b[0m \u001b[0md\u001b[0m \u001b[0;34m=\u001b[0m \u001b[0;36m0.1\u001b[0m\u001b[0;34m\u001b[0m\u001b[0m\n",
      "\u001b[0;31mNameError\u001b[0m: name 'np' is not defined"
     ]
    }
   ],
   "source": [
    "def addStep(x, y, d):\n",
    "    theta = np.random.random(nballs) * 2 * np.pi\n",
    "    x += d * np.cos(theta)\n",
    "    y += d * np.sin(theta)\n",
    "\n",
    "    # Don't need a return as we are changing only the data within the x and y arrays\n",
    "    \n",
    "nballs = 1000\n",
    "center = [0,0]\n",
    "xpos = np.zeros(nballs) + center[0]\n",
    "ypos = np.zeros(nballs) + center[1]\n",
    "d = 0.1\n",
    "\n",
    "fig, ax = plt.subplots()\n",
    "ax.set_xlim(-5,5)\n",
    "ax.set_ylim(-5,5)\n",
    "ax.set_aspect(1.0)                    # make box size proportional to coordinates\n",
    "\n",
    "balls = ax.plot(xpos,ypos,'r.')             # object to draw balls\n",
    "step = 0                              # number of steps\n",
    "steptext = ax.text(4, 5.5,'step = 0')  # text of step counter display\n",
    "\n",
    "circle = plt.Circle(center, 0, edgecolor='green', facecolor='None', zorder=10)     # object with circle\n",
    "ax.add_patch(circle)                                                               # high zorder plots it on top\n",
    "\n",
    "def update(step):\n",
    "    addStep(xpos, ypos, d)\n",
    "    balls[0].set_data(xpos, ypos)\n",
    "\n",
    "    rmsDist = d * np.sqrt(step)\n",
    "\n",
    "    circle.set_radius(rmsDist*np.sqrt(2/np.pi))\n",
    "\n",
    "    steptext.set_text(f\"step = {step:3d}\")\n",
    "    \n",
    "    return balls[0], circle, steptext\n",
    "\n",
    "anim = FuncAnimation(fig, update, interval=10, frames=500, repeat=False)  # save the returned object\n",
    "anim.save('foo.mp4')"
   ]
  },
  {
   "cell_type": "markdown",
   "metadata": {},
   "source": [
    "For the exercises, we will make another \"balls in a box\" animation, but this time with different particle dynamics.\n",
    "\n",
    "We will give the balls not only positions but also velocities, and then move the particles according to their velocities.\n",
    "\n",
    "The basic code to make the particles looks like this:"
   ]
  },
  {
   "cell_type": "code",
   "execution_count": null,
   "metadata": {},
   "outputs": [],
   "source": [
    "nBalls = 10\n",
    "boxWidth = 10\n",
    "boxHeight = 10\n",
    "vmax = 1\n",
    "\n",
    "xpos = np.random.random(nBalls) * boxWidth\n",
    "ypos = np.random.random(nBalls) * boxHeight\n",
    "theta = 2*np.pi*np.random.random(nBalls)\n",
    "xvel = vmax * np.cos(theta)\n",
    "yvel = vmax * np.sin(theta)"
   ]
  },
  {
   "cell_type": "markdown",
   "metadata": {},
   "source": [
    "#### Exercise 1\n",
    "\n",
    "Using the code above, write a program to plot the positions of these points within a set of axes:\n",
    "\n",
    " * Use plt.subplots() to obtain figure and axes objects\n",
    " * set the limits and aspect ratio of the plot using the variables defined above\n",
    " * plot the positions of the points as red, filled circles"
   ]
  },
  {
   "cell_type": "code",
   "execution_count": null,
   "metadata": {},
   "outputs": [],
   "source": []
  },
  {
   "cell_type": "markdown",
   "metadata": {},
   "source": [
    "We can now animate this system by following the balls' trajectories along straight lines. \n",
    "\n",
    "Taking our time-step as $\\Delta t = 0.1$, the update to the balls' positions is\n",
    "\n",
    "    xpos += xvel*dt\n",
    "    ypos += yvel*dt\n",
    " \n",
    "#### Exercise 2\n",
    "\n",
    "Define a function called advance which, given xpos, ypos, xvel, yvel, and dt, updates the positions of the particles. Then use it to advance the positions of the particles by one step"
   ]
  },
  {
   "cell_type": "code",
   "execution_count": null,
   "metadata": {},
   "outputs": [],
   "source": []
  },
  {
   "cell_type": "markdown",
   "metadata": {},
   "source": [
    "#### Exercise 3\n",
    "\n",
    "Modify your function to take an additional argument, time, and advance time by dt as well as the positions.\n",
    "Have the function then return this new value of time (remember, it is a scalar variable -- we need to return it to\n",
    "get the new value).\n",
    "\n",
    "Using this new definition, and using the random-walk examples above as templates, write a code to evolve the balls from time=0 to time=1. While you need to animate the balls, you don't need to write the time at the top of the plot.\n",
    "\n",
    "Copy all of the code you need to make the answer stand-alone, i.e., to not depend upon previous cells for its function.\n"
   ]
  },
  {
   "cell_type": "code",
   "execution_count": null,
   "metadata": {},
   "outputs": [],
   "source": []
  },
  {
   "cell_type": "markdown",
   "metadata": {},
   "source": [
    "#### Exercise 4\n",
    "\n",
    "Most of your balls will have moved out of the box by the end of your simulation.\n",
    "\n",
    "Let's add some boundary conditions to our box. Specifically, let's make the balls bounce off of the sides of the box.\n",
    "\n",
    "To do so, we will modify our advance function:\n",
    "  * advance the x and y positions as before\n",
    "  * then check to see if a position is outside the box:  \n",
    "      if x<0 or x>boxWidth, then multiply the x velocity of that ball by by -1   \n",
    "      if y<0 or y>boxWidth, then multiple the y velocity of that ball by -1\n",
    "      \n",
    "You can apply the boundary conditions by writing a `for` loop to check each particle in turn, or you\n",
    "can do it all in two lines using `numpy`. We recommend `numpy` since, in an animation, your code needs to run as fast as it can to keep up with the display.\n",
    "\n",
    "Hint: \n",
    "  * we can modify only some elements in a numpy array using a conditional expression as an index. If we have two arrays\n",
    "a and b of the same length, we can write expressions like\n",
    "\n",
    "    a[ b>0 ] *= -1\n",
    "    \n",
    " Remember, to use more complex conditional expressions in numpy, you can use the logical operators `&` (and) and `|` (or),\n",
    "but the expressions to either side of these operators must be included within parentheses.\n",
    "            \n",
    "Again, copy everything from the previous code cell to this cell to form a stand-alone cell.\n",
    "\n",
    "Once you have things working, you might wish to set the maximum time to a larger value to better follow the evolution of the balls"
   ]
  },
  {
   "cell_type": "code",
   "execution_count": null,
   "metadata": {},
   "outputs": [],
   "source": []
  },
  {
   "cell_type": "markdown",
   "metadata": {},
   "source": [
    "#### Exercise 5\n",
    "\n",
    "We can make things a bit more interesting by making the dynamics more complicated.\n",
    "\n",
    "Try adding gravity to your simulation. The update to the y components of x and xv becomes\n",
    "\n",
    "    y += yv*dt + 0.5*g*dt**2\n",
    "    yv += g*dt\n",
    "    \n",
    "Let g=-0.5, and modify your advance function to take this acceleration into account"
   ]
  },
  {
   "cell_type": "code",
   "execution_count": null,
   "metadata": {},
   "outputs": [],
   "source": []
  },
  {
   "cell_type": "markdown",
   "metadata": {},
   "source": [
    "#### Exercise 6\n",
    "\n",
    "Finally, let's try modifying our boundary conditions. Instead of using reflecting boundary conditions, we will use\n",
    "*periodic* boundary conditions in the x direction.\n",
    "\n",
    "Under periodic boundary conditions in x, a ball which passes a wall to the left or right appears immediately at the opposite wall. The x velocity remains unchanged, but the width of the box is added or subtracted from x as appropriate."
   ]
  },
  {
   "cell_type": "code",
   "execution_count": null,
   "metadata": {},
   "outputs": [],
   "source": []
  },
  {
   "cell_type": "markdown",
   "metadata": {},
   "source": [
    "The obvious next step is to modify this code so that the balls collide with themselves. This is harder than it might seem at first, but not that hard. In fact, with this modification your code becomes a simple version of a *molecular dynamics* simulation. We will discuss an example of this in class."
   ]
  }
 ],
 "metadata": {
  "kernelspec": {
   "display_name": "Python 3",
   "language": "python",
   "name": "python3"
  },
  "language_info": {
   "codemirror_mode": {
    "name": "ipython",
    "version": 3
   },
   "file_extension": ".py",
   "mimetype": "text/x-python",
   "name": "python",
   "nbconvert_exporter": "python",
   "pygments_lexer": "ipython3",
   "version": "3.6.5"
  }
 },
 "nbformat": 4,
 "nbformat_minor": 2
}
