{
 "cells": [
  {
   "cell_type": "markdown",
   "metadata": {},
   "source": [
    "# DO THIS :  \n",
    "\n",
    "### *** Names: [Insert Your Names Here;      Optional: indicate preferred pronouns]***\n",
    "\n",
    "# AND IN THE FILENAME"
   ]
  },
  {
   "cell_type": "markdown",
   "metadata": {},
   "source": [
    "##### Problem Set 13             \n",
    "## PHYS 105A   Spring 2019\n",
    "\n",
    "## Contents\n",
    "\n",
    "More recursion, matplotlib, and fractals.\n",
    "\n",
    "** There are 6 exercises that must be completed. **"
   ]
  },
  {
   "cell_type": "code",
   "execution_count": 1,
   "metadata": {},
   "outputs": [],
   "source": [
    "%matplotlib inline\n",
    "\n",
    "import numpy as np\n",
    "import matplotlib.pyplot as plt"
   ]
  },
  {
   "cell_type": "markdown",
   "metadata": {},
   "source": [
    "In all of today's problem set, we will be representing points as numpy arrays of length 2\n",
    "\n",
    "Here is a unit vector pointing in the y direction"
   ]
  },
  {
   "cell_type": "code",
   "execution_count": 2,
   "metadata": {},
   "outputs": [],
   "source": [
    "pt = np.array([0,1])"
   ]
  },
  {
   "cell_type": "markdown",
   "metadata": {},
   "source": [
    "We will need to rotate these vectors by some angle, so we need to create a function which does this. To rotate a vector\n",
    "$v = (x,y)$ by angle $\\theta$ about the origin, the components of the rotated vector $v' = (x',y')$ are\n",
    "\n",
    "$$\n",
    "\\begin{split}\n",
    "x' &= x \\cos{\\theta}- y \\sin{\\theta}\\\\\n",
    "y' &= x \\sin{\\theta}+ y \\cos{\\theta}\n",
    "\\end{split}\n",
    "$$\n",
    "\n",
    "\n",
    "We will use the 2D *rotation matrix* to express this as a matrix multiplication. The rotation matrix is\n",
    "\n",
    "$$ \n",
    "R(\\theta) = \\left[ \\begin{array}[ll] d\n",
    "\\cos{\\theta} & -\\sin{\\theta} \\\\\n",
    "\\sin{\\theta} & \\cos{\\theta}\n",
    "\\end{array} \\right]\n",
    "$$\n",
    "\n",
    "With $R(\\theta)$, the rotation operation becomes\n",
    "\n",
    "$$ v' = R(\\theta) v $$\n",
    "\n",
    "In `numpy`, matrix multiplication is done with the dot() function, so our rotate function becomes"
   ]
  },
  {
   "cell_type": "code",
   "execution_count": 3,
   "metadata": {},
   "outputs": [],
   "source": [
    "def rotate(vector, theta):\n",
    "    \"\"\"\n",
    "    rotate point vector by theta about the origin\n",
    "    \"\"\"\n",
    "    R = np.array([[np.cos(theta), -np.sin(theta)],[np.sin(theta), np.cos(theta)]])\n",
    "    return np.dot(R, vector)"
   ]
  },
  {
   "cell_type": "markdown",
   "metadata": {},
   "source": [
    "Let's try rotating the point above by 90 degrees clockwise. All angles in Python are in radians, so we need to use\n",
    "$\\theta = -\\pi/2$"
   ]
  },
  {
   "cell_type": "code",
   "execution_count": 4,
   "metadata": {},
   "outputs": [
    {
     "data": {
      "text/plain": [
       "array([1.000000e+00, 6.123234e-17])"
      ]
     },
     "execution_count": 4,
     "metadata": {},
     "output_type": "execute_result"
    }
   ],
   "source": [
    "rotate(pt, -np.pi/2)"
   ]
  },
  {
   "cell_type": "markdown",
   "metadata": {},
   "source": [
    "Just as we expected, we get a unit vector pointing in the x-direction."
   ]
  },
  {
   "cell_type": "markdown",
   "metadata": {},
   "source": [
    "#### Exercise 1\n",
    "\n",
    "Using the rotate function, make a plot which places a dot at the positions of the numbers on a clock face (no numbers, just a dot will do).\n",
    "\n",
    "To do so:\n",
    "* create a unit vector pointing up.\n",
    "* create a figure and axes with  \n",
    "\n",
    "      fig, ax = plt.subplots()\n",
    "      ax.set_aspect(1)\n",
    "\n",
    "  (the set_aspect(1) keeps the plot square so your points will look as if they are in a circle)\n",
    "* in a for loop, keep rotating the vector by 1/12 of a full circle and ploting a dot at the coordinates of the rotated vector"
   ]
  },
  {
   "cell_type": "code",
   "execution_count": null,
   "metadata": {},
   "outputs": [],
   "source": []
  },
  {
   "cell_type": "markdown",
   "metadata": {},
   "source": [
    "In most of the plotting we will do today, we will be creating a *path* -- a list of points -- and then plotting the curve represented by that path. Our list of points will be a Python list whose elements are numpy arrays of length 2. For example, we can explicitly write such a path consisting of three points as\n",
    "\n",
    "    path = [ np.array([ 0, 0]), np.array([ 1, 1]), np.array([ 2, 0]) ]\n",
    "    \n",
    "We can then plot the path using a simple function like:"
   ]
  },
  {
   "cell_type": "code",
   "execution_count": null,
   "metadata": {},
   "outputs": [],
   "source": [
    "def plotPath(path, c):\n",
    "    x = []\n",
    "    y = []\n",
    "    for i in range(len(path)):\n",
    "        x.append(path[i][0])\n",
    "        y.append(path[i][1])\n",
    "    ax.plot(x,y, color=c)\n",
    "    \n",
    "fig, ax = plt.subplots(figsize=(8,8))\n",
    "\n",
    "p = [ np.array([ 0, 0]), np.array([ 1, 1]), np.array([ 2, 0]) ]\n",
    "\n",
    "plotPath(p, 'g')"
   ]
  },
  {
   "cell_type": "markdown",
   "metadata": {},
   "source": [
    "Note that while our path had three points, it didn't plot a triangle since the path was not *closed*. To close it,\n",
    "we need to add a point at the end equal to the first point in the path:"
   ]
  },
  {
   "cell_type": "code",
   "execution_count": null,
   "metadata": {},
   "outputs": [],
   "source": [
    "fig, ax = plt.subplots(figsize=(8,8))\n",
    "\n",
    "p.append(p[0])\n",
    "plotPath(p, 'r')"
   ]
  },
  {
   "cell_type": "markdown",
   "metadata": {},
   "source": [
    "#### Exercise 2\n",
    "\n",
    "Following on from the clock exercise above, create a funtion called polygon($n$) which creates a path describing a closed polygon with $n$ vertices, of unit radius.\n",
    "\n",
    "Use your polygon function to create a path with 7 vertices, and then use the plotPath function to plot it. Don't forget to make a new fig,ax pair and ax.set_aspect(1)\n",
    "\n",
    "Hint: The easiest way to create a closed path is to iterate one extra time so that the unit vector rotates back to the beginning position."
   ]
  },
  {
   "cell_type": "code",
   "execution_count": null,
   "metadata": {},
   "outputs": [],
   "source": []
  },
  {
   "cell_type": "markdown",
   "metadata": {},
   "source": [
    "Armed with this plotting technology, we can write some code to make a fractal known as the Koch Snowflake. This is one of a class of fractals which are produced by recursively replacing each segment of a path with a more complex path.\n",
    "\n",
    "Here is a function which illustrates how this might be done. The function takes a path of length 2 -- a line -- and returns a path consisting of 4 points:\n",
    "* the original starting point\n",
    "* a point 1/3 along, in the direction of the original segment\n",
    "* a point 1/3 along, rotated by 60 degrees w/r to the original direction\n",
    "* a point 1/3 along, rotated by -60 degrees w/r to the original direction\n"
   ]
  },
  {
   "cell_type": "code",
   "execution_count": null,
   "metadata": {},
   "outputs": [],
   "source": [
    "def replaceSegment(segment):\n",
    "    \"\"\"\n",
    "    Given two points forming a line segment, replace them with four points\n",
    "    \"\"\"\n",
    "\n",
    "    angle = 60 * np.pi/180\n",
    "    dl = segment[1]-segment[0]\n",
    "    ratio = 1/3 \n",
    "\n",
    "    p0 =  segment[0]                     # first point is the same\n",
    "    p1 =  p0 + ratio*dl                  # second point is 1/3 of the way in the original direction\n",
    "    p2 =  p1 + ratio*rotate(dl, -angle)  # third point is rotated outward by 60 degrees\n",
    "    p3 =  p2 + ratio*rotate(dl,  angle)  # fourth point is rotated inward by 60 degrees (120 from previous)\n",
    "                                         # last point is first point of next segment, so we don't need to\n",
    "                                         # add it here\n",
    "    return  [p0,p1,p2,p3]"
   ]
  },
  {
   "cell_type": "markdown",
   "metadata": {},
   "source": [
    "Let's try this out on a simple unit vector in the x-direction"
   ]
  },
  {
   "cell_type": "code",
   "execution_count": null,
   "metadata": {},
   "outputs": [],
   "source": [
    "path = [ np.array([0,0]), np.array([1,0]) ]\n",
    "newpath = replaceSegment(path)\n",
    "\n",
    "\n",
    "fig, ax = plt.subplots(figsize=(8,8))\n",
    "ax.set_aspect(1)\n",
    "plotPath(path, 'r')\n",
    "plotPath(newpath, 'g')\n"
   ]
  },
  {
   "cell_type": "markdown",
   "metadata": {},
   "source": [
    "We didn't add the end point to the path, since if the path contained more segments, the first point of the next segment is the last point of the previous segment. Thus, let's make a closed triangle path and try out our function"
   ]
  },
  {
   "cell_type": "code",
   "execution_count": null,
   "metadata": {},
   "outputs": [],
   "source": [
    "path = polygon(3)\n",
    "\n",
    "newpath = []\n",
    "for i in range(len(path)-1):                      # there are \n",
    "    newpath += replaceSegment(path[i:i+2])\n",
    "newpath.append(path[0])                           # close the path\n",
    "    \n",
    "fig, ax = plt.subplots(figsize=(8,8))\n",
    "ax.set_aspect(1)\n",
    "plotPath(path,'r')\n",
    "plotPath(newpath,'b')"
   ]
  },
  {
   "cell_type": "markdown",
   "metadata": {},
   "source": [
    "We can make our path-replacement code into a function which applies the replaceSegment function to all segments of a path\n",
    "given as an argument:"
   ]
  },
  {
   "cell_type": "code",
   "execution_count": null,
   "metadata": {},
   "outputs": [],
   "source": [
    "def replacePath(path):\n",
    "    newpath = []\n",
    "    for i in range(len(path)-1):                      # there are \n",
    "        newpath += replaceSegment(path[i:i+2])\n",
    "    newpath.append(path[0])                           # close the path\n",
    "    return newpath\n",
    "\n",
    "fig, ax = plt.subplots(figsize=(8,8))\n",
    "ax.set_aspect(1)\n",
    "\n",
    "path = polygon(3)\n",
    "plotPath(path,'r')\n",
    "\n",
    "newpath = replacePath(path)\n",
    "plotPath(newpath,'b')"
   ]
  },
  {
   "cell_type": "markdown",
   "metadata": {},
   "source": [
    "#### Exercise 3\n",
    "\n",
    "Try applying replacePath three times to our original path, and plot the result"
   ]
  },
  {
   "cell_type": "code",
   "execution_count": null,
   "metadata": {},
   "outputs": [],
   "source": []
  },
  {
   "cell_type": "markdown",
   "metadata": {},
   "source": [
    "Had you applied replacePath an infinite number of times, you would have created the fractal curve known as a Koch snowflake. Each application of the path replacement multiplies the number of sides by 4 and divides the length of the sides by 3, so the total perimiter length after $n$ applications is\n",
    "\n",
    "$$ P_n = 3 \\left(\\frac{4}{3}\\right)^n $$\n",
    "\n",
    "We have an example of an closed curve with infinitely long perimiter enclosing a finite area!"
   ]
  },
  {
   "cell_type": "markdown",
   "metadata": {},
   "source": [
    "#### Exercise 4\n",
    "\n",
    "Write a recursive function to create an approximation to a Koch snowflake. Your function should take an original path as an argument (our triangle of unit side) and the number of applications $n$ to perform, and return a new path containing the snowflake path after $n$ iterations.\n",
    "\n",
    "Note: You will need a base case to keep from recursing infinitely many times! You can stop the recursion after $n$ iterations with the following idea:\n",
    "\n",
    "    def recurse(n, ...):  # ... means other arguments!\n",
    "        if n == 0:\n",
    "            return\n",
    "            \n",
    "        recurse(n-1, ...)\n",
    "        \n",
    "You call recurse the first time with the number of iterations. Every time the function calls itself, it decrements its argument, and when it is called with n=0, the recursion stops.\n",
    "\n",
    "Try using $n=5$ and plot the resulting path."
   ]
  },
  {
   "cell_type": "code",
   "execution_count": null,
   "metadata": {},
   "outputs": [],
   "source": []
  },
  {
   "cell_type": "markdown",
   "metadata": {},
   "source": [
    "Let's try another fractal geometric construction, the Sierpinski Gasket. This starts with a triangle, and then subtracts from it the inscribed triangle formed from the midpoints of the original triangles sides. The process is repeated with each of the four new triangles, and so on.\n",
    "\n",
    "We'll have to draw a lot of triangles. If we draw them as closed paths, there will be a lot of closed paths to draw, and matplotlib slows down considerably when there are a lot of individual plot objects in the plot.\n",
    "\n",
    "This is where *patches* come in. They are a more-efficient way of drawing closed curves, especially useful when drawing large numbers of such curves.\n",
    "\n",
    "To see how this works, lets write a function to add a triangle to a list of patches. \n",
    "\n",
    "* First we'll need to import the collections module from matplotlib.\n",
    "* Next we define out addTriangle function which takes a 3-point path describing a triangle. The Polygon patch will close the path for us. The function stores patch and color information in a list-of-lists.\n",
    "* The we'll create a bunch of random 3-point paths and add them to our patch list.\n",
    "* we can then give our list to matplotlib's PatchCollection function, and add the object it returns to our axes.\n",
    "* Calling ax.autoscale() at the end will set the plot limits automagically.\n"
   ]
  },
  {
   "cell_type": "code",
   "execution_count": null,
   "metadata": {},
   "outputs": [],
   "source": [
    "from matplotlib import collections as mc\n",
    "\n",
    "def addTriangle(path, color, patches):\n",
    "    poly = plt.Polygon(path, closed=True)     # create patch & automatically close it -- only need 3 points here\n",
    "    patches[0].append(poly)               # append to list of patches\n",
    "    patches[1].append(color)              # append color to list of colors\n",
    "\n",
    "def plotPatches(patches):\n",
    "    c = mc.PatchCollection(patches[0], facecolors=patches[1], edgecolors='k', linewidths=0.5)\n",
    "    ax.add_collection(c)\n",
    "\n",
    "    \n",
    "patches = [ [], [] ]            # empty 2D list\n",
    "colors = ['m','y','c','orange','g','r','b']\n",
    "\n",
    "for i in range(10):\n",
    "    path = [ np.random.random(2), np.random.random(2), np.random.random(2) ] # create a random triangle\n",
    "    addTriangle(path,colors[i%7],patches)\n",
    "    \n",
    "fig, ax = plt.subplots(figsize=(8,8))\n",
    "plotPatches(patches)\n",
    "\n",
    "ax.autoscale()"
   ]
  },
  {
   "cell_type": "markdown",
   "metadata": {},
   "source": [
    "On to the Gasket! The basic iteration step is to take a triangle, expressed as a path with 3 points,\n",
    "draw it, and then make three new triangles, and draw them. The new triangles each have one of the original points and the two nearest midpoints as vertices:"
   ]
  },
  {
   "cell_type": "code",
   "execution_count": null,
   "metadata": {},
   "outputs": [],
   "source": [
    "path = polygon(3)             # original triangle\n",
    "\n",
    "patches = [ [], [] ]\n",
    "addTriangle(path, 'b', patches)\n",
    "\n",
    "m01 = 0.5*(path[0]+path[1])   # make midpoints of edges\n",
    "m02 = 0.5*(path[0]+path[2])\n",
    "m12 = 0.5*(path[1]+path[2])\n",
    "\n",
    "newtriangle = [ path[0], m01, m02 ]     # first new triangle\n",
    "addTriangle(newtriangle, 'g', patches)\n",
    "\n",
    "newtriangle = [ path[1], m01, m12 ]     # second new triangle\n",
    "addTriangle(newtriangle, 'g', patches)\n",
    "\n",
    "newtriangle = [ path[2], m02, m12 ]     # third new triangle\n",
    "addTriangle(newtriangle, 'g', patches)\n",
    "\n",
    "fig, ax = plt.subplots(figsize=(8,8))\n",
    "plotPatches(patches)\n",
    "\n",
    "ax.autoscale()"
   ]
  },
  {
   "cell_type": "markdown",
   "metadata": {},
   "source": [
    "#### Exercise 5\n",
    "\n",
    "We now know enough to write a recursive Sierpinski Gasket funtion:\n",
    "\n",
    "* Your function should take as arguments the desired number of iterations, the initial isosceles triangle, and an empty patches 2D list.\n",
    "* The function should first add the triangle (given as an argument) to the patches list, just as in the code above.\n",
    "* Then, if n==0, the function should just return.\n",
    "* Otherwise, you make the 3 triangles, and instead of adding them to the patch list, you recusively call your function\n",
    "  with n-1, the new triangle, and the patch list as arguments.\n",
    "  \n",
    "You can color the triangles using the iteration number $n$ as in the random triangle example above. Don't forget to use\n",
    "\n",
    "    c = colors[n%7]\n",
    "    \n",
    "so you don't run off the end of the list for large $n$."
   ]
  },
  {
   "cell_type": "code",
   "execution_count": null,
   "metadata": {},
   "outputs": [],
   "source": []
  },
  {
   "cell_type": "markdown",
   "metadata": {},
   "source": [
    "The gasket is made by recursive cutting out smaller and smaller parts of the original triangle, colored purple if you use the same color list defined above. The result is a construction which seems to fill the original triangle, but has zero area! Every iteration, the area is $3/4$ the previous remaining area. After an infinite number of recursions, there is nothing left."
   ]
  },
  {
   "cell_type": "markdown",
   "metadata": {},
   "source": [
    "One can make a Sierpinski gasket another way, by recursive drawing tridents.\n",
    "\n",
    "Here is a bit of code which implements this method. Instead of working on triangles, it works on a list of line segments.\n",
    "At each iteration, three lines are added at the end of each line, one heading to the left by 120 degrees, one straight ahead, and one to the right by 120 degrees, all of half the previous line's length."
   ]
  },
  {
   "cell_type": "code",
   "execution_count": null,
   "metadata": {},
   "outputs": [],
   "source": [
    "def recurse(n, linelist, a):\n",
    "    \"\"\"\n",
    "    For each line in linelist, add 3 more lines half the length at angles -a,0,a\n",
    "    \"\"\"\n",
    "\n",
    "    shrink = 0.5             # decrease in line length per iteration\n",
    "    angles = [-a, 0, a]      # angles of the new lines, relative to current line\n",
    "\n",
    "    if n == 0:\n",
    "        return linelist\n",
    "\n",
    "    newlines = []\n",
    "    for line in linelist:\n",
    "        p0 = line[0]         # starting point of original line segment\n",
    "        p1 = line[1]         # ending point of original line segment\n",
    "        segment = p1-p0\n",
    "        for j in range(3):\n",
    "            newlines.append([ p1, p1 + shrink*rotate(segment, angles[j]) ])\n",
    "\n",
    "    result = recurse(n-1, newlines, a)\n",
    "    return linelist + result\n",
    "\n",
    "angle = 120 * np.pi/180\n",
    "linelist = []\n",
    "for i in range(-1,2):\n",
    "    linelist.append([np.zeros(2),rotate(np.array([0,1]),i*angle)])\n",
    "\n",
    "linelist = recurse(8, linelist, angle)\n",
    "\n",
    "fig, ax = plt.subplots(figsize=(8,8))\n",
    "ax.set_aspect(1)\n",
    "ax.axis('off')\n",
    "\n",
    "lc = mc.LineCollection(linelist, colors='k', linewidths=1)\n",
    "ax.add_collection(lc)\n",
    "ax.autoscale()"
   ]
  },
  {
   "cell_type": "markdown",
   "metadata": {},
   "source": [
    "#### Exercise 6\n",
    "\n",
    "It is interesting to observe what happens when one changes the parameters of the recursion. These are the angle and the factor by which the length of the additional lines shrink.\n",
    "\n",
    "Copy all of the code in the example above to the following cell.  Decrease the angle to 20 degrees and increase the shrink factor to 0.75 This is the basis for the way many plants are made, as algorithms, for scenes in computer graphics (in the movie *Avatar*, for example).\n",
    "\n",
    "You can take one step to making a (slightly) more realistic-looking plant (at least in 2D!), by adding random perturbation to the angles and shrink factors which vary during the iteration. A good place to start is by\n",
    "defining a function to give a random number on $[-s,s]$\n",
    "\n",
    "    def ran(s):\n",
    "        return s*(2*np.random.random()-1)\n",
    "        \n",
    "You can then add ran(s) to all of the angles, and multiply the shrink factors (as well as the original unit vector) by (1+ran(s))\n",
    "\n",
    "By varying $s$ and the number of iterations, you can begin to see how a wide variety of botanical forms can be created. \n",
    "\n",
    "If you have time, you could also vary the thickness of the lines as a function of recursion depth. This would mean\n",
    "making linelist a 2D array as we did with the triangle patches and colors in the examples above."
   ]
  },
  {
   "cell_type": "code",
   "execution_count": null,
   "metadata": {
    "scrolled": true
   },
   "outputs": [],
   "source": []
  }
 ],
 "metadata": {
  "kernelspec": {
   "display_name": "Python 3",
   "language": "python",
   "name": "python3"
  },
  "language_info": {
   "codemirror_mode": {
    "name": "ipython",
    "version": 3
   },
   "file_extension": ".py",
   "mimetype": "text/x-python",
   "name": "python",
   "nbconvert_exporter": "python",
   "pygments_lexer": "ipython3",
   "version": "3.6.5"
  }
 },
 "nbformat": 4,
 "nbformat_minor": 2
}
