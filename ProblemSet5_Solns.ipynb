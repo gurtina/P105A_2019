{
 "cells": [
  {
   "cell_type": "markdown",
   "metadata": {},
   "source": [
    "*This Notebook utilizes exercises developed by Cindee Madison, Thomas Kluyver (Software Carpentry)*"
   ]
  },
  {
   "cell_type": "markdown",
   "metadata": {},
   "source": [
    "### ***Names: [Insert Your Names Here]***"
   ]
  },
  {
   "cell_type": "markdown",
   "metadata": {},
   "source": [
    "# Problem Set 5             \n",
    "## PHYS 105A   Spring 2019\n",
    "\n",
    "## Contents:  Fun with Lists\n",
    "\n",
    "1. Defining Lists\n",
    "2. Operations with Lists\n",
    "3. Index Slicing\n",
    "4. Modifying Lists\n",
    "5. Loops with Lists\n",
    "6. Conditionals with Lists\n",
    "7. Functions with Lists\n",
    "\n",
    "*** There are 6 exercises that you must complete.***\n"
   ]
  },
  {
   "cell_type": "markdown",
   "metadata": {
    "collapsed": true
   },
   "source": [
    "# 1. Defining Lists\n",
    "\n",
    "\n",
    "A `container` is a class or data structure whose instances are collections of other objects. In this class you will encounter containers called `Lists` and `numpy arrays`. \n",
    "\n",
    "`Lists` are the handiest and most flexible type of container. \n",
    "\n",
    "`Lists` are declared with square brackets `[  ]`"
   ]
  },
  {
   "cell_type": "code",
   "execution_count": null,
   "metadata": {
    "collapsed": true
   },
   "outputs": [],
   "source": [
    "# Lists are created with square bracket syntax\n",
    "# This example contains 3 items, each strings\n",
    "a = ['proton', 'electron', 'neutron']"
   ]
  },
  {
   "cell_type": "code",
   "execution_count": null,
   "metadata": {
    "collapsed": true
   },
   "outputs": [],
   "source": [
    "print(a, type(a))"
   ]
  },
  {
   "cell_type": "markdown",
   "metadata": {},
   "source": [
    "We know the list `a` contains three strings.  We can double check the total number of items in a `List` using the `len` function, which returns the length of the `List`."
   ]
  },
  {
   "cell_type": "code",
   "execution_count": null,
   "metadata": {
    "collapsed": true
   },
   "outputs": [],
   "source": [
    "print(len(a))"
   ]
  },
  {
   "cell_type": "markdown",
   "metadata": {},
   "source": [
    "Each item in a `List` can be selected using the syntax: \n",
    "\n",
    ">`name_of_list[index]`\n",
    "\n",
    "Here `index` refers to the location of the desired item within the `List`.  \n",
    "\n",
    "Like with the `range` function, indices start from `0` and go to `len(a) - 1`.\n",
    "\n",
    "For example, the indices of `a` are:  0, 1, 2 "
   ]
  },
  {
   "cell_type": "code",
   "execution_count": null,
   "metadata": {
    "collapsed": true
   },
   "outputs": [],
   "source": [
    "# select the first item in the list a\n",
    "print('the first item is:' a[0])"
   ]
  },
  {
   "cell_type": "code",
   "execution_count": null,
   "metadata": {
    "collapsed": true
   },
   "outputs": [],
   "source": [
    "# select the second item\n",
    "a[1]"
   ]
  },
  {
   "cell_type": "code",
   "execution_count": null,
   "metadata": {
    "collapsed": true
   },
   "outputs": [],
   "source": [
    "# select the last item.  \n",
    "\n",
    "# method 1\n",
    "a[2]  # here we know the length of the array. "
   ]
  },
  {
   "cell_type": "code",
   "execution_count": null,
   "metadata": {
    "collapsed": true
   },
   "outputs": [],
   "source": [
    "# select the last item\n",
    "\n",
    "# method 2 \n",
    "a[len(a)-1]  # we don't already know the length of the List, so we call the len function."
   ]
  },
  {
   "cell_type": "code",
   "execution_count": null,
   "metadata": {
    "collapsed": true
   },
   "outputs": [],
   "source": [
    "# select the last item\n",
    "\n",
    "# method 3 \n",
    "# Alternatively, you can also count starting from the end of the List\n",
    "print('last item is:', a[-1])\n",
    "print('second to last item is:', a[-2])"
   ]
  },
  {
   "cell_type": "code",
   "execution_count": null,
   "metadata": {
    "collapsed": true
   },
   "outputs": [],
   "source": [
    "# select an index that is larger than that of the last item and you'll get an \"index out of range\" error\n",
    "a[len(a)]"
   ]
  },
  {
   "cell_type": "code",
   "execution_count": null,
   "metadata": {
    "collapsed": true
   },
   "outputs": [],
   "source": [
    "a[100] # same problem here"
   ]
  },
  {
   "cell_type": "code",
   "execution_count": null,
   "metadata": {},
   "outputs": [],
   "source": [
    "# You can also define an **empty** list \n",
    "\n",
    "aa = []\n",
    "print(aa)"
   ]
  },
  {
   "cell_type": "markdown",
   "metadata": {},
   "source": [
    "## Exercise 1\n",
    "\n",
    "a. Ask 3 people around you for their names. Create a new `List` called `names` that contains those names as `strings`.  Print the `List`.\n"
   ]
  },
  {
   "cell_type": "code",
   "execution_count": 2,
   "metadata": {},
   "outputs": [
    {
     "name": "stdout",
     "output_type": "stream",
     "text": [
      "['sarah', 'joe', 'ryan']\n"
     ]
    }
   ],
   "source": [
    "names=['sarah','joe','ryan']\n",
    "print(names)"
   ]
  },
  {
   "cell_type": "markdown",
   "metadata": {},
   "source": [
    "b. Print the length of `names` using `len`."
   ]
  },
  {
   "cell_type": "code",
   "execution_count": 3,
   "metadata": {},
   "outputs": [
    {
     "name": "stdout",
     "output_type": "stream",
     "text": [
      "3\n"
     ]
    }
   ],
   "source": [
    "print(len(names))"
   ]
  },
  {
   "cell_type": "markdown",
   "metadata": {},
   "source": [
    "c. Print the first item of  `names`.  "
   ]
  },
  {
   "cell_type": "code",
   "execution_count": 4,
   "metadata": {},
   "outputs": [
    {
     "name": "stdout",
     "output_type": "stream",
     "text": [
      "sarah\n"
     ]
    }
   ],
   "source": [
    "print(names[0])"
   ]
  },
  {
   "cell_type": "markdown",
   "metadata": {},
   "source": [
    "d. Print the last item of `names`"
   ]
  },
  {
   "cell_type": "code",
   "execution_count": null,
   "metadata": {
    "collapsed": true
   },
   "outputs": [],
   "source": [
    "print(names[-1])"
   ]
  },
  {
   "cell_type": "markdown",
   "metadata": {},
   "source": [
    "# 2. Operations with Lists\n",
    "\n",
    "You can also do operations with items in a `List`.\n",
    "\n",
    "Let's define a new list called `days`, which contrains `strings` of the name of the days of the week. "
   ]
  },
  {
   "cell_type": "code",
   "execution_count": 6,
   "metadata": {
    "collapsed": true
   },
   "outputs": [],
   "source": [
    "# define a new list\n",
    "days = ['monday','tuesday','wednesday','thursday','friday','sunday','saturday']  # this will not print anything "
   ]
  },
  {
   "cell_type": "code",
   "execution_count": 7,
   "metadata": {},
   "outputs": [
    {
     "name": "stdout",
     "output_type": "stream",
     "text": [
      "['monday', 'tuesday', 'wednesday', 'thursday', 'friday', 'sunday', 'saturday']\n"
     ]
    }
   ],
   "source": [
    "print(days)  # unless you tell it to "
   ]
  },
  {
   "cell_type": "markdown",
   "metadata": {},
   "source": [
    "Because `days` is comprised of `strings`, we can use the `+` operator to concatenate. \n",
    "For example, we can concatenate the 1st and last item in `days`:"
   ]
  },
  {
   "cell_type": "code",
   "execution_count": 9,
   "metadata": {},
   "outputs": [
    {
     "data": {
      "text/plain": [
       "'monday saturday'"
      ]
     },
     "execution_count": 9,
     "metadata": {},
     "output_type": "execute_result"
    }
   ],
   "source": [
    "days[0] + \" \" + days[-1] # days[0] and days[-1] are strings so + will concatenate. "
   ]
  },
  {
   "cell_type": "markdown",
   "metadata": {},
   "source": [
    "Let's do that again using `f-strings`"
   ]
  },
  {
   "cell_type": "code",
   "execution_count": 10,
   "metadata": {},
   "outputs": [
    {
     "data": {
      "text/plain": [
       "'monday saturday'"
      ]
     },
     "execution_count": 10,
     "metadata": {},
     "output_type": "execute_result"
    }
   ],
   "source": [
    "f\"{days[0]} {days[-1]}\""
   ]
  },
  {
   "cell_type": "markdown",
   "metadata": {},
   "source": [
    "We can also concatenate multiple `Lists` to create a new, longer `List`:"
   ]
  },
  {
   "cell_type": "code",
   "execution_count": null,
   "metadata": {
    "collapsed": true
   },
   "outputs": [],
   "source": [
    "# define a new list of some months\n",
    "months = ['Jan', 'Feb','Mar']\n",
    "print (months)"
   ]
  },
  {
   "cell_type": "code",
   "execution_count": null,
   "metadata": {
    "collapsed": true
   },
   "outputs": [],
   "source": [
    "# you can also concatenate entire lists\n",
    "combined = days + months\n",
    "print (combined)"
   ]
  },
  {
   "cell_type": "markdown",
   "metadata": {},
   "source": [
    "You can also reassign the value of an item within a `List` by selecting the item by its index.\n",
    "\n",
    "`days[0] = 'new day'`\n",
    "\n",
    "In `days`, sunday and saturday are currently not in the right order.\n",
    "Let's assign saturday to sunday and sunday to saturday."
   ]
  },
  {
   "cell_type": "code",
   "execution_count": null,
   "metadata": {
    "collapsed": true
   },
   "outputs": [],
   "source": [
    "days[-1] = 'sunday' # assign `sunday` to the last element of the array\n",
    "days[-2] = 'saturday' # assign `saturday` to the 2nd last element of the array\n",
    "print(days)"
   ]
  },
  {
   "cell_type": "markdown",
   "metadata": {},
   "source": [
    "We will discuss a better way to do this using the method `insert` later on. "
   ]
  },
  {
   "cell_type": "markdown",
   "metadata": {},
   "source": [
    "`Lists` can also contain `integers` or `floats`. \n",
    "\n",
    "Here is a new `List` called `evens` that contains even numbers up to and including 10. "
   ]
  },
  {
   "cell_type": "code",
   "execution_count": 11,
   "metadata": {},
   "outputs": [
    {
     "name": "stdout",
     "output_type": "stream",
     "text": [
      "[2, 4, 6, 8, 10]\n"
     ]
    }
   ],
   "source": [
    "evens = [2,4,6,8,10]\n",
    "print(evens)"
   ]
  },
  {
   "cell_type": "code",
   "execution_count": 14,
   "metadata": {},
   "outputs": [
    {
     "data": {
      "text/plain": [
       "12"
      ]
     },
     "execution_count": 14,
     "metadata": {},
     "output_type": "execute_result"
    }
   ],
   "source": [
    "evens[0] + evens[-1]  # the `+` operator now means addition"
   ]
  },
  {
   "cell_type": "code",
   "execution_count": 15,
   "metadata": {},
   "outputs": [
    {
     "data": {
      "text/plain": [
       "16"
      ]
     },
     "execution_count": 15,
     "metadata": {},
     "output_type": "execute_result"
    }
   ],
   "source": [
    "evens[0]*evens[-2]  # * means multiplication"
   ]
  },
  {
   "cell_type": "markdown",
   "metadata": {},
   "source": [
    "## Exercise 2\n",
    "a) Define a `List` called `hair` that contains the hair color of the same 3 people you used in the `List` `names`. \n",
    "\n",
    "Define a new `List` called, `names_hair`, that is the concatenation of the `hair` and `names` `Lists`.\n",
    "\n",
    "Print `names_hair`"
   ]
  },
  {
   "cell_type": "code",
   "execution_count": null,
   "metadata": {
    "collapsed": true
   },
   "outputs": [],
   "source": [
    "hair = ['red','orange','black']\n",
    "names_hair = names+hair\n",
    "print(names_hair)"
   ]
  },
  {
   "cell_type": "markdown",
   "metadata": {},
   "source": [
    "b) In the code cell below is a `List` called `odds`:\n",
    "   \n",
    "   - Print odds\n",
    "   - Re-assign the 1st item to 10 times its current value\n",
    "   - Re-assign the 4th item to 5 times its current value\n",
    "   - Print odds\n",
    "  \n",
    "  \n",
    "  If you make a mistake re-initialize `odds` by pressing shit+enter in the code cell below. "
   ]
  },
  {
   "cell_type": "code",
   "execution_count": 50,
   "metadata": {},
   "outputs": [],
   "source": [
    "odds = [1,3,5,7,9]"
   ]
  },
  {
   "cell_type": "code",
   "execution_count": 51,
   "metadata": {},
   "outputs": [],
   "source": [
    "odds[0] = odds[0]*10\n",
    "odds[3] = odds[3]*5"
   ]
  },
  {
   "cell_type": "code",
   "execution_count": 52,
   "metadata": {},
   "outputs": [
    {
     "name": "stdout",
     "output_type": "stream",
     "text": [
      "[10, 3, 5, 35, 9]\n"
     ]
    }
   ],
   "source": [
    "print(odds)"
   ]
  },
  {
   "cell_type": "markdown",
   "metadata": {},
   "source": [
    "__TIP:__ A 'gotcha' for some new Python users is that many containers, including lists,\n",
    "actually store pointers to data, not the data itself. "
   ]
  },
  {
   "cell_type": "code",
   "execution_count": null,
   "metadata": {
    "collapsed": true
   },
   "outputs": [],
   "source": [
    "a = 1\n",
    "b = a\n",
    "a = 2\n",
    "## What is b?\n",
    "print('What is b?', b)"
   ]
  },
  {
   "cell_type": "code",
   "execution_count": null,
   "metadata": {
    "collapsed": true
   },
   "outputs": [],
   "source": [
    "a = [1, 2, 3]\n",
    "b = a\n",
    "print('original b', b)\n",
    "a[0] = 42\n",
    "print('What is b after we change a ?', b)"
   ]
  },
  {
   "cell_type": "markdown",
   "metadata": {},
   "source": [
    "# 3.  Index Slicing\n",
    "\n",
    "You can access multiple items from a subset of a given `List` by `slicing`. This is denoted by using a colon between the two desired indices.\n",
    "NOTE: The end value is not inclusive.\n",
    "\n",
    "For example, if I want to select the 1st through 3rd element of a `List`, I'd write:\n",
    "\n",
    "    name_of_list[1:4]\n",
    "\n",
    " \n"
   ]
  },
  {
   "cell_type": "code",
   "execution_count": 34,
   "metadata": {
    "collapsed": true
   },
   "outputs": [],
   "source": [
    "# Here is a new List, containing strings of the names of 5 Arizonan animals \n",
    "animals = ['javelina','coyote','rattlesnake','tarantula','scorpion']"
   ]
  },
  {
   "cell_type": "code",
   "execution_count": null,
   "metadata": {
    "collapsed": true
   },
   "outputs": [],
   "source": [
    "# print the List to the screen\n",
    "print('animals =', animals)"
   ]
  },
  {
   "cell_type": "code",
   "execution_count": null,
   "metadata": {
    "collapsed": true
   },
   "outputs": [],
   "source": [
    "# print a subset of the List\n",
    "print('get the deadly ones:', animals[2:5])"
   ]
  },
  {
   "cell_type": "code",
   "execution_count": null,
   "metadata": {},
   "outputs": [],
   "source": [
    "# print two different subsets of the List\n",
    "print('get the ones with legs:', animals[0:2] + animals[3:5]) # here we concatenated 2 lists"
   ]
  },
  {
   "cell_type": "markdown",
   "metadata": {},
   "source": [
    "## Exercise 3\n",
    "\n",
    "Try out each of the below.\n",
    "Add comments (#) that explain what indices were selected."
   ]
  },
  {
   "cell_type": "code",
   "execution_count": null,
   "metadata": {
    "collapsed": true
   },
   "outputs": [],
   "source": [
    "print(animals[:2])"
   ]
  },
  {
   "cell_type": "code",
   "execution_count": null,
   "metadata": {
    "collapsed": true
   },
   "outputs": [],
   "source": [
    "print(animals[2:])"
   ]
  },
  {
   "cell_type": "code",
   "execution_count": 35,
   "metadata": {},
   "outputs": [
    {
     "name": "stdout",
     "output_type": "stream",
     "text": [
      "['javelina', 'coyote', 'rattlesnake', 'tarantula', 'scorpion']\n"
     ]
    }
   ],
   "source": [
    "print(animals[:])"
   ]
  },
  {
   "cell_type": "code",
   "execution_count": null,
   "metadata": {
    "collapsed": true
   },
   "outputs": [],
   "source": [
    "print(animals[:-1])"
   ]
  },
  {
   "cell_type": "markdown",
   "metadata": {},
   "source": [
    "# 4. Modifying Lists\n",
    "\n",
    "Once you've created a `List` you can add additional values to the end of the `List` -- this is called `appending`.\n",
    "\n",
    "`Lists` are objects that have `methods` like `append` that can be utilized with the following syntax:\n",
    "\n",
    "    name_of_list.append(<argument to add>)\n",
    "    \n",
    "\n",
    "Below we define a `List` of `strings` with the names of 3 cactii."
   ]
  },
  {
   "cell_type": "code",
   "execution_count": 36,
   "metadata": {},
   "outputs": [
    {
     "name": "stdout",
     "output_type": "stream",
     "text": [
      "['ocatillo', 'prickly pear', 'barrel']\n"
     ]
    }
   ],
   "source": [
    "cactii = ['ocatillo','prickly pear','barrel']\n",
    "print(cactii)"
   ]
  },
  {
   "cell_type": "code",
   "execution_count": 37,
   "metadata": {},
   "outputs": [
    {
     "name": "stdout",
     "output_type": "stream",
     "text": [
      "['ocatillo', 'prickly pear', 'barrel', 'cholla']\n"
     ]
    }
   ],
   "source": [
    "# Let's use the append method to add a new cactus to the end of the list\n",
    "\n",
    "cactii.append('cholla')\n",
    "print(cactii)"
   ]
  },
  {
   "cell_type": "code",
   "execution_count": 38,
   "metadata": {},
   "outputs": [
    {
     "name": "stdout",
     "output_type": "stream",
     "text": [
      "['ocatillo', 'prickly pear', 'barrel', 'cholla', 'saguaro']\n"
     ]
    }
   ],
   "source": [
    "# Let's add another\n",
    "\n",
    "cactii.append('saguaro')\n",
    "print(cactii)"
   ]
  },
  {
   "cell_type": "code",
   "execution_count": 39,
   "metadata": {},
   "outputs": [
    {
     "name": "stdout",
     "output_type": "stream",
     "text": [
      "['ocatillo', 'prickly pear', 'barrel', 'cholla', 'saguaro', [1, 2]]\n"
     ]
    }
   ],
   "source": [
    "# you can even append Lists to a new Lists, even if the new items are not also strings. \n",
    "cactii.append([1,2])\n",
    "print(cactii)"
   ]
  },
  {
   "cell_type": "markdown",
   "metadata": {},
   "source": [
    "If you want to get rid of that last item added to a `List` you can use the method `pop`,\n",
    "which removes and returns the last item from the `List` **or the item at a given index value**. \n"
   ]
  },
  {
   "cell_type": "code",
   "execution_count": 40,
   "metadata": {},
   "outputs": [
    {
     "name": "stdout",
     "output_type": "stream",
     "text": [
      "['ocatillo', 'prickly pear', 'barrel', 'cholla', 'saguaro']\n"
     ]
    }
   ],
   "source": [
    "# Let's get rid of the most recently added item to the list\n",
    "cactii.pop()\n",
    "print(cactii) # check that it is gone.  We should only have cactii names"
   ]
  },
  {
   "cell_type": "code",
   "execution_count": 41,
   "metadata": {},
   "outputs": [
    {
     "data": {
      "text/plain": [
       "'barrel'"
      ]
     },
     "execution_count": 41,
     "metadata": {},
     "output_type": "execute_result"
    }
   ],
   "source": [
    "# Now let's remove the 3rd item in the list: \n",
    "cactii.pop(2)"
   ]
  },
  {
   "cell_type": "code",
   "execution_count": 42,
   "metadata": {},
   "outputs": [
    {
     "name": "stdout",
     "output_type": "stream",
     "text": [
      "['ocatillo', 'prickly pear', 'cholla', 'saguaro']\n"
     ]
    }
   ],
   "source": [
    "print(cactii) # check that it is gone. "
   ]
  },
  {
   "cell_type": "markdown",
   "metadata": {},
   "source": [
    "Alternatively, you can remove an item with a known value from a `List` using the method `remove`"
   ]
  },
  {
   "cell_type": "code",
   "execution_count": null,
   "metadata": {
    "collapsed": true
   },
   "outputs": [],
   "source": [
    "cactii.remove('ocatillo')\n",
    "print(cactii)"
   ]
  },
  {
   "cell_type": "markdown",
   "metadata": {},
   "source": [
    "You can also add an item to a `List` at a specified index using the method `insert`. \n",
    "Syntax:\n",
    "\n",
    "`name_of_list.insert(index, <value to be inserted>)`"
   ]
  },
  {
   "cell_type": "code",
   "execution_count": null,
   "metadata": {
    "collapsed": true
   },
   "outputs": [],
   "source": [
    "# let's insert back the cactii that we removed or `popped` from the list\n",
    "cactii.insert(1,'barrel')\n",
    "print(cactii)"
   ]
  },
  {
   "cell_type": "code",
   "execution_count": null,
   "metadata": {
    "collapsed": true
   },
   "outputs": [],
   "source": [
    "cactii.insert(0,'ocatillo')\n",
    "print(cactii)"
   ]
  },
  {
   "cell_type": "markdown",
   "metadata": {},
   "source": [
    "# Exercise 4\n",
    "\n",
    "In Exercise 2 you created a `List` called `names_hair` by concatenating two `Lists`: `names` and `hair`. But that just stuck `hair` at the end of `names`. \n",
    "\n",
    "Instead, create a new list called `names_hair2` which is a `List` containing two items - the first item in `names` and the first item in `hair`. \n",
    "\n",
    "Print `names_hair2`"
   ]
  },
  {
   "cell_type": "code",
   "execution_count": null,
   "metadata": {
    "collapsed": true
   },
   "outputs": [],
   "source": [
    "names_hair2 = [names[0],hair[0]]\n",
    "print(names_hair2)"
   ]
  },
  {
   "cell_type": "markdown",
   "metadata": {},
   "source": [
    "Use `append` to add the last item in `names` and then the last item of `hair` to `names_hair2`. \n",
    "\n",
    "Print names_hair2\n",
    "\n",
    "If you make a mistake use `.pop( )` or `.remove(value)`"
   ]
  },
  {
   "cell_type": "code",
   "execution_count": null,
   "metadata": {
    "collapsed": true
   },
   "outputs": [],
   "source": [
    "names_hair2.append(names[-1])\n",
    "names_hair2.append(hair[-1])\n",
    "print(names_hair2)"
   ]
  },
  {
   "cell_type": "markdown",
   "metadata": {},
   "source": [
    "Insert the 2nd item of `names` and then the 2nd item of `hair`. Print the result.\n",
    "\n",
    "This should result in a `List` with the following items:\n",
    "[name1, hair1, name2, hair2, name3, hair3]"
   ]
  },
  {
   "cell_type": "code",
   "execution_count": null,
   "metadata": {
    "collapsed": true
   },
   "outputs": [],
   "source": [
    "names_hair2.insert(2,names[1])"
   ]
  },
  {
   "cell_type": "code",
   "execution_count": null,
   "metadata": {
    "collapsed": true
   },
   "outputs": [],
   "source": [
    "names_hair2.insert(3,hair[1])"
   ]
  },
  {
   "cell_type": "code",
   "execution_count": null,
   "metadata": {
    "collapsed": true
   },
   "outputs": [],
   "source": [
    "print(names_hair2)"
   ]
  },
  {
   "cell_type": "markdown",
   "metadata": {},
   "source": [
    "# 5.  Loops with Lists\n",
    "\n",
    "The above exercise was probably a bit tedious. It would be much easier if we could do this using a `loop`.\n",
    "\n",
    "Just like with the `range` function, you can loop over any `List`.  \n",
    "\n",
    "The `for loop` below stores each item in the `List` we defined earlier, called `days`, to a variable `i` at each iteration."
   ]
  },
  {
   "cell_type": "code",
   "execution_count": 43,
   "metadata": {},
   "outputs": [
    {
     "name": "stdout",
     "output_type": "stream",
     "text": [
      "monday\n",
      "tuesday\n",
      "wednesday\n",
      "thursday\n",
      "friday\n",
      "sunday\n",
      "saturday\n"
     ]
    }
   ],
   "source": [
    "for i in days:\n",
    "    print(i)     # in this case i is not a number. it is the value of an item in days, which are `strings`"
   ]
  },
  {
   "cell_type": "code",
   "execution_count": null,
   "metadata": {
    "collapsed": true
   },
   "outputs": [],
   "source": [
    "# to see better what is going on in the loop, add a counter\n",
    "# this loop should execute for as long as there are elements in the array.\n",
    "len(days) # the loop should execute 7 times."
   ]
  },
  {
   "cell_type": "code",
   "execution_count": null,
   "metadata": {
    "collapsed": true
   },
   "outputs": [],
   "source": [
    "count = 0\n",
    "for i in days:\n",
    "    print(i)\n",
    "    count += 1\n",
    "    print(count)"
   ]
  },
  {
   "cell_type": "code",
   "execution_count": null,
   "metadata": {
    "collapsed": true
   },
   "outputs": [],
   "source": [
    "# let's try Exercise 4 again, but using loops. \n",
    "\n",
    "nh = [] # this is an empty list\n",
    "\n",
    "count= 0\n",
    "\n",
    "for i in names:\n",
    "    nh.append(i)\n",
    "    nh.append(hair[count])\n",
    "    count += 1\n",
    "\n",
    "print(nh) # this is outside the for loop because of the indentation.\n"
   ]
  },
  {
   "cell_type": "markdown",
   "metadata": {},
   "source": [
    "# Exercise 5\n",
    "\n",
    "a.)  Write a `for loop` that loops over the item in `names`, defined in Exercise 1, and computes the number of characters in each item of `names`.\n",
    " \n",
    "Each time the loop executes, print an f-string:  `f\"There are {characters} letters in {name}\"` \n",
    "\n",
    "Note the `len` function will also work on a `string`,  returning the number of characters in the string. E.g. : \n"
   ]
  },
  {
   "cell_type": "code",
   "execution_count": null,
   "metadata": {
    "collapsed": true
   },
   "outputs": [],
   "source": [
    "s = 'boooooo'  # a random string\n",
    "print(len(s))  # the number of characters in the string."
   ]
  },
  {
   "cell_type": "code",
   "execution_count": null,
   "metadata": {
    "collapsed": true
   },
   "outputs": [],
   "source": [
    "# loop over the list of names and print out the number of characters\n",
    "for n in names:\n",
    "    characters = len(n)\n",
    "    print(f'There are {characters} letters in {n}')"
   ]
  },
  {
   "cell_type": "markdown",
   "metadata": {},
   "source": [
    "b)  Define a `List` called `g` that contains the integers from 0 to 10, inclusively. \n",
    "\n",
    "Instead of writing out all the numbers explicitly, create the `List` using the `range` function. Do this with the following syntax: \n",
    "\n",
    "`g = list(range(n))`, where `n` here indicates the desired total number of items in the `List`\n",
    "\n",
    "Print `g` to the screen to make sure you understand what this does.\n",
    "\n",
    "Define an empty list `gg = []`  \n",
    "\n",
    "Create a `for loop` over `g`, storing each item in `g` into a variable `i`.\n",
    "\n",
    "Each time the loop executes, append `i` to the power of 3 to the initially empty list `gg`.\n",
    "\n",
    "Print `gg` "
   ]
  },
  {
   "cell_type": "code",
   "execution_count": null,
   "metadata": {
    "collapsed": true
   },
   "outputs": [],
   "source": [
    "g = list(range(11))\n",
    "#g = [0,1,2,3,4,5,6,7,8,9,10]\n",
    "print(g)"
   ]
  },
  {
   "cell_type": "code",
   "execution_count": null,
   "metadata": {
    "collapsed": true
   },
   "outputs": [],
   "source": [
    "gg = []\n",
    "for i in g:\n",
    "    gg.append(i**3)\n",
    "\n",
    "print(gg)"
   ]
  },
  {
   "cell_type": "markdown",
   "metadata": {},
   "source": [
    "# 6. Conditionals and Lists\n",
    "\n",
    "Booleans also exist with Lists. \n",
    "You can check if a certain value is in the `List`. If it's there, the expression returns `True`"
   ]
  },
  {
   "cell_type": "code",
   "execution_count": null,
   "metadata": {
    "collapsed": true
   },
   "outputs": [],
   "source": [
    "# recall our list of Arizonan animals\n",
    "print(animals)"
   ]
  },
  {
   "cell_type": "code",
   "execution_count": null,
   "metadata": {
    "collapsed": true
   },
   "outputs": [],
   "source": [
    "'scorpion' in animals"
   ]
  },
  {
   "cell_type": "code",
   "execution_count": null,
   "metadata": {
    "collapsed": true
   },
   "outputs": [],
   "source": [
    "'giraffe' in animals"
   ]
  },
  {
   "cell_type": "code",
   "execution_count": null,
   "metadata": {
    "collapsed": true
   },
   "outputs": [],
   "source": [
    "if ('rattlesnake' in animals) or ('scorpion' in animals):\n",
    "    print('run away')"
   ]
  },
  {
   "cell_type": "markdown",
   "metadata": {},
   "source": [
    "# 7.  Functions that return Lists\n",
    "\n",
    "Functions are used to store algorithms that we don't want to re-write over and over again. \n",
    "Often the desired output of a function is not a single value, but rather a list of values. \n",
    "\n",
    "Recall the syntax for a function is:\n",
    "\n",
    "    def function(<arguments separated by commas>):\n",
    "    \n",
    "        STATEMENT\n",
    "    \n",
    "        return <value>\n",
    "\n",
    "\n",
    "## Exercise 6 \n",
    "\n",
    "\n",
    "a) Let's define a function called `evens3ways` that takes as an input an integer `M` and returns all even numbers up to `M-1`. \n",
    " \n",
    " Illustrated are 3 equivalent ways to do this. Add comments (#) next to each line of code writing in your own words what is going on. Convince yourself that each example is equivalent."
   ]
  },
  {
   "cell_type": "code",
   "execution_count": null,
   "metadata": {
    "collapsed": true
   },
   "outputs": [],
   "source": [
    "# A function that returns all even numbers from 1 to M \n",
    "# uses three equivalent methods.\n",
    "def evens3ways(M):\n",
    "\n",
    "    # First Way\n",
    "    evens1 = []   \n",
    "    for i in range(1, M):\n",
    "        if i%2==0:\n",
    "            evens1.append(i)\n",
    "\n",
    "    # Second Way \n",
    "    evens2 = list(range(2,M))\n",
    "    for i in evens2:\n",
    "        if i%2 != 0:\n",
    "            evens2.remove(i)\n",
    "\n",
    "    # Third Way\n",
    "    evens3 = list(range(2,M,2))\n",
    "\n",
    "    print(evens1,\"\\n\", evens2, \"\\n\", evens3)"
   ]
  },
  {
   "cell_type": "code",
   "execution_count": null,
   "metadata": {
    "collapsed": true
   },
   "outputs": [],
   "source": []
  },
  {
   "cell_type": "markdown",
   "metadata": {},
   "source": [
    "b) Define a function `listofsqrs` that takes as an input an arbitray integer `M` and returns a `list` of the square of all integers from 1 up to and including `M`.\n",
    "\n",
    "So for an example supplied argument M=2, the function would return [1,4]\n",
    "\n",
    "This is very similar to exercise 5 b, except now we are defining the loop within a function."
   ]
  },
  {
   "cell_type": "code",
   "execution_count": null,
   "metadata": {
    "collapsed": true
   },
   "outputs": [],
   "source": [
    "def listofsqrs(M):\n",
    "    \"\"\"gives list of first M integers squared\"\"\"\n",
    "    sqrs = []\n",
    "    for i in range(1, M + 1):\n",
    "        sqrs.append(i**2)\n",
    "    return sqrs\n",
    "\n",
    "def los2(M):\n",
    "    \"\"\"alternate method to get list of M squares\"\"\"\n",
    "    sqrs = list(range(M))\n",
    "    for i in sqrs:\n",
    "        sqrs[i] = (i + 1)**2\n",
    "    return sqrs"
   ]
  },
  {
   "cell_type": "code",
   "execution_count": null,
   "metadata": {
    "collapsed": true
   },
   "outputs": [],
   "source": []
  },
  {
   "cell_type": "markdown",
   "metadata": {},
   "source": [
    "# Submitting Problem Sets for Grading\n",
    "\n",
    "When you're done with a notebook, click \"restart & clear all output\" from the kernel menu and then \"close and halt\" from the file menu. Then to shut down the notebook server, go back to the original window where you started things up and type ctrl-C. You will be asked for confirmation, and if you type y, the server will then shut down.\n",
    "\n",
    "Change the name of the notebook to user_name_ProblemSet5.ipynb\n",
    "\n",
    "Submit the notebook on D2L\n",
    "\n",
    "The problem set will be due before 5 PM the day before next class."
   ]
  },
  {
   "cell_type": "code",
   "execution_count": null,
   "metadata": {
    "collapsed": true
   },
   "outputs": [],
   "source": []
  }
 ],
 "metadata": {
  "kernelspec": {
   "display_name": "Python 3",
   "language": "python",
   "name": "python3"
  },
  "language_info": {
   "codemirror_mode": {
    "name": "ipython",
    "version": 3
   },
   "file_extension": ".py",
   "mimetype": "text/x-python",
   "name": "python",
   "nbconvert_exporter": "python",
   "pygments_lexer": "ipython3",
   "version": "3.6.1"
  }
 },
 "nbformat": 4,
 "nbformat_minor": 2
}
