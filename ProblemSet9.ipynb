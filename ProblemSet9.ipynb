{
 "cells": [
  {
   "cell_type": "markdown",
   "metadata": {},
   "source": [
    "# DO THIS :  \n",
    "\n",
    "### *** Names: [Insert Your Names Here;      Optional: indicate preferred pronouns]***\n",
    "\n",
    "# AND IN THE FILENAME"
   ]
  },
  {
   "cell_type": "markdown",
   "metadata": {},
   "source": [
    "# Problem Set 9             \n",
    "## PHYS 105A   Spring 2019\n",
    "\n",
    "## Contents\n",
    "\n",
    "Mastering the art of `matplotlib`:\n",
    "   1. The object-oriented interface \n",
    "   2. Creating and manipulating axes\n",
    "   3. Plots and scatter plots\n",
    "   4. Contour plots\n",
    "   5. Image plots\n",
    "\n",
    "** There are 4 exercises that must be completed. **"
   ]
  },
  {
   "cell_type": "code",
   "execution_count": null,
   "metadata": {
    "collapsed": true
   },
   "outputs": [],
   "source": [
    "import numpy as np\n",
    "import matplotlib.pyplot as plt\n",
    "%matplotlib inline"
   ]
  },
  {
   "cell_type": "code",
   "execution_count": null,
   "metadata": {
    "collapsed": true
   },
   "outputs": [],
   "source": [
    "plt.rcParams[\"figure.dpi\"] = 120"
   ]
  },
  {
   "cell_type": "markdown",
   "metadata": {},
   "source": [
    "We'll start by creating some data to plot in the following examples:"
   ]
  },
  {
   "cell_type": "code",
   "execution_count": null,
   "metadata": {
    "collapsed": true
   },
   "outputs": [],
   "source": [
    "x = np.linspace(0,8*np.pi,400)\n",
    "y1 = np.sin(x)\n",
    "y2 = np.exp(0.1*x)\n",
    "ys = np.random.random(len(x))"
   ]
  },
  {
   "cell_type": "markdown",
   "metadata": {},
   "source": [
    "`matplotlib.pyplot` has two modes of use:\n",
    " * The `pyplot` interface is designed to look as much as possible like MATLAB  \n",
    "   It is a \"state-based\" interface; when you make a change to a plot, `matplotlib` automatically keeps track of the various components of the plot (axes, lines, points, etc.). This mode is sometimes the easiest to use, but it doesn't provide the level of control provided by the other mode,\n",
    " * The \"object-oriented\" (OO) interface. In this interface, one explicitly creates Python objects for each element of a plot\n",
    "   and manipulates these objects to make changes in the plot. This gives one finer control over the look and behavior of the plot. The MATLAB interface is fine for doing simple, quick plots, but for anything fancier, the object-oriented interface is more intuitive.\n",
    "\n",
    "In this exercise, we will be using the object-oriented interface. This exercise is not meant to be an exhaustive list of matplotlib's capabilties -- such a document would be hundreds of pages long! Rather, this is just a taste of the most common kinds of plots, with a smattering of fancier features just for fun.\n",
    "\n",
    "We'll start with a simple plot just like those we have been making so far, but using the OO interface. \n",
    "\n",
    "I find that I start most of the plots I make in this way:\n",
    " * Start by making a figure and an axes object, often using the `plt.subplots` function\n",
    " * Add a line (or some other plot object) to the axes\n",
    " * Set properties of the axes like the plot limits and labels"
   ]
  },
  {
   "cell_type": "code",
   "execution_count": null,
   "metadata": {
    "collapsed": true
   },
   "outputs": [],
   "source": [
    "fig, ax = plt.subplots()      # create figure and axis objects\n",
    "\n",
    "ax.plot(x, y1)                # add a plot to the axis\n",
    "\n",
    "ax.set_xlim(-3,28)            # set limits for x axis\n",
    "ax.set_xlabel('xlabel')       # set label for each axis\n",
    "ax.set_ylabel('ylabel')\n",
    "ax.set_title('Axes Title')"
   ]
  },
  {
   "cell_type": "markdown",
   "metadata": {},
   "source": [
    "In `matplotlib` terminology, an \"axes\" object is a set of axes, usually with limits and one or more plot objects like lines and points on it. A \"figure\" is a collection of one or more axes, typically a complete plot window or sheet of paper or figure that you might include in a paper.\n",
    "\n",
    "In this example, we used the `subplots` function to create both a figure and an axes object. We then added a `plot` object (the line) and labels to the axes object.\n",
    "\n",
    "You can add as many \"objects\" to the axis as you like; the automatic scaling of the plot limits will take all objects into account if you don't set the limits explicitly"
   ]
  },
  {
   "cell_type": "code",
   "execution_count": null,
   "metadata": {
    "collapsed": true
   },
   "outputs": [],
   "source": [
    "fig, ax = plt.subplots()                # create figure and axes objects\n",
    "ax.plot(x, y1)                          # add a line plot to the axes\n",
    "ax.scatter(x, 5 * ys, color='g', s=1.5) # add a scatter plot to the axes\n",
    "ax.set_xlabel('xlabel')                 # set labels\n",
    "ax.set_ylabel('ylabel')"
   ]
  },
  {
   "cell_type": "markdown",
   "metadata": {},
   "source": [
    "It is often convenient to divide the various objects into two categories:\n",
    "\n",
    " * Objects which you place on a set of axes. The most common include lines, scatterplots, histograms, contour maps,  images, and text. Usually, when one adds one of these plot elements to an axes object, the axes object is modified in some default way, for example by automatically determining the values of the axis limits.\n",
    " \n",
    " * The axes themselves. These are usually manipulated to change the default behavior, to label various curves, or to set up a more complex plot. "
   ]
  },
  {
   "cell_type": "markdown",
   "metadata": {},
   "source": [
    "### Axes manipulation\n",
    "\n",
    "Let's play with the axes first. As an example, consider putting two lines on an axes object. Instead of letting matplotlib choose a set of limits which include all of the points on both curves, one can \"twin\" an axis - make an axis on the other side which uses use a different set of limits.\n",
    "\n",
    "Here we create a new twinned axes object called axright and use it to plot y2:"
   ]
  },
  {
   "cell_type": "code",
   "execution_count": null,
   "metadata": {
    "collapsed": true
   },
   "outputs": [],
   "source": [
    "fig, ax = plt.subplots()                     # make a figure and an axis object\n",
    "\n",
    "ax.plot(x, y1)                               # plot on the first axis\n",
    "ax.set(xlabel='X', ylabel='left data')       # you can use \"set\" to set multiple objects\n",
    "\n",
    "axright = ax.twinx()                         # make a right axis on the same axes object\n",
    "\n",
    "axright.plot(x, y2, 'r')                     # plot using the right \"twinned\" axis\n",
    "axright.set(ylabel='right data [in red]')"
   ]
  },
  {
   "cell_type": "markdown",
   "metadata": {},
   "source": [
    "#### Twinning an axis\n",
    "\n",
    "The object-oriented interface gives us great control over how a plot looks. It is, however, sometimes difficult to know what objects to change. Here, a web search is your friend. A bit of searching lead me to a stackoverflow posting to change the twinned axis to another color as follows.\n",
    "\n",
    "Individual axes within an axes object are called \"spines\". We can use the various objects within our axis to set various properties. In this case, I set the color of the twinned y axis to red, set the spine of that axis to red, and then set the ticks on the axis to red as well.\n",
    "\n",
    "This results in a plot which is much easier for the reader to interpret"
   ]
  },
  {
   "cell_type": "code",
   "execution_count": null,
   "metadata": {
    "collapsed": true
   },
   "outputs": [],
   "source": [
    "fig, ax = plt.subplots()                     # make a figure and an axis object\n",
    "\n",
    "ax.plot(x, y1, 'k')                          # plot on the first axis\n",
    "ax.set(xlabel='X', ylabel='left data')       # you can use \"set\" to set multiple objects\n",
    "\n",
    "axright = ax.twinx()                         # make a right axis on the same axes object\n",
    "\n",
    "axright.plot(x, y2, 'r')                     # plot using the right \"twinned\" axis\n",
    "axright.set(ylabel='right data')\n",
    "\n",
    "axright.yaxis.label.set_color('red')         # can set color of various objects\n",
    "axright.spines['right'].set_color('red')\n",
    "axright.tick_params(axis='y', colors='red')"
   ]
  },
  {
   "cell_type": "markdown",
   "metadata": {},
   "source": [
    "#### Multiple Subplots\n",
    "\n",
    "Another common need is for multiple axes in the same figure. For this, the simplest waty to start is to give arguments to `subplots` to specify the number of subplots (or panes) in each direction.\n",
    "\n",
    "In this case, `subplots` returns a `numpy` array of axes. The axes are numbered from the top down (and from left to right in the case of a 2D array of subplots):"
   ]
  },
  {
   "cell_type": "code",
   "execution_count": null,
   "metadata": {
    "collapsed": true
   },
   "outputs": [],
   "source": [
    "fig, ax = plt.subplots(nrows=3, ncols=1)         # create three axis objects, returned in an array\n",
    "\n",
    "ax[0].plot(x, y1)                                # panes are counted top down\n",
    "ax[1].plot(x, y2)\n",
    "ax[2].plot(x, ys)"
   ]
  },
  {
   "cell_type": "markdown",
   "metadata": {},
   "source": [
    "This doesn't look very good -- a common problem with multiple subplots is that matplotlib doesn't leave enough room for labels.\n",
    "\n",
    "We can fix this using the `subplots_adjust` function, asking matplotlib to leave extra space in the height direction using the `hspace` argument. Horizontal space is adjusted using the `wspace` argument."
   ]
  },
  {
   "cell_type": "code",
   "execution_count": null,
   "metadata": {
    "collapsed": true
   },
   "outputs": [],
   "source": [
    "fig, ax = plt.subplots(nrows=3, ncols=1)         # create three axis objects, returned in an array\n",
    "fig.subplots_adjust(hspace=0.75)  \n",
    "\n",
    "ax[0].plot(x, y1)                      # panes are counted top down\n",
    "ax[0].set_title('pane 0')\n",
    "ax[1].plot(x, y2)\n",
    "ax[1].set_title('pane 1')\n",
    "ax[2].plot(x, ys)\n",
    "ax[2].set_title('pane 2')"
   ]
  },
  {
   "cell_type": "markdown",
   "metadata": {},
   "source": [
    "Of course, these all have the same x-axis, so we can ask matplotlib to share the x-axis among all subplots, and then\n",
    "set the vertical space to zero"
   ]
  },
  {
   "cell_type": "code",
   "execution_count": null,
   "metadata": {
    "collapsed": true
   },
   "outputs": [],
   "source": [
    "fig, ax = plt.subplots(nrows=3, ncols=1, sharex=True)  \n",
    "fig.subplots_adjust(hspace=0)  \n",
    "ax[0].plot(x, y1)\n",
    "ax[1].plot(x, y2)\n",
    "ax[2].plot(x, ys)"
   ]
  },
  {
   "cell_type": "markdown",
   "metadata": {},
   "source": [
    "This is better, but the tick labels in the y direction tend to run together, making the plot difficult to read.\n",
    "We can move the ticks of the middle plot to the other side, and move the label to the right as well, by modifying their respective objects"
   ]
  },
  {
   "cell_type": "code",
   "execution_count": null,
   "metadata": {
    "collapsed": true
   },
   "outputs": [],
   "source": [
    "fig, ax = plt.subplots(nrows=3, ncols=1, sharex=True)  \n",
    "fig.subplots_adjust(hspace=0)\n",
    "\n",
    "ax[0].plot(x, y1)\n",
    "ax[0].set_ylabel('y1')\n",
    "\n",
    "ax[1].plot(x, y2)\n",
    "ax[1].yaxis.tick_right()                 # move ticks to the right side\n",
    "ax[1].set_ylabel('y2')\n",
    "ax[1].yaxis.set_label_position(\"right\")  # move the y label to the right side\n",
    "\n",
    "ax[2].plot(x, ys)\n",
    "ax[2].set_ylabel('ys')"
   ]
  },
  {
   "cell_type": "markdown",
   "metadata": {},
   "source": [
    "The axes for a two-dimensional grid of subplots is returned as a two-dimensional `numpy` array:"
   ]
  },
  {
   "cell_type": "code",
   "execution_count": null,
   "metadata": {
    "collapsed": true
   },
   "outputs": [],
   "source": [
    "fig, ax = plt.subplots(nrows=2, ncols=2)     # create four axes objects, returned in a 2D array\n",
    "\n",
    "ax[0,0].plot(x, y1)                          # panes are counted top down, and left-to-right\n",
    "ax[0,0].set_ylabel('sin(x)')\n",
    "ax[0,0].set_xlabel('time')\n",
    "\n",
    "ax[0,1].plot(x, y2)\n",
    "ax[0,1].set_ylabel('exp(x)')\n",
    "ax[0,1].set_xlabel('space')\n",
    "\n",
    "ax[1,0].plot(x, ys)\n",
    "ax[1,0].set_ylabel('noise')\n",
    "ax[1,0].set_xlabel('time')\n",
    "\n",
    "ax[1,1].plot(y1, y2)\n",
    "ax[1,1].set_ylabel('something')\n",
    "ax[1,1].set_xlabel('space')"
   ]
  },
  {
   "cell_type": "markdown",
   "metadata": {},
   "source": [
    "The defaults here are terrible! How to make room for the y labels of the right column of plots and make the x labels show up on the top row?\n",
    "\n",
    "We can use the `plt.tight_layout` function to automatically save room"
   ]
  },
  {
   "cell_type": "code",
   "execution_count": null,
   "metadata": {
    "collapsed": true
   },
   "outputs": [],
   "source": [
    "fig, ax = plt.subplots(nrows=2, ncols=2) # create four axis objects, returned in a 2D array\n",
    "\n",
    "ax[0,0].plot(x, y1)                      # panes are counted top down, and left-to-right\n",
    "ax[0,0].set_ylabel('sin(x)')\n",
    "ax[0,0].set_xlabel('time')\n",
    "\n",
    "ax[0,1].plot(x, y2)\n",
    "ax[0,1].set_ylabel('exp(x)')\n",
    "ax[0,1].set_xlabel('space')\n",
    "\n",
    "ax[1,0].plot(x, ys)\n",
    "ax[1,0].set_ylabel('noise')\n",
    "ax[1,0].set_xlabel('time')\n",
    "\n",
    "ax[1,1].plot(y1, y2)\n",
    "ax[1,1].set_ylabel('something')\n",
    "ax[1,1].set_xlabel('space')\n",
    "\n",
    "plt.tight_layout()                      # make more room for labels"
   ]
  },
  {
   "cell_type": "markdown",
   "metadata": {},
   "source": [
    "This might still confuse the reader, since it is not clear whether the y labels on the right column refer to the right column or the left one.\n",
    "\n",
    "A better solution might be to place the y-axis labels in the right column on the other side of the plot"
   ]
  },
  {
   "cell_type": "code",
   "execution_count": null,
   "metadata": {
    "collapsed": true
   },
   "outputs": [],
   "source": [
    "fig, ax = plt.subplots(nrows=2, ncols=2)         # create four axis objects, returned in a 2D array\n",
    "\n",
    "ax[0,0].plot(x, y1)                              # panes are counted top down, and left-to-right\n",
    "ax[0,0].set_ylabel('sin(x)')\n",
    "ax[0,0].set_xlabel('time')\n",
    "\n",
    "ax[1,0].plot(x, ys)\n",
    "ax[1,0].set_ylabel('noise')\n",
    "ax[1,0].set_xlabel('time')\n",
    "\n",
    "ax[0,1].plot(x, y2)\n",
    "ax[0,1].yaxis.set_label_position(\"right\")        # put labels and ticks on right side\n",
    "ax[0,1].yaxis.tick_right()\n",
    "ax[0,1].set_ylabel('exp(x)')\n",
    "ax[0,1].set_xlabel('space')\n",
    "\n",
    "ax[1,1].plot(y1, y2)\n",
    "ax[1,1].yaxis.set_label_position(\"right\")        # put labels and ticks on right side\n",
    "ax[1,1].yaxis.tick_right()\n",
    "ax[1,1].set_xlabel('space')\n",
    "ax[1,1].set_ylabel('something')\n",
    "\n",
    "plt.tight_layout() "
   ]
  },
  {
   "cell_type": "markdown",
   "metadata": {},
   "source": [
    "#### Manipulating Axis Spines\n",
    "\n",
    "The individual lines within a set of axes are called \"spines\". Sometimes you want to move these lines to a different location than the default. The `spines` object within an `axes` object gives us control over this:"
   ]
  },
  {
   "cell_type": "code",
   "execution_count": null,
   "metadata": {
    "collapsed": true
   },
   "outputs": [],
   "source": [
    "import numpy as np\n",
    "import matplotlib.pyplot as plt\n",
    "\n",
    "x = np.linspace(-3,3,100)         # an x-grid\n",
    "\n",
    "f0 = np.erf(0.5*np.pi*x)          # some random functions to plot\n",
    "f1 = np.tanh(x)\n",
    "f2 = 2/np.pi*np.arctan(np.pi/2*x)\n",
    "f3 = x/(np.sqrt(1+x**2))\n",
    "f4 = x/(1+np.abs(x))\n",
    "\n",
    "fig, ax = plt.subplots()          # get an axes object\n",
    "\n",
    "# here we set the spine placement based on data coordinates\n",
    "ax.spines['left'].set_position(('data', 0))\n",
    "ax.spines['bottom'].set_position(('data', 0))\n",
    "\n",
    "# and turn off the other two spines altogether\n",
    "ax.spines['right'].set_color('none')\n",
    "ax.spines['top'].set_color('none')\n",
    "\n",
    "ax.plot(x, f0) # finally, plot the lines\n",
    "ax.plot(x, f1)\n",
    "ax.plot(x, f2)\n",
    "ax.plot(x, f3)\n",
    "ax.plot(x, f4)"
   ]
  },
  {
   "cell_type": "markdown",
   "metadata": {},
   "source": [
    "#### XKCD-style Plots\n",
    "\n",
    "You can make a plot look hand-written, a la XKCD comics (xkcd.com), with the `plt.xkcd()` function.\n",
    "This takes a little bit of work to make it look right, and you need to install the \"humor-sans\" font on your system,\n",
    "but sometimes this is what you need to convey a point!"
   ]
  },
  {
   "cell_type": "code",
   "execution_count": null,
   "metadata": {
    "collapsed": true
   },
   "outputs": [],
   "source": [
    "x = np.linspace(-3,3,100)\n",
    "\n",
    "f0 = np.erf(0.5*np.pi*x)\n",
    "f1 = np.tanh(x)\n",
    "f2 = 2/np.pi*np.arctan(np.pi/2*x)\n",
    "f3 = x/(np.sqrt(1+x**2))\n",
    "f4 = x/(1+np.abs(x))\n",
    "\n",
    "with plt.xkcd():       # just use the xkcd style for this plot\n",
    "    fig, ax = plt.subplots()\n",
    "\n",
    "    ax.spines['left'].set_position(('data', 0.0))    # spine placement data centered\n",
    "    ax.spines['bottom'].set_position(('data', .0))\n",
    "    ax.spines['right'].set_color('none')             # no opposite side spines\n",
    "    ax.spines['top'].set_color('none')\n",
    "\n",
    "    ax.plot(x, f0)                                   # plot the functions\n",
    "    ax.plot(x, f1)\n",
    "    ax.plot(x, f2)\n",
    "    ax.plot(x, f3)\n",
    "    ax.plot(x, f4)\n",
    "\n",
    "    hsfont = {'fontname':'Humor Sans'}\n",
    "    ax.set_title('Math-y sort of plot', **hsfont)\n",
    "    ax.text(-4.25, 0.75, 'Lots of functions\\nwhich go through zero...', **hsfont, fontsize=12)\n",
    "    ax.text(1, 0.25, '...come out the other side', **hsfont, fontsize=12)\n",
    "    for tick in ax.get_xticklabels():\n",
    "        tick.set_fontname(\"Humor Sans\")\n",
    "    for tick in ax.get_yticklabels():\n",
    "        tick.set_fontname(\"Humor Sans\")\n"
   ]
  },
  {
   "cell_type": "markdown",
   "metadata": {},
   "source": [
    "### Plot Objects\n",
    "\n",
    "Now we have some experience customizing axes, let's have a look at some more plot objects to place on them.\n",
    "\n",
    "#### Markers\n",
    "\n",
    "The `plot` function can be used to plot points as well as lines. The shape of the point is called a \"marker\", and matplotlib supplies a wide variety of markers. Search for \"matplotlib markers\" to find a comprehensive list."
   ]
  },
  {
   "cell_type": "code",
   "execution_count": null,
   "metadata": {
    "collapsed": true
   },
   "outputs": [],
   "source": [
    "fig, ax = plt.subplots()\n",
    "x = np.arange(0, 2.1, 0.1)\n",
    "y = np.tanh(x)\n",
    "                                             # filled markers\n",
    "ax.plot(x, y, 'o')                           # circle\n",
    "ax.plot(x, y+0.2, 's')                       # square\n",
    "ax.plot(x, y+0.4, 'D')                       # diamond\n",
    "\n",
    "ax.plot(x, y+1, 'o', fillstyle='none')       # open markers\n",
    "ax.plot(x, y+1.2, 's', fillstyle='none')\n",
    "ax.plot(x, y+1.4, 'D', fillstyle='none')\n",
    "\n",
    "ax.plot(x, y-1, 'k.')                        # smaller points\n",
    "ax.plot(x, y-1.2, 'k,')                      # single pixels\n",
    "\n",
    "ax.plot(x, y-2, 'yd', markeredgecolor='r')   # different edge color from fill color on narrow diamond marker"
   ]
  },
  {
   "cell_type": "markdown",
   "metadata": {},
   "source": [
    "#### Line Styles\n",
    "\n",
    "We can change the line style from the default solid line to a variety of other forms."
   ]
  },
  {
   "cell_type": "code",
   "execution_count": null,
   "metadata": {
    "collapsed": true
   },
   "outputs": [],
   "source": [
    "fig, ax = plt.subplots()\n",
    "x = np.linspace(0,4*np.pi,100)\n",
    "y1 = np.sin(x)\n",
    "y2 = np.cos(x)\n",
    "y3 = 0.5*np.cos(2*x+0.5*np.pi)\n",
    "\n",
    "ax.plot(x,y1, 'b--')                              # dashed\n",
    "ax.plot(x,y2, 'g:')                               # dotted \n",
    "ax.plot(x,y3, color='darkcyan', linestyle='-.')   # alternating dots and dashes\n",
    "ax.plot(x, 1.2*np.ones_like(x), color='red', linestyle=(0, (1,3,1,3,1, 5, 3,1,3,1,3, 5, 1,3,1,3,1, 10)))  # SOS"
   ]
  },
  {
   "cell_type": "markdown",
   "metadata": {},
   "source": [
    "#### Unsorted Data\n",
    "\n",
    "Sometimes you have a line where the points are not in order, leading to a plot like this:"
   ]
  },
  {
   "cell_type": "code",
   "execution_count": null,
   "metadata": {
    "collapsed": true
   },
   "outputs": [],
   "source": [
    "x = 4*np.pi*np.random.random(500)\n",
    "y = np.sin(x)\n",
    "fig, ax = plt.subplots()\n",
    "ax.plot(x,y)"
   ]
  },
  {
   "cell_type": "markdown",
   "metadata": {},
   "source": [
    "One could, of course, sort the data into increasing order, but it is often simpler to use points. This removes the lines connecting the points which are causing the confusion."
   ]
  },
  {
   "cell_type": "code",
   "execution_count": null,
   "metadata": {
    "collapsed": true
   },
   "outputs": [],
   "source": [
    "fig, ax = plt.subplots()\n",
    "ax.plot(x,y,'.')"
   ]
  },
  {
   "cell_type": "markdown",
   "metadata": {},
   "source": [
    "The sorting trick, by the way, goes like this:\n",
    "\n",
    "When we sort an array, we are finding the *permutation* of the data (the order in which the data are listed) which brings the data into sorted order.\n",
    "\n",
    "If we are going to sort a collection of x and y points, we need to find the permutation which brings the x data into sorted order, but then apply that permuation to *both* the x and the y arrays so that every y coordinate is still associated with the appropriate x coordinate.\n",
    "\n",
    "`numpy` has a function `argsort` which doesn't sort the data, but instead returns an array, the *permutation vector*, which, when used as an index, places the data into sorted order. \n",
    "\n",
    "For the example data above, we can perform this trick as follows. Note that the data in the arrays x and y are not\n",
    "sorted; we only pass a sorted version to the `plot` function"
   ]
  },
  {
   "cell_type": "code",
   "execution_count": null,
   "metadata": {
    "collapsed": true
   },
   "outputs": [],
   "source": [
    "idx = np.argsort(x)         # find the permutation vector which sorts the x data\n",
    "\n",
    "fig, ax = plt.subplots()\n",
    "ax.plot(x[idx],y[idx])      # apply the permutation to both x and y"
   ]
  },
  {
   "cell_type": "markdown",
   "metadata": {},
   "source": [
    "#### Error Bars\n",
    "\n",
    "So far, we've been using the `plot` function to put data into our plots. `plot` is good for drawing lines and points. Especially when displaying data, we need to plot the error bars on the points. \n",
    "\n",
    "Let's make up some data to have something to plot and the use the `errorbar` function to plot the data. Note that one\n",
    "must use the `fmt` argument to specify the plot color and markers. The `capsize` argument gives the size of the end of the errorbars."
   ]
  },
  {
   "cell_type": "code",
   "execution_count": null,
   "metadata": {
    "collapsed": true
   },
   "outputs": [],
   "source": [
    "def planck(lam):                                 # function we might be trying to fit\n",
    "    return 1/(np.exp(1/lam)-1)/lam**5\n",
    "\n",
    "def experiment():                                # our simulated experiment, creating some data and error bars\n",
    "    N = 7\n",
    "    xd = np.random.random(N)                     # x of \"data\"\n",
    "    yd = planck(xd) + np.random.normal(0, 1, N)  # y of \"data\", displaced by random amount\n",
    "    yerr = 1+np.random.normal(1, 1, N)           # errorbar of \"data\" in y\n",
    "\n",
    "    return xd, yd, yerr\n",
    "\n",
    "\n",
    "np.random.seed(1209813)                          # seed the random number generator so we get the same points each time\n",
    "                                                 # we run this example\n",
    "    \n",
    "x = np.linspace(0.01, 1, 100)                    # make a line containing the \"model\" we might be trying to fit\n",
    "y = planck(x)\n",
    "\n",
    "xdata, ydata, yerrors = experiment()             # get the experimental data\n",
    "\n",
    "fig,ax = plt.subplots()\n",
    "ax.plot(x, y)\n",
    "ax.errorbar(xdata, ydata, yerr=yerrors, fmt='r.', capsize=3)"
   ]
  },
  {
   "cell_type": "markdown",
   "metadata": {},
   "source": [
    "One can put errorbars in both the x and the y directions"
   ]
  },
  {
   "cell_type": "code",
   "execution_count": null,
   "metadata": {
    "collapsed": true
   },
   "outputs": [],
   "source": [
    "def experiment():\n",
    "    N = 7\n",
    "    xd = np.random.random(N)                     # x of \"data\"\n",
    "    yd = planck(xd) + np.random.normal(0,1,N)    # y of \"data\", displaced by random amount\n",
    "    xerr = 0.025+np.random.normal(0.01, 0.01, N) # errorbar of \"data\" in x\n",
    "    yerr = 1+np.random.normal(1, 1, N)           # errorbar of \"data\" in y\n",
    "\n",
    "    return xd, yd, xerr, yerr\n",
    "\n",
    "\n",
    "np.random.seed(1209813)                     # seed the random number generator\n",
    "    \n",
    "x = np.linspace(0.01, 1, 100)               # function we might be trying to fit\n",
    "y = planck(x)\n",
    "\n",
    "fig,ax = plt.subplots()\n",
    "ax.plot(x,y)\n",
    "\n",
    "# first \"experiment\", filled circles\n",
    "xdata, ydata, xerrors, yerrors = experiment()\n",
    "ax.errorbar(xdata, ydata, xerr=xerrors, yerr=yerrors, fmt='ro', capsize=3)\n",
    "\n",
    "# second \"experiment\", open circles\n",
    "xdata, ydata, xerrors, yerrors = experiment()\n",
    "ax.errorbar(xdata, ydata, xerr=xerrors, yerr=yerrors, fmt='go', fillstyle='none', capsize=3)"
   ]
  },
  {
   "cell_type": "markdown",
   "metadata": {},
   "source": [
    "Sometimes errorbars are asymmetric -- they extend a different distance below and above the measured value. One can specify this by giving the error arguments a two-element list giving the lengths below and above the points"
   ]
  },
  {
   "cell_type": "code",
   "execution_count": null,
   "metadata": {
    "collapsed": true
   },
   "outputs": [],
   "source": [
    "np.random.seed(1209813)                     # seed the random number generator\n",
    "    \n",
    "x = np.linspace(0.01, 1, 100)               # function we might be trying to fit\n",
    "y = planck(x)\n",
    "\n",
    "fig,ax = plt.subplots()\n",
    "ax.plot(x,y)\n",
    "\n",
    "# first \"experiment\", filled circles\n",
    "xdata, ydata, xerrors, yerrors = experiment()\n",
    "ax.errorbar(xdata, ydata, xerr=xerrors, yerr=[yerrors/2, yerrors], fmt='ro', capsize=3)"
   ]
  },
  {
   "cell_type": "markdown",
   "metadata": {},
   "source": [
    "#### Text Objects\n",
    "\n",
    "One can place text within a plot using the `text` function.\n",
    "\n",
    "    ax.text(x,y,string)\n",
    "    \n",
    "places the beginning of the string at the given coordinates."
   ]
  },
  {
   "cell_type": "code",
   "execution_count": null,
   "metadata": {
    "collapsed": true
   },
   "outputs": [],
   "source": [
    "fig,ax = plt.subplots()\n",
    "ax.plot(x,y)\n",
    "ax.errorbar(xdata, ydata, xerr=xerrors, yerr=[yerrors/2, yerrors], fmt='ro', capsize=3)\n",
    "\n",
    "ax.text(0.25, 20, 'peak of Plank function')"
   ]
  },
  {
   "cell_type": "markdown",
   "metadata": {},
   "source": [
    "The alignment of the text with respect to the given coordinates can be varied using the `horizontalalignment` and `verticalalignment` arguments"
   ]
  },
  {
   "cell_type": "code",
   "execution_count": null,
   "metadata": {
    "collapsed": true
   },
   "outputs": [],
   "source": [
    "fig, ax = plt.subplots()\n",
    "ax.set_xlim(0,10)\n",
    "ax.set_ylim(0,5)\n",
    "\n",
    "ax.plot(1,3,'ro')\n",
    "ax.text(1,3,'left, top alignment', horizontalalignment='left', verticalalignment='top')\n",
    "ax.plot(1,2.5,'ro')\n",
    "ax.text(1,2.5,'left, center alignment', horizontalalignment='left', verticalalignment='center')\n",
    "ax.plot(1,2,'ro')\n",
    "ax.text(1,2,'left, bottom alignment', horizontalalignment='left', verticalalignment='bottom')\n",
    " \n",
    "ax.plot(9,2,'ro')\n",
    "ax.text(9,2,'right, top alignment', horizontalalignment='right', verticalalignment='top')\n",
    "ax.plot(9,1.5,'ro')\n",
    "ax.text(9,1.5,'right, center alignment', horizontalalignment='right', verticalalignment='center')\n",
    "ax.plot(9,1,'ro')\n",
    "ax.text(9,1,'right, bottom alignment', horizontalalignment='right', verticalalignment='bottom')\n",
    "\n",
    "\n",
    "ax.plot(6,4.5,'ro')\n",
    "ax.text(6,4.5,'center, top alignment',horizontalalignment='center', verticalalignment='top')\n",
    "ax.plot(6,4,'ro')\n",
    "ax.text(6,4,'center, center alignment',horizontalalignment='center', verticalalignment='center')\n",
    "ax.plot(6,3.5,'ro')\n",
    "ax.text(6,3.5,'center, bottom alignment',horizontalalignment='center', verticalalignment='bottom')\n"
   ]
  },
  {
   "cell_type": "markdown",
   "metadata": {},
   "source": [
    "One can change the size and the angle of the text as well:"
   ]
  },
  {
   "cell_type": "code",
   "execution_count": null,
   "metadata": {
    "collapsed": true
   },
   "outputs": [],
   "source": [
    "fig, ax = plt.subplots()\n",
    "\n",
    "ax.set(xlim=[-1,1], ylim=[-1,0.25])  # can use set for limits as well\n",
    "ax.text(-0.5, -0.5, 'uphill', rotation=45, fontsize=12,\n",
    "        horizontalalignment='center', color='green')\n",
    "ax.text(0.5, -0.5, 'downhill', rotation=-45, fontsize=16,\n",
    "        horizontalalignment='center', color='orange')\n",
    "\n",
    "ax.text(0, -0.2, 'upside down', rotation=0, fontsize=14,\n",
    "        horizontalalignment='center', color='red')\n",
    "ax.text(0, -0.2, 'nwod edispu', rotation=180, fontsize=14,\n",
    "        horizontalalignment='center', verticalalignment='top',color='red')"
   ]
  },
  {
   "cell_type": "markdown",
   "metadata": {},
   "source": [
    "#### Scatter Plots\n",
    "\n",
    "You have already used the `scatter` function in an earlier problem set. Let's make some random data to plot, drawing points from a normal distribution in each dimension"
   ]
  },
  {
   "cell_type": "code",
   "execution_count": null,
   "metadata": {
    "collapsed": true
   },
   "outputs": [],
   "source": [
    "mu = [0.5,1.0]\n",
    "sigma = [0.3, 0.6]\n",
    "N = 10000\n",
    "\n",
    "xpts = np.random.normal(loc=mu[0], scale=sigma[0], size=N)\n",
    "ypts = np.random.normal(loc=mu[1], scale=sigma[1], size=N)\n",
    "\n",
    "color = np.sqrt( (xpts-mu[0])**2 + (ypts-mu[1])**2 )     # color by radius\n",
    "size = (10*np.random.random(N))**2                       # random size"
   ]
  },
  {
   "cell_type": "code",
   "execution_count": null,
   "metadata": {
    "collapsed": true
   },
   "outputs": [],
   "source": [
    "fig, ax = plt.subplots()\n",
    "\n",
    "maxN = 30  # plot only the first maxN points\n",
    "\n",
    "ax.scatter(xpts[:maxN], ypts[:maxN], c=color[:maxN], s=size[:maxN])\n",
    "ax.set_xlim(-2,4)\n",
    "ax.set_ylim(-2,4)"
   ]
  },
  {
   "cell_type": "markdown",
   "metadata": {},
   "source": [
    "#### 1D Histograms\n",
    "\n",
    "Another useful way to display data is the histogram. Matplotlib provides the `hist` function. Do a web search for all of the various parameters available. Here, we give `hist` the data, the number of bins to use, and the range for the bins.\n",
    "You can easily see that the width of the distribution is wider in y than in x."
   ]
  },
  {
   "cell_type": "code",
   "execution_count": null,
   "metadata": {
    "collapsed": true
   },
   "outputs": [],
   "source": [
    "fig, ax = plt.subplots(nrows=1, ncols=2)\n",
    "\n",
    "ax[0].hist(xpts, bins=50, range=[-2,4])\n",
    "ax[0].set_xlabel('x')\n",
    "ax[0].set_ylabel('N')\n",
    "\n",
    "ax[1].hist(ypts, bins=50, range=[-2,4])\n",
    "ax[1].set_xlabel('y')\n",
    "ax[1].set_ylabel('N')\n",
    "\n",
    "plt.tight_layout()"
   ]
  },
  {
   "cell_type": "markdown",
   "metadata": {},
   "source": [
    "#### 2D Histograms\n",
    "\n",
    "We can also display these data as a 2D histogram, where the \"bins\" are rectangles in the coordinates, and the number of points in each bin is given by the color of the rectangle"
   ]
  },
  {
   "cell_type": "code",
   "execution_count": null,
   "metadata": {
    "collapsed": true
   },
   "outputs": [],
   "source": [
    "fig, ax = plt.subplots()\n",
    "stuff = ax.hist2d(xpts, ypts, bins=100, range=[[-2,4],[-2,4]]) # \"stuff =\" keeps jupyter notebook from printing out the \n",
    "                                                               # data returned by hist"
   ]
  },
  {
   "cell_type": "markdown",
   "metadata": {},
   "source": [
    "#### Colormaps\n",
    "\n",
    "In the previous plot `hist` has used the default mapping between the value in the bin and the color displayed. This mapping is known as a *colormap*. `hist` scales the data to a value between 0 and 1, and then applies the colormap.\n",
    "\n",
    "We can choose a different colormap"
   ]
  },
  {
   "cell_type": "code",
   "execution_count": null,
   "metadata": {
    "collapsed": true
   },
   "outputs": [],
   "source": [
    "fig, ax = plt.subplots()\n",
    "stuff = ax.hist2d(xpts, ypts, bins=100, range=[[-2,4],[-2,4]], cmap='hot')"
   ]
  },
  {
   "cell_type": "markdown",
   "metadata": {},
   "source": [
    "#### Colorbars\n",
    "\n",
    "We can add a \"colorbar\" to provide a scale for the number of points which fall into each bin:"
   ]
  },
  {
   "cell_type": "code",
   "execution_count": null,
   "metadata": {
    "collapsed": true,
    "scrolled": false
   },
   "outputs": [],
   "source": [
    "fig, ax = plt.subplots()\n",
    "h = ax.hist2d(xpts, ypts, bins=100, range=[[-2,4],[-2,4]], cmap='hot')\n",
    "\n",
    "cbar = plt.colorbar(h[3], ax=ax)  # the fourth component of h is the image object itself \n",
    "cbar.set_label('counts')\n",
    "\n",
    "ax.set_xlabel('x')\n",
    "ax.set_ylabel('y')"
   ]
  },
  {
   "cell_type": "markdown",
   "metadata": {},
   "source": [
    "#### Aspect Ratio\n",
    "\n",
    "A common problem is that matplotlib's axes default to be wider than they are high. In this case, we probably want a square image, reflecting the fact that there are the same number of bins in each direction -- the bins should appear square, and the distribution is narrower than the visual presentation suggests..."
   ]
  },
  {
   "cell_type": "code",
   "execution_count": null,
   "metadata": {
    "collapsed": true
   },
   "outputs": [],
   "source": [
    "fig, ax = plt.subplots()\n",
    "h = ax.hist2d(xpts, ypts, bins=100, range=[[-2,4],[-2,4]], cmap='hot')\n",
    "\n",
    "cbar = plt.colorbar(h[3], ax=ax)\n",
    "cbar.set_label('counts')\n",
    "\n",
    "ax.set_xlabel('x')\n",
    "ax.set_ylabel('y')\n",
    "\n",
    "ax.set_aspect('equal')    # set the aspect ratio to 1"
   ]
  },
  {
   "cell_type": "markdown",
   "metadata": {},
   "source": [
    "#### Contour Plots\n",
    "\n",
    "A contour plot gives similar information as a 2D histogram, but draws lines of constant function value instead of using a colormap.\n",
    "\n",
    "Let's make a 2D function on a grid. For this, one can use the numpy `meshgrid` function, which returns two arrays giving the x- and y-values on a 2D grid.\n",
    "\n",
    "Thus, the point i,j has coordinates (X[i,j], Y[i,j]) and we can use these arrays in a `numpy` expression"
   ]
  },
  {
   "cell_type": "code",
   "execution_count": null,
   "metadata": {
    "collapsed": true
   },
   "outputs": [],
   "source": [
    "x = np.linspace(0,1,5)                  # make an x and a y grid as 1D arrays\n",
    "y = np.linspace(2,3,3)\n",
    "\n",
    "X,Y = np.meshgrid(x,y)                  # make the 2D X and Y arrays\n",
    "\n",
    "print(\"X: constant x in a column:\")\n",
    "print(X)\n",
    "print()\n",
    "print(\"Y: constant y in a row:\")\n",
    "print(Y)"
   ]
  },
  {
   "cell_type": "markdown",
   "metadata": {},
   "source": [
    "We now use `meshgrid` to compute a function in 2D using `numpy` expressions, and then give the data to the `contour` function. The X array gives the X values, the Y array gives the Y values, and the Z array gives the function values, all  at each point in the grid."
   ]
  },
  {
   "cell_type": "code",
   "execution_count": null,
   "metadata": {
    "collapsed": true
   },
   "outputs": [],
   "source": [
    "# make a grid:\n",
    "delta = 0.025\n",
    "x = np.arange(-3.0, 3.0, delta)         # 1D arrays of x and y\n",
    "y = np.arange(-2.0, 2.0, delta)\n",
    "X, Y = np.meshgrid(x, y)                # 2D arrays giving x and y at the gridpoints\n",
    "\n",
    "Z1 = np.exp(-X**2 - Y**2)               # compute the function as a 2D array\n",
    "Z2 = np.exp(-(X - 1)**2 - (Y - 1)**2)   # using the X and Y coordinates\n",
    "Z = (Z1 - Z2) * 2\n",
    "\n",
    "fig, ax = plt.subplots()\n",
    "\n",
    "levels = [-1.5, -1, -0.5, 0, 0.5, 1, 1.5]  # the contour levels to plot\n",
    "contours = ax.contour(X, Y, Z, levels=levels)\n",
    "ax.clabel(contours,\n",
    "          inline=True,                     # label the contours by putting the values in line with the curve\n",
    "          fmt='%4.1f',                     # format for contour labels\n",
    "          fontsize=8)                      # font size for format labels\n",
    "\n",
    "ax.set_title('Some Crazy Function')"
   ]
  },
  {
   "cell_type": "markdown",
   "metadata": {},
   "source": [
    "#### Filled Contours\n",
    "\n",
    "We can also create a contour by coloring the plot. To do this, we use the `contourf` function"
   ]
  },
  {
   "cell_type": "code",
   "execution_count": null,
   "metadata": {
    "collapsed": true
   },
   "outputs": [],
   "source": [
    "delta = 0.025\n",
    "x = np.arange(-3.0, 3.0, delta)         # 1D arrays of x and y\n",
    "y = np.arange(-2.0, 2.0, delta)\n",
    "X, Y = np.meshgrid(x, y)                # 2D arrays giving x and y at the gridpoints\n",
    "\n",
    "Z1 = np.exp(-X**2 - Y**2)               # compute the function as a 2D array\n",
    "Z2 = np.exp(-(X - 1)**2 - (Y - 1)**2)   # using the X and Y coordinates\n",
    "Z = (Z1 - Z2) * 2\n",
    "\n",
    "fig, ax = plt.subplots()\n",
    "\n",
    "levels = np.arange(-2,2.5,0.5)\n",
    "ax.contourf(X, Y, Z, levels=levels)     # color contour levels\n",
    "\n",
    "ax.set_title('Some Crazy Function')"
   ]
  },
  {
   "cell_type": "markdown",
   "metadata": {},
   "source": [
    "Just as we added multiple `plot` objects, one can add multiples of these more complex plot objects.\n",
    "\n",
    "Here we add the contour lines to our filled-contour plot. When one color is chosen for the lines,\n",
    "negative contours are shown as dashed lines."
   ]
  },
  {
   "cell_type": "code",
   "execution_count": null,
   "metadata": {
    "collapsed": true
   },
   "outputs": [],
   "source": [
    "delta = 0.025\n",
    "x = np.arange(-3.0, 3.0, delta)         # 1D arrays of x and y\n",
    "y = np.arange(-2.0, 2.0, delta)\n",
    "X, Y = np.meshgrid(x, y)                # 2D arrays giving x and y at the gridpoints\n",
    "\n",
    "Z1 = np.exp(-X**2 - Y**2)               # compute the function as a 2D array\n",
    "Z2 = np.exp(-(X - 1)**2 - (Y - 1)**2)   # using the X and Y coordinates\n",
    "Z = (Z1 - Z2) * 2\n",
    "\n",
    "fig, ax = plt.subplots()\n",
    "\n",
    "levels = np.arange(-2,2.5,0.5)\n",
    "ax.contourf(X, Y, Z, levels=levels)        # color contour levels\n",
    "\n",
    "contours = ax.contour(X, Y, Z,             # draw contour lines\n",
    "                      levels=levels,\n",
    "                      colors='black')\n",
    "ax.clabel(contours,\n",
    "          colors='black',                  # set the contour label color to black\n",
    "          inline=True,                     # label the contours by putting the values in line with the curve\n",
    "          fmt='%4.1f',                     # format for contour labels\n",
    "          fontsize=8)                      # font size for format labels\n",
    "\n",
    "ax.set_title('Some Crazy Function')"
   ]
  },
  {
   "cell_type": "markdown",
   "metadata": {},
   "source": [
    "#### Displaying Images\n",
    "\n",
    "Matplotlib provides the `imshow` function to display a 2D array using a colormap."
   ]
  },
  {
   "cell_type": "code",
   "execution_count": null,
   "metadata": {
    "collapsed": true
   },
   "outputs": [],
   "source": [
    "x = np.linspace(0,10,100)\n",
    "y = np.linspace(-10,10,100)\n",
    "\n",
    "X, Y = np.meshgrid(x,y)\n",
    "\n",
    "Z = X + Y\n",
    "\n",
    "fig, ax = plt.subplots()\n",
    "ax.imshow(Z)\n"
   ]
  },
  {
   "cell_type": "markdown",
   "metadata": {},
   "source": [
    "The axis numbers in this plot represent the row and column numbers of the array. 0,0 is the lowest value of the function and it appears at the top left corner of the image.\n",
    "\n",
    "Often, one prefers to plot an image with the \"origin\" of the array indices at the lower-left corner. For this, one can use the `origin='lower'` argument"
   ]
  },
  {
   "cell_type": "code",
   "execution_count": null,
   "metadata": {
    "collapsed": true
   },
   "outputs": [],
   "source": [
    "fig, ax = plt.subplots()\n",
    "ax.imshow(Z, origin='lower')"
   ]
  },
  {
   "cell_type": "markdown",
   "metadata": {},
   "source": [
    "We can make `imshow` display the actual coordinates we used instead of the array indices by using the `extent` argument,\n",
    "giving it a list (or array) with [lower x, upper x, lower y, upper y]. The aspect ratio of the image is scaled to the data limits"
   ]
  },
  {
   "cell_type": "code",
   "execution_count": null,
   "metadata": {
    "collapsed": true
   },
   "outputs": [],
   "source": [
    "fig, ax = plt.subplots()\n",
    "ax.imshow(Z, origin='lower', extent=[x[0], x[-1], y[0], y[-1]])"
   ]
  },
  {
   "cell_type": "markdown",
   "metadata": {},
   "source": [
    "#### Finer Subplot Control: `gridspec`\n",
    "\n",
    "Returning to mainpulating axes, it is possible to customize the layout of multiple axes further using `gridspec` (which must be imported separately from `matplotlib.gridspec`). This is getting pretty fancy; for further information look at some of the `gridspec` tutorials in the matplotlib web site.\n",
    "\n",
    "As an example, here a 5 by 5 array or panes is created, but we assign the axes to span multiple panes.\n",
    "\n",
    "This plot should remind you of the previous problem set. The two line plots are the marginal probability distributions in $\\Omega_M$ and $\\Omega_\\Lambda$, and the contour plot is the joint probability distribution."
   ]
  },
  {
   "cell_type": "code",
   "execution_count": null,
   "metadata": {
    "collapsed": true
   },
   "outputs": [],
   "source": [
    "import matplotlib.gridspec as gridspec\n",
    "\n",
    "# make a fake probability distribution resembling the supernova result\n",
    "Ngrid = 200\n",
    "Om = 0.29\n",
    "Ol = 0.71\n",
    "x = np.linspace(0, 1.1, Ngrid)\n",
    "y = np.linspace(0, 1.1, Ngrid)\n",
    "X, Y = np.meshgrid(x, y)\n",
    "P = np.exp(-((X - Om)**2 + (Y - Ol)**2 - (X-Om) * (Y-Ol)) * 100)\n",
    "\n",
    "# and make the marginal distributions\n",
    "Px = np.sum(P, axis=0)\n",
    "Px = Px/np.sum(Px)\n",
    "Py = np.sum(P, axis=1)\n",
    "Py = Py/np.sum(Py)\n",
    "\n",
    "# create a figure\n",
    "fig = plt.figure(figsize=(6, 6))\n",
    "\n",
    "# create a gridspec -- a way to create multiple panes (subplots) in a figure\n",
    "gs = gridspec.GridSpec(ncols=5, nrows=5, figure=fig)\n",
    "\n",
    "# Create the main subplot axes: grid locations 1 through 4 in rows, and 0 through 3 in columns\n",
    "axmain = fig.add_subplot(gs[1:, :-1])\n",
    "\n",
    "# make a contour plot\n",
    "contours = axmain.contour(X, Y, 1-P, 3, colors='white', levels=[0.68, 0.95, 0.997])\n",
    "axmain.clabel(\n",
    "    contours,\n",
    "    inline=True,\n",
    "    fontsize=8,\n",
    ")\n",
    "\n",
    "# and an image plot\n",
    "axmain.imshow(P, extent=[x[0], x[-1], y[0], y[-1]], origin='lower', cmap='summer')\n",
    "axmain.set_xlabel('$\\Omega_M$')\n",
    "axmain.set_ylabel('$\\Omega_\\Lambda$')\n",
    "\n",
    "\n",
    "axx = fig.add_subplot(gs[0, :-1])          # add a pane at row=0, spanning columns 0 through 3\n",
    "axx.plot(x, Px)\n",
    "axx.get_shared_x_axes().join(axmain, axx)  # use the same axis limits as the main plot for x\n",
    "axx.xaxis.tick_top()                       # put x tick marks on top\n",
    "\n",
    "axy = fig.add_subplot(gs[1:, -1])          # add a pane at column 4, spanning rows 1 through 4\n",
    "axy.plot(Py, y)\n",
    "axy.get_shared_y_axes().join(axmain, axy)  # use the same axis limits as the main plot for y\n",
    "axy.yaxis.tick_right()                     # put y tick marks on right"
   ]
  },
  {
   "cell_type": "markdown",
   "metadata": {},
   "source": [
    "### Saving a Plot to a File\n",
    "\n",
    "Finally, one can save any plot to a file using the function `savefig(filename)`. The format of the file is determined by the extension to the given filename.\n",
    "\n",
    "Matplotlib often leaves a fair bit of whitespace surrounding the plot when saved to a file. To avoid this,\n",
    "one can use the `bbox_inches='tight'` argument to `savefig`.\n",
    "\n",
    "If one uses a fixed-resolution file type, like jpg or png, the image will be saved pixel-by-pixel. The resolution\n",
    "can be changed by specifying the `dpi` argument.\n",
    "\n",
    "If one uses a scalable file type like pdf, then the resulting plot will be scaled to the size it has when it is displayed.\n",
    "\n",
    "We can save the figure above with"
   ]
  },
  {
   "cell_type": "code",
   "execution_count": null,
   "metadata": {
    "collapsed": true
   },
   "outputs": [],
   "source": [
    "fig.savefig('myfig.png', dpi=92) # save to fixed-resolution png file at 92 dots per inch\n",
    "\n",
    "fig.savefig('myfig.pdf', bbox_inches='tight') # save to scalable pdf file, with as little white border as possible"
   ]
  },
  {
   "cell_type": "markdown",
   "metadata": {},
   "source": [
    "### Exercise 1:\n",
    "\n",
    "Let's try making a plot with some more interesting data. The file \"tucsondata.dat' contains digital elevation data from the NASA Shuttle Radar Topography Misson. It consists of the elevation above sea level on a grid of longitude and latitude at roughly 30 meter resolution. In the following exercises, we will make a topographic map of the Tucson region, annotating it with the locations of nearby observatories.\n",
    "\n",
    "The first five lines of the file give information about the data:\n",
    "\n",
    "    ncols:    2101          # number of rows (corresponds to latitude)\n",
    "    nrows:    1561          # number of columns (corresponds to longitude)\n",
    "    xll:      -111.75000    # longitude of center of first cell\n",
    "    yll:        31.50000    # latitude of center of first cell\n",
    "    cellsize: 0.000833      # cell width in degrees\n",
    "    \n",
    "The rest of the file consists of a list of integer values of the data on a longitude,latitude grid. You can read this part of the data using the `numpy` function `fromfile` as\n",
    "\n",
    "    np.fromfile(file, sep=\" \")\n",
    "\n",
    "where file is an open file object, and sep=\" \" means use a space as the separator between values.\n",
    "\n",
    "Here are some detailed instructions for how to go about making this rather complicated plot. Remember, after you complete a step, try it out to see if it works as intended.\n",
    "\n",
    "  * Step 1: Create a function to get the data. The first line should look like\n",
    "\n",
    "        def getData(filename):\n",
    "        \n",
    "    It should return the appropriate data, so it can be used as\n",
    "    \n",
    "        nrows, ncols, extent, height = getData('tucsondata.dat')\n",
    "  \n",
    "    The steps for writing this function are:\n",
    "\n",
    "     * Open the file for reading using the `with` statement. \n",
    "     * For the first five lines:\n",
    "       * Read the line\n",
    "       * Split the line by whitespace into a list of strings using the `split` function\n",
    "       * Convert the second string to an int or float as appropriate and set a variable to this value\n",
    "       * Note that you can chain the functions so that this process can be done in one line. For example\n",
    "       \n",
    "             nrows = int( file.readline().split()[1] )\n",
    "             \n",
    "         Take a moment to figure out exactly how this line works before you use it.\n",
    "         \n",
    "         The `extent` object to return is a list of four values:\n",
    "         \n",
    "             extent = [ long0, long1, lat0, lat1 ]\n",
    "             \n",
    "         giving the lower and upper limits for the data on each axis.  \n",
    "<br>       \n",
    "     * Next read in the data using the line\n",
    "     \n",
    "           height = np.fromfile(file, sep=\" \")\n",
    "           \n",
    "       * The data is read in as a one-dimensional array nrows\\*ncols long. To convert it to a 2D list, we use  \n",
    "         the numpy `reshape` function:\n",
    "     \n",
    "           height = height.reshape( (nrows, ncols) )\n",
    "           \n",
    "         This returns a `numpy` array with shape (nrows, ncols)\n",
    "         \n",
    "     * Return the data in the order given above.  \n",
    "  <br>\n",
    "  * Step 2: Now you have written the `getData` function, use it to read in the data:\n",
    "  \n",
    "         nrows, ncols, extent, height = getData('tucsondata.dat')\n",
    "         \n",
    "  * Step 3: Create a figure and an axes object using the `plt.subplots` function.\n",
    "  \n",
    "      * Use the keyword `figsize=(8,8)` to get a larger image  \n",
    "  <br>\n",
    "  * Step 4: Add an `imshow` object to the axes to plot an image of the data. \n",
    "\n",
    "      * You will need to use the `extent=extent` keyword to give the data limits in longitude and latitude\n",
    "      * You will need to use the `origin='lower'` keyword to put the origin (row=0,col=0) at the bottom left corner of the image.\n",
    "      * Use the 'terrain' colormap, with the keyword `cmap='terrain'`\n",
    "  \n",
    "The image is centered on Tucson. You should be able to recognize the Santa Catalina mountains to the north and the Rincon mountains to the east (right), separated by Gates Pass. To the south is Mt. Wrightson, and at the far west of the image are the Quinlin Mountains, with Kitt Peak at the north end, and the Baboquivari Mountains to the south. The Santa Cruz river drains the Tucson valley to the north west, and the San Pedro river valley runs to the north west, east of the Santa Catalinas. The three low points (small blue dots) around (31.9, -111.1) are deep, open-pit copper mines.\n",
    "  "
   ]
  },
  {
   "cell_type": "code",
   "execution_count": null,
   "metadata": {
    "collapsed": true
   },
   "outputs": [],
   "source": []
  },
  {
   "cell_type": "markdown",
   "metadata": {},
   "source": [
    "### Exercise 2:\n",
    "\n",
    "Now you have a plot with color keyed to elevation, add a colorbar showing the relation of color to altitude, using the example given above as a guide. Copy the plotting code of the previous exercise (not the definition of `getData`) into the cell below, and then add the colorbar code at the end. Label your colorbar \"altitude in feet\".\n",
    "\n",
    "If your colorbar is too large or too small, you can use the `shrink` argument to `plt.colorbar` to adjust the size.\n",
    "I find that `shrink=0.6` looks pretty good on my screen."
   ]
  },
  {
   "cell_type": "code",
   "execution_count": null,
   "metadata": {
    "collapsed": true
   },
   "outputs": [],
   "source": []
  },
  {
   "cell_type": "markdown",
   "metadata": {},
   "source": [
    "### Exercise 3:\n",
    "\n",
    "To make this look like a standard topographic map, we need to add contour lines of constant altitude.\n",
    "\n",
    " * Copy the plotting code from the previous exercise into the cell below.\n",
    " * Create arrays of the x (longitude) and y (latitude) coordinates using the data returned by the `getData` function.\n",
    "   These will be of length ncols and nrows, respectively.\n",
    " * Create two 2D arrays for the x- and y-coordinates using the `numpy.meshgrid` function as in the contour examples above.\n",
    " * Make the contour levels every 1000 feet from 0 to 10000 feet in elevation; this is a list given to the `levels` keyword of `contour`\n",
    " * Add the `contour` object to the axes. This will draw the contours on top of the image.\n",
    "\n",
    "Hint:\n",
    "  * If you give `linewidths=0.25` as an argument to `contour`,  the lines will look better than the default of 1.0.\n",
    "  "
   ]
  },
  {
   "cell_type": "code",
   "execution_count": null,
   "metadata": {
    "collapsed": true
   },
   "outputs": [],
   "source": []
  },
  {
   "cell_type": "markdown",
   "metadata": {},
   "source": [
    "### Exercise 4\n",
    "\n",
    "In the cell below is some data on observatories in the area covered by our map. Each entry in the list of lists has\n",
    "the elements:\n",
    "  1. latitude\n",
    "  2. longitude\n",
    "  3. name\n",
    "  4. horizontal alignment to use when writing the name -- whether to put the beginning or the ending of the name string at the given coordinate.\n",
    "\n",
    "Using this data,\n",
    " * Copy your plotting code from the previous exercise to the following cell.\n",
    " * Add some code to plot a red dot at the location of each observatory in the list.\n",
    " * When you have done this, add code to write the name of the observatory on the map, aligned according to the last entry.\n",
    " * Finally, add a title to the plot: \"Observatories in the Tucson Area\""
   ]
  },
  {
   "cell_type": "code",
   "execution_count": null,
   "metadata": {
    "collapsed": true
   },
   "outputs": [],
   "source": [
    "observatories = [ \n",
    "                    [-110.789,  32.442, ' Mt. Lemmon ',   'right'],\n",
    "                    [-110.733,  32.417, ' Mt. Bigelow ',  'left' ],\n",
    "                    [-110.885,  31.689, ' Mt. Hopkins ',  'right'],\n",
    "                    [-110.878,  31.681, ' F.L. Whipple ', 'left' ],\n",
    "                    [-110.949,  32.233, ' UA Campus ',    'left' ],\n",
    "                    [-111.006,  32.213, ' Tumamoc Hill ', 'right'],\n",
    "                    [-111.600,  31.963, ' Kitt Peak ',    'left' ],\n",
    "                    [-110.857,  32.315, \" Phil's House \", 'right']\n",
    "                ]"
   ]
  },
  {
   "cell_type": "code",
   "execution_count": null,
   "metadata": {
    "collapsed": true,
    "scrolled": false
   },
   "outputs": [],
   "source": []
  }
 ],
 "metadata": {
  "kernelspec": {
   "display_name": "Python 3",
   "language": "python",
   "name": "python3"
  },
  "language_info": {
   "codemirror_mode": {
    "name": "ipython",
    "version": 3
   },
   "file_extension": ".py",
   "mimetype": "text/x-python",
   "name": "python",
   "nbconvert_exporter": "python",
   "pygments_lexer": "ipython3",
   "version": "3.6.5"
  }
 },
 "nbformat": 4,
 "nbformat_minor": 2
}
